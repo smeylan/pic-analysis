{
 "cells": [
  {
   "cell_type": "code",
   "execution_count": 1,
   "metadata": {
    "collapsed": false
   },
   "outputs": [
    {
     "name": "stderr",
     "output_type": "stream",
     "text": [
      "/usr/local/lib/python2.7/dist-packages/rpy2/robjects/lib/ggplot2.py:59: UserWarning: This was designed againt ggplot2 version 2.0.0 but you have 2.1.0\n",
      "  warnings.warn('This was designed againt ggplot2 version %s but you have %s' % (TARGET_VERSION, ggplot2.__version__))\n"
     ]
    }
   ],
   "source": [
    "import sys, pandas\n",
    "sys.path.append('/home/stephan/python/clearpond')\n",
    "import clearpond\n",
    "import rpy2.robjects.lib.ggplot2 as ggplot2\n",
    "%load_ext rpy2.ipython"
   ]
  },
  {
   "cell_type": "code",
   "execution_count": 2,
   "metadata": {
    "collapsed": false
   },
   "outputs": [],
   "source": [
    "cp = clearpond.NeighborhoodDictionary('data/clearpond/englishCPdatabase2.txt')"
   ]
  },
  {
   "cell_type": "code",
   "execution_count": 3,
   "metadata": {
    "collapsed": false
   },
   "outputs": [],
   "source": [
    "cp_lengths = pandas.DataFrame([{'word':x,'wordLength':len(x), 'numNeighbors': len(cp.phoneNeighbors[x])} for x in cp.phoneNeighbors.keys()])\n",
    "%R -i cp_lengths"
   ]
  },
  {
   "cell_type": "code",
   "execution_count": 4,
   "metadata": {
    "collapsed": false
   },
   "outputs": [
    {
     "data": {
      "image/png": "[encoded data removed]"
     },
     "metadata": {},
     "output_type": "display_data"
    }
   ],
   "source": [
    "%%R\n",
    "library('colorRamps')\n",
    "library('ggplot2')\n",
    "library('hexbin')\n",
    "p1 = ggplot(subset(cp_lengths, wordLength <= 14 & wordLength >=2 )) + geom_boxplot(aes(x=as.factor(wordLength),y=numNeighbors),\n",
    "colour='black') + xlab('Word Length in Characters') + ylab(\"Number of Neighbors (Coltheart's N)\") + theme_bw() + theme(\n",
    "    panel.grid.major = element_blank(),\n",
    "    panel.grid.minor = element_blank(),\n",
    "    panel.border = element_blank(),\n",
    "    panel.background = element_blank(),\n",
    "    axis.line.x = element_line(colour='black'),\n",
    "    axis.line.y = element_line(colour='black')) \n",
    "print(p1)"
   ]
  }
 ],
 "metadata": {
  "kernelspec": {
   "display_name": "Python 2",
   "language": "python",
   "name": "python2"
  },
  "language_info": {
   "codemirror_mode": {
    "name": "ipython",
    "version": 2
   },
   "file_extension": ".py",
   "mimetype": "text/x-python",
   "name": "python",
   "nbconvert_exporter": "python",
   "pygments_lexer": "ipython2",
   "version": "2.7.6"
  }
 },
 "nbformat": 4,
 "nbformat_minor": 0
}
