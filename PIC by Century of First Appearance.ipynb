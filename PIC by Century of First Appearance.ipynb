{
 "cells": [
  {
   "cell_type": "code",
   "execution_count": 1,
   "metadata": {
    "collapsed": false
   },
   "outputs": [
    {
     "name": "stderr",
     "output_type": "stream",
     "text": [
      "Loading required package: RJSONIO\n",
      "\n",
      "Attaching package: 'reshape'\n",
      "\n",
      "The following objects are masked from 'package:plyr':\n",
      "\n",
      "    rename, round_any\n",
      "\n",
      "Loading required package: fit.models\n",
      "Loading required package: MASS\n",
      "Loading required package: robustbase\n",
      "Loading required package: rrcov\n",
      "Scalable Robust Estimators with High Breakdown Point (version 1.3-11)\n",
      "\n"
     ]
    }
   ],
   "source": [
    "library('ggplot2')\n",
    "library('plyr')\n",
    "library('lattice')\n",
    "library('parallel')\n",
    "source('ss_analysis.R')\n",
    "stopwords = read.csv('data/function_words/functionWords.csv', stringsAsFactors=F)\n",
    "plurals = read.csv('data/plurals/plurals.csv', stringsAsFactors=F)"
   ]
  },
  {
   "cell_type": "code",
   "execution_count": 2,
   "metadata": {
    "collapsed": false
   },
   "outputs": [],
   "source": [
    "oed = read.csv('data/OED/wordforms_combined.csv', stringsAsFactors=F)\n",
    "df_gb12_en_new = read.csv('results/GoogleBooks2012/eng-all/00_lexicalSurprisal/opus_meanSurprisal.csv', stringsAsFactors=F)\n",
    "df_gb12_en_new_sublex = read.csv('results/GoogleBooks2012/eng-all/01_sublexicalSurprisal/25000_sublex.csv', stringsAsFactors=F)\n",
    "df_gb12_m1 = merge(df_gb12_en_new, df_gb12_en_new_sublex, by='word')\n",
    "df_gb12_m1$logFrequency = log(df_gb12_m1$frequency)\n",
    "df_gb12_m1$unigramSurprisal = -1 *log(df_gb12_m1$frequency/sum(df_gb12_m1$frequency, na.rm=T))\n",
    "gb2012_swbd_dates = merge(df_gb12_m1, oed, by='word')\n",
    "gb2012_swbd_dates = subset(gb2012_swbd_dates, !is.infinite(ipa_ss) & !is.infinite(unigramSurprisal))\n",
    "gb2012_swbd_dates$yearMod  = sapply(gb2012_swbd_dates$year, function(x){ifelse(x<700, 700, x)})\n",
    "gb2012_swbd_dates = subset(gb2012_swbd_dates, !(word %in% stopwords$word) & !(word %in% plurals$word))\n",
    "gb2012_swbd_dates$century = ceiling(gb2012_swbd_dates$year / 100) *100 -100"
   ]
  },
  {
   "cell_type": "code",
   "execution_count": 3,
   "metadata": {
    "collapsed": false
   },
   "outputs": [
    {
     "name": "stdout",
     "output_type": "stream",
     "text": [
      "    uniSurp   triSurp     sm\n",
      "1 0.1678090 0.2010341  ipa_n\n",
      "2 0.4011361 0.3429785 ipa_ss\n",
      "    uniSurp   triSurp     sm\n",
      "1 0.1537793 0.1941184  ipa_n\n",
      "2 0.3503003 0.3221129 ipa_ss\n"
     ]
    }
   ],
   "source": [
    "print(getCorsForDataset(gb2012_swbd_dates))\n",
    "print(getCorsForDataset(gb2012_swbd_dates, robust=T))"
   ]
  },
  {
   "cell_type": "code",
   "execution_count": 4,
   "metadata": {
    "collapsed": false
   },
   "outputs": [],
   "source": [
    "# choose words in the analysis\n",
    "targetDataset = subset(gb2012_swbd_dates, century >= 800)\n",
    "\n",
    "# build a table of Spearman's rank correlation coefficients\n",
    "numformat <- function(val) { gsub(\"0\\\\.\", \".\", as.character(sprintf(\"%.2f\", val))) }\n",
    "get_spearman_cors = function(df){\n",
    "  sp_ipa_ss_trigramSurprisal = cor(df$ipa_ss, df$mean_surprisal_weighted, method='spearman', use='pairwise.complete.obs')\n",
    "  sp_ipa_ss_logFrequency = cor(df$ipa_ss, df$logFrequency, method='spearman', use='pairwise.complete.obs') \n",
    "  sp_ipa_n_trigramSurprisal = cor(df$ipa_n,df$mean_surprisal_weighted, method='spearman', use='pairwise.complete.obs')  \n",
    "  sp_ipa_n_logFrequency = cor(df$ipa_n,df$logFrequency, method='spearman', use='pairwise.complete.obs')\n",
    "  rdf = data.frame(\n",
    "      century= unique(df$century),\n",
    "      sp_ipa_ss_trigramSurprisal,\n",
    "      sp_ipa_ss_logFrequency,\n",
    "      sp_ipa_n_trigramSurprisal,\n",
    "      sp_ipa_n_logFrequency,\n",
    "       n=nrow(df))\n",
    "  for (colname in c('sp_ipa_ss_trigramSurprisal','sp_ipa_ss_logFrequency','sp_ipa_n_trigramSurprisal','sp_ipa_n_logFrequency')){ \n",
    "      rdf[[paste0(colname,'_str')]] = numformat(rdf[[colname]])\n",
    "  }    \n",
    "  return(rdf)  \n",
    "}\n",
    "spears <- do.call('rbind', lapply(split(targetDataset,targetDataset$century),get_spearman_cors))\n",
    "\n",
    "# get a count of types per century, merge it into the correlations table\n",
    "centuryCount = ddply(targetDataset, .(century), nrow)\n",
    "names(centuryCount) = c('century','wordCount')\n",
    "spears = merge(spears, centuryCount, by='century') \n",
    "\n",
    "#get the century-n into the target dataset \n",
    "targetDataset = merge(targetDataset, centuryCount, by='century')\n",
    "targetDataset$centuriesInLanguage = (2000 - targetDataset$century)/100\n",
    "\n",
    "#create labels for the correlations and the \n",
    "spears$century_n = paste0('n=',spears$wordCount)\n",
    "targetDataset$century_n = paste0(targetDataset$century,' (',targetDataset$wordCount, ')')"
   ]
  },
  {
   "cell_type": "code",
   "execution_count": 5,
   "metadata": {
    "collapsed": false
   },
   "outputs": [],
   "source": [
    "targetDataset$residual_ipa_ss = lm(ipa_ss ~ ipa_n, targetDataset)$residual\n",
    "targetDataset$residual_ipa_n = lm(ipa_n ~ ipa_ss, targetDataset)$residual\n",
    "targetDataset$centuriesInLanguage = (2000 - targetDataset$century)/100"
   ]
  },
  {
   "cell_type": "code",
   "execution_count": 6,
   "metadata": {
    "collapsed": true
   },
   "outputs": [],
   "source": [
    "targetDataset$residual_ipa_ss_freq = lm(ipa_ss ~ logFrequency, targetDataset)$residual\n",
    "targetDataset$residual_ipa_n_freq = lm(ipa_n ~ logFrequency, targetDataset)$residual"
   ]
  },
  {
   "cell_type": "code",
   "execution_count": 7,
   "metadata": {
    "collapsed": false
   },
   "outputs": [],
   "source": [
    "by_century = split(targetDataset, targetDataset$century)"
   ]
  },
  {
   "cell_type": "code",
   "execution_count": 8,
   "metadata": {
    "collapsed": true
   },
   "outputs": [],
   "source": [
    "bootstrappedCI = function(df, param1, param2, numIter, method='spearman'){\n",
    "    corrs = mat.or.vec(1,numIter)\n",
    "    for (i in 1:numIter){\n",
    "        sampleIndices = sample(1:nrow(df), nrow(df), replace=T)\n",
    "        ndf =df[sampleIndices,]         \n",
    "        corrs[i] = cor(ndf[[param1]], ndf[[param2]] , method, use='pairwise.complete.obs')\n",
    "    }        \n",
    "    return(corrs)    \n",
    "}"
   ]
  },
  {
   "cell_type": "code",
   "execution_count": 9,
   "metadata": {
    "collapsed": false
   },
   "outputs": [],
   "source": [
    "length_cis = do.call('rbind', mclapply(by_century, function(df){\n",
    "    corrs = bootstrappedCI(df, 'ipa_n','unigramSurprisal', 1000, method='spearman')\n",
    "    ci = quantile(corrs, probs=c(.005, .995))\n",
    "    data.frame(length_low=ci[1], length_high=ci[2], century=unique(df$century), measure='spearman', stringsAsFactors=F)\n",
    "    \n",
    "}, mc.cores=24))"
   ]
  },
  {
   "cell_type": "code",
   "execution_count": 10,
   "metadata": {
    "collapsed": false
   },
   "outputs": [],
   "source": [
    "ss_cis = do.call('rbind', mclapply(by_century, function(df){\n",
    "    corrs = bootstrappedCI(df, 'ipa_ss','unigramSurprisal', 1000, method='spearman')\n",
    "    ci = quantile(corrs, probs=c(.005, .995))\n",
    "    data.frame(ss_low=ci[1], ss_high=ci[2], century=unique(df$century), measure='spearman', stringsAsFactors=F)\n",
    "    \n",
    "}, mc.cores=24))"
   ]
  },
  {
   "cell_type": "code",
   "execution_count": 11,
   "metadata": {
    "collapsed": false
   },
   "outputs": [],
   "source": [
    "spears_aug = merge(merge(spears, length_cis), ss_cis)\n",
    "#library('reshape2')\n",
    "spears_long = melt(spears_aug,c('century','n','wordCount', 'century_n','measure'))"
   ]
  },
  {
   "cell_type": "code",
   "execution_count": 12,
   "metadata": {
    "collapsed": false
   },
   "outputs": [
    {
     "data": {
      "text/html": [
       "<table>\n",
       "<thead><tr><th scope=col>century</th><th scope=col>n</th><th scope=col>wordCount</th><th scope=col>century_n</th><th scope=col>measure</th><th scope=col>variable</th><th scope=col>value</th></tr></thead>\n",
       "<tbody>\n",
       "\t<tr><td>1000                      </td><td>1061                      </td><td>1061                      </td><td>n=1061                    </td><td>spearman                  </td><td>sp_ipa_ss_trigramSurprisal</td><td>0.3660660                 </td></tr>\n",
       "\t<tr><td>1100                      </td><td> 340                      </td><td> 340                      </td><td>n=340                     </td><td>spearman                  </td><td>sp_ipa_ss_trigramSurprisal</td><td>0.3636184                 </td></tr>\n",
       "\t<tr><td>1200                      </td><td>1680                      </td><td>1680                      </td><td>n=1680                    </td><td>spearman                  </td><td>sp_ipa_ss_trigramSurprisal</td><td>0.3307012                 </td></tr>\n",
       "</tbody>\n",
       "</table>\n"
      ],
      "text/latex": [
       "\\begin{tabular}{r|lllllll}\n",
       " century & n & wordCount & century\\_n & measure & variable & value\\\\\n",
       "\\hline\n",
       "\t 1000                             & 1061                             & 1061                             & n=1061                           & spearman                         & sp\\_ipa\\_ss\\_trigramSurprisal & 0.3660660                       \\\\\n",
       "\t 1100                             &  340                             &  340                             & n=340                            & spearman                         & sp\\_ipa\\_ss\\_trigramSurprisal & 0.3636184                       \\\\\n",
       "\t 1200                             & 1680                             & 1680                             & n=1680                           & spearman                         & sp\\_ipa\\_ss\\_trigramSurprisal & 0.3307012                       \\\\\n",
       "\\end{tabular}\n"
      ],
      "text/plain": [
       "  century n    wordCount century_n measure  variable                  \n",
       "1 1000    1061 1061      n=1061    spearman sp_ipa_ss_trigramSurprisal\n",
       "2 1100     340  340      n=340     spearman sp_ipa_ss_trigramSurprisal\n",
       "3 1200    1680 1680      n=1680    spearman sp_ipa_ss_trigramSurprisal\n",
       "  value    \n",
       "1 0.3660660\n",
       "2 0.3636184\n",
       "3 0.3307012"
      ]
     },
     "metadata": {},
     "output_type": "display_data"
    }
   ],
   "source": [
    "spears_long$value = as.numeric(spears_long$value)\n",
    "spears_long[1:3,]\n",
    "spears_means = subset(spears_long, variable %in% c('sp_ipa_ss_logFrequency', 'sp_ipa_n_logFrequency'))\n",
    "spears_means$variable = factor(as.character(spears_means$variable), levels=c('sp_ipa_ss_logFrequency', 'sp_ipa_n_logFrequency'))"
   ]
  },
  {
   "cell_type": "code",
   "execution_count": 13,
   "metadata": {
    "collapsed": false
   },
   "outputs": [],
   "source": [
    "names(ss_cis) = c('low','high','century','measure')\n",
    "ss_cis$variable = 'sp_ipa_ss_logFrequency'\n",
    "names(length_cis) = c('low','high','century','measure')\n",
    "length_cis$variable = 'sp_ipa_n_logFrequency'\n",
    "cis = rbind(ss_cis, length_cis)\n",
    "cis$low = as.numeric(cis$low)\n",
    "cis$high = as.numeric(cis$high)\n",
    "cis$variable = factor(as.character(cis$variable), levels=c('sp_ipa_ss_logFrequency', 'sp_ipa_n_logFrequency'))"
   ]
  },
  {
   "cell_type": "code",
   "execution_count": 16,
   "metadata": {
    "collapsed": false
   },
   "outputs": [
    {
     "data": {
      "text/html": [
       "<strong>png:</strong> 2"
      ],
      "text/latex": [
       "\\textbf{png:} 2"
      ],
      "text/markdown": [
       "**png:** 2"
      ],
      "text/plain": [
       "png \n",
       "  2 "
      ]
     },
     "metadata": {},
     "output_type": "display_data"
    },
    {
     "data": {},
     "metadata": {},
     "output_type": "display_data"
    },
    {
     "data": {
      "image/png": "[encoded data removed]"
     },
     "metadata": {},
     "output_type": "display_data"
    }
   ],
   "source": [
    "options(repr.plot.width=4, repr.plot.height=4, jupyter.plot_mimetypes = 'image/png')\n",
    "dodge <- position_dodge(width=10) \n",
    "histPlot_CI = ggplot() + geom_linerange(data=cis, aes(x=century, ymin=low, ymax=high, colour=variable), position=dodge) + geom_line(\n",
    "    data = spears_means, aes(y= -1*value,x=century, colour=variable)) + geom_point(data = spears_means,\n",
    "    aes(y= -1*value,x=century,size=n, colour=variable), position=dodge) + theme_bw(base_size = 16) + xlab('Century of First Appearance'\n",
    ") + ylab(expression(paste(\"Spearman's \",rho))) +theme(legend.position=\"none\") + scale_x_continuous(\n",
    "    breaks = seq(from=800,to=2000, by=200), labels=as.character(seq(from=8,to=20, by=2)))  +theme(\n",
    "    axis.line.x = element_line(color=\"black\", size = .25),\n",
    "    axis.line.y = element_line(color=\"black\", size = .25),\n",
    "    panel.grid.major = element_blank(),\n",
    "    panel.grid.minor = element_blank(),\n",
    "    panel.border = element_blank(),\n",
    "    panel.background = element_blank()\n",
    ") + annotate(\"text\",x=1550, y=.46,label='Frequency vs. PIC', size=6, colour = '#F8766D' \n",
    ") + annotate(\"text\",x=1575, y=.12,label='Frequency vs. Length', size=6, colour=\"#00BFC4\")\n",
    "\n",
    "pdf('figures/histPlot_CIs.pdf', height=4, width=6)\n",
    "print(histPlot_CI)\n",
    "dev.off()\n",
    "histPlot_CI"
   ]
  }
 ],
 "metadata": {
  "kernelspec": {
   "display_name": "R",
   "language": "R",
   "name": "ir"
  },
  "language_info": {
   "codemirror_mode": "r",
   "file_extension": ".r",
   "mimetype": "text/x-r-source",
   "name": "R",
   "pygments_lexer": "r",
   "version": "3.3.2"
  }
 },
 "nbformat": 4,
 "nbformat_minor": 0
}
