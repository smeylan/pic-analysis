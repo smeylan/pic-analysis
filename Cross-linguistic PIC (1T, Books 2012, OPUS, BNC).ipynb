{
 "cells": [
  {
   "cell_type": "code",
   "execution_count": null,
   "metadata": {},
   "outputs": [],
   "source": [
    "library('ggplot2')\n",
    "library('plyr')\n",
    "library('tidyr')\n",
    "library('parallel')\n",
    "library('lme4')\n",
    "source('ss_analysis.R')\n",
    "library(\"scales\")\n",
    "reverselog_trans <- function(base = exp(1)) {\n",
    "    trans <- function(x) -log(x, base)\n",
    "    inv <- function(x) base^(-x)\n",
    "    trans_new(paste0(\"reverselog-\", format(base)), trans, inv, \n",
    "              log_breaks(base = base), \n",
    "              domain = c(1e-100, Inf))\n",
    "}"
   ]
  },
  {
   "cell_type": "code",
   "execution_count": null,
   "metadata": {},
   "outputs": [],
   "source": [
    "# if exists, load data, skip Cross-Linguistic correlations section\n",
    "load('crosslinguistic_pic2.RData')"
   ]
  },
  {
   "cell_type": "markdown",
   "metadata": {},
   "source": [
    "# Cross-Linguistic Correlations"
   ]
  },
  {
   "cell_type": "markdown",
   "metadata": {},
   "source": [
    "### Google 1T"
   ]
  },
  {
   "cell_type": "code",
   "execution_count": 2,
   "metadata": {},
   "outputs": [
    {
     "name": "stdout",
     "output_type": "stream",
     "text": [
      "[1] \"original number in ENGLISH: 49905\"\n",
      "[1] \"Limiting analysis\"\n",
      "[1] \"Filtering...\"\n",
      "[1] \"filtered number in ENGLISH: 25000\"\n",
      "[1] \"Getting correlations\"\n",
      "[1] \"At the dictionary check\"\n",
      "[1] \"languageCode: NA\"\n",
      "[1] \"original number in SPANISH: 49916\"\n",
      "[1] \"Limiting analysis\"\n",
      "[1] \"Filtering...\"\n",
      "[1] \"filtered number in SPANISH: 25000\"\n",
      "[1] \"Getting correlations\"\n",
      "[1] \"At the dictionary check\"\n",
      "[1] \"languageCode: NA\"\n",
      "[1] \"original number in FRENCH: 49826\"\n",
      "[1] \"Limiting analysis\"\n",
      "[1] \"Filtering...\"\n",
      "[1] \"filtered number in FRENCH: 25000\"\n",
      "[1] \"Getting correlations\"\n",
      "[1] \"At the dictionary check\"\n",
      "[1] \"languageCode: NA\"\n",
      "[1] \"original number in DUTCH: 49910\"\n",
      "[1] \"Limiting analysis\"\n",
      "[1] \"Filtering...\"\n",
      "[1] \"filtered number in DUTCH: 25000\"\n",
      "[1] \"Getting correlations\"\n",
      "[1] \"At the dictionary check\"\n",
      "[1] \"languageCode: NA\"\n",
      "[1] \"original number in GERMAN: 49705\"\n",
      "[1] \"Limiting analysis\"\n",
      "[1] \"Filtering...\"\n",
      "[1] \"filtered number in GERMAN: 25000\"\n",
      "[1] \"Getting correlations\"\n",
      "[1] \"At the dictionary check\"\n",
      "[1] \"languageCode: NA\"\n",
      "[1] \"original number in SWEDISH: 49896\"\n",
      "[1] \"Limiting analysis\"\n",
      "[1] \"Filtering...\"\n",
      "[1] \"filtered number in SWEDISH: 25000\"\n",
      "[1] \"Getting correlations\"\n",
      "[1] \"At the dictionary check\"\n",
      "[1] \"languageCode: NA\"\n",
      "[1] \"original number in CZECH: 49887\"\n",
      "[1] \"Limiting analysis\"\n",
      "[1] \"Filtering...\"\n",
      "[1] \"filtered number in CZECH: 25000\"\n",
      "[1] \"Getting correlations\"\n",
      "[1] \"At the dictionary check\"\n",
      "[1] \"languageCode: NA\"\n",
      "[1] \"original number in POLISH: 49854\"\n",
      "[1] \"Limiting analysis\"\n",
      "[1] \"Filtering...\"\n",
      "[1] \"filtered number in POLISH: 25000\"\n",
      "[1] \"Getting correlations\"\n",
      "[1] \"At the dictionary check\"\n",
      "[1] \"languageCode: NA\"\n",
      "[1] \"original number in ROMANIAN: 49700\"\n",
      "[1] \"Limiting analysis\"\n",
      "[1] \"Filtering...\"\n",
      "[1] \"filtered number in ROMANIAN: 25000\"\n",
      "[1] \"Getting correlations\"\n",
      "[1] \"At the dictionary check\"\n",
      "[1] \"languageCode: NA\"\n",
      "[1] \"original number in ITALIAN: 49770\"\n",
      "[1] \"Limiting analysis\"\n",
      "[1] \"Filtering...\"\n",
      "[1] \"filtered number in ITALIAN: 25000\"\n",
      "[1] \"Getting correlations\"\n",
      "[1] \"At the dictionary check\"\n",
      "[1] \"languageCode: NA\"\n",
      "[1] \"original number in PORTUGUESE: 49744\"\n",
      "[1] \"Limiting analysis\"\n",
      "[1] \"Filtering...\"\n",
      "[1] \"filtered number in PORTUGUESE: 25000\"\n",
      "[1] \"Getting correlations\"\n",
      "[1] \"At the dictionary check\"\n",
      "[1] \"languageCode: NA\"\n"
     ]
    }
   ],
   "source": [
    "source('ss_analysis.R')\n",
    "languages = c('ENGLISH',\"SPANISH\",'FRENCH', 'DUTCH', 'GERMAN','SWEDISH','CZECH','POLISH','ROMANIAN','ITALIAN','PORTUGUESE')\n",
    "withoutEndMarker = lapply(languages, function(language){getScoresForLanguage(\n",
    "    '/shared_hd2/models/ss/10-17-17_GoogleUnigram', 'Google1T','25000',language, endMarker=T,  corMethod='spearman', opusFilter=T)})"
   ]
  },
  {
   "cell_type": "code",
   "execution_count": 3,
   "metadata": {},
   "outputs": [
    {
     "data": {
      "text/html": [
       "<table>\n",
       "<thead><tr><th></th><th scope=col>yv</th><th scope=col>xv</th><th scope=col>resid_var</th><th scope=col>meanBootstrap</th><th scope=col>singleCor</th><th scope=col>lower</th><th scope=col>upper</th><th scope=col>pvalue</th><th scope=col>direction</th><th scope=col>corMethod</th><th scope=col>residualize</th><th scope=col>endMarker</th><th scope=col>language</th></tr></thead>\n",
       "<tbody>\n",
       "\t<tr><th scope=row>32</th><td>character_ss</td><td>frequency   </td><td>NA          </td><td>-0.223087853</td><td>-0.222910535</td><td>-0.23846991 </td><td>-0.20671386 </td><td>NA          </td><td>NA          </td><td>spearman    </td><td>FALSE       </td><td>TRUE        </td><td>English     </td></tr>\n",
       "\t<tr><th scope=row>33</th><td>ortho_n     </td><td>frequency   </td><td>NA          </td><td>-0.181874435</td><td>-0.181764517</td><td>-0.19709290 </td><td>-0.16536064 </td><td>NA          </td><td>NA          </td><td>spearman    </td><td>FALSE       </td><td>TRUE        </td><td>English     </td></tr>\n",
       "\t<tr><th scope=row>35</th><td>character_ss</td><td>frequency   </td><td>ortho_n     </td><td>-0.121492639</td><td>-0.121568098</td><td>-0.13645640 </td><td>-0.10569688 </td><td>NA          </td><td>NA          </td><td>spearman    </td><td> TRUE       </td><td>TRUE        </td><td>English     </td></tr>\n",
       "\t<tr><th scope=row>36</th><td>ortho_n     </td><td>frequency   </td><td>character_ss</td><td>-0.008851466</td><td>-0.008778512</td><td>-0.02502575 </td><td> 0.00651044 </td><td>NA          </td><td>NA          </td><td>spearman    </td><td> TRUE       </td><td>TRUE        </td><td>English     </td></tr>\n",
       "</tbody>\n",
       "</table>\n"
      ],
      "text/latex": [
       "\\begin{tabular}{r|lllllllllllll}\n",
       "  & yv & xv & resid\\_var & meanBootstrap & singleCor & lower & upper & pvalue & direction & corMethod & residualize & endMarker & language\\\\\n",
       "\\hline\n",
       "\t32 & character\\_ss & frequency      & NA             & -0.223087853   & -0.222910535   & -0.23846991    & -0.20671386    & NA             & NA             & spearman       & FALSE          & TRUE           & English       \\\\\n",
       "\t33 & ortho\\_n      & frequency      & NA             & -0.181874435   & -0.181764517   & -0.19709290    & -0.16536064    & NA             & NA             & spearman       & FALSE          & TRUE           & English       \\\\\n",
       "\t35 & character\\_ss & frequency      & ortho\\_n      & -0.121492639   & -0.121568098   & -0.13645640    & -0.10569688    & NA             & NA             & spearman       &  TRUE          & TRUE           & English       \\\\\n",
       "\t36 & ortho\\_n      & frequency      & character\\_ss & -0.008851466   & -0.008778512   & -0.02502575    &  0.00651044    & NA             & NA             & spearman       &  TRUE          & TRUE           & English       \\\\\n",
       "\\end{tabular}\n"
      ],
      "text/markdown": [
       "\n",
       "| <!--/--> | yv | xv | resid_var | meanBootstrap | singleCor | lower | upper | pvalue | direction | corMethod | residualize | endMarker | language | \n",
       "|---|---|---|---|\n",
       "| 32 | character_ss | frequency    | NA           | -0.223087853 | -0.222910535 | -0.23846991  | -0.20671386  | NA           | NA           | spearman     | FALSE        | TRUE         | English      | \n",
       "| 33 | ortho_n      | frequency    | NA           | -0.181874435 | -0.181764517 | -0.19709290  | -0.16536064  | NA           | NA           | spearman     | FALSE        | TRUE         | English      | \n",
       "| 35 | character_ss | frequency    | ortho_n      | -0.121492639 | -0.121568098 | -0.13645640  | -0.10569688  | NA           | NA           | spearman     |  TRUE        | TRUE         | English      | \n",
       "| 36 | ortho_n      | frequency    | character_ss | -0.008851466 | -0.008778512 | -0.02502575  |  0.00651044  | NA           | NA           | spearman     |  TRUE        | TRUE         | English      | \n",
       "\n",
       "\n"
      ],
      "text/plain": [
       "   yv           xv        resid_var    meanBootstrap singleCor    lower      \n",
       "32 character_ss frequency NA           -0.223087853  -0.222910535 -0.23846991\n",
       "33 ortho_n      frequency NA           -0.181874435  -0.181764517 -0.19709290\n",
       "35 character_ss frequency ortho_n      -0.121492639  -0.121568098 -0.13645640\n",
       "36 ortho_n      frequency character_ss -0.008851466  -0.008778512 -0.02502575\n",
       "   upper       pvalue direction corMethod residualize endMarker language\n",
       "32 -0.20671386 NA     NA        spearman  FALSE       TRUE      English \n",
       "33 -0.16536064 NA     NA        spearman  FALSE       TRUE      English \n",
       "35 -0.10569688 NA     NA        spearman   TRUE       TRUE      English \n",
       "36  0.00651044 NA     NA        spearman   TRUE       TRUE      English "
      ]
     },
     "metadata": {},
     "output_type": "display_data"
    }
   ],
   "source": [
    "subset(withoutEndMarker[[1]]$score, xv == 'frequency' & yv %in% c('character_ss', 'ortho_n')) "
   ]
  },
  {
   "cell_type": "code",
   "execution_count": 4,
   "metadata": {},
   "outputs": [
    {
     "data": {
      "text/html": [
       "<table>\n",
       "<thead><tr><th></th><th scope=col>yv</th><th scope=col>xv</th><th scope=col>resid_var</th><th scope=col>meanBootstrap</th><th scope=col>singleCor</th><th scope=col>lower</th><th scope=col>upper</th><th scope=col>pvalue</th><th scope=col>direction</th><th scope=col>corMethod</th><th scope=col>residualize</th><th scope=col>endMarker</th><th scope=col>language</th></tr></thead>\n",
       "<tbody>\n",
       "\t<tr><th scope=row>56</th><td>unigramSurprisal</td><td>ortho_n         </td><td>NA              </td><td>0.18188683      </td><td>0.18176452      </td><td>0.16613406      </td><td>0.19775778      </td><td>NA              </td><td>NA              </td><td>spearman        </td><td>FALSE           </td><td>TRUE            </td><td>English         </td></tr>\n",
       "\t<tr><th scope=row>57</th><td>trigramSurprisal</td><td>ortho_n         </td><td>NA              </td><td>0.32634149      </td><td>0.32639171      </td><td>0.31167224      </td><td>0.34133427      </td><td>NA              </td><td>NA              </td><td>spearman        </td><td>FALSE           </td><td>TRUE            </td><td>English         </td></tr>\n",
       "\t<tr><th scope=row>59</th><td>unigramSurprisal</td><td>ortho_n         </td><td>trigramSurprisal</td><td>0.04624788      </td><td>0.04631042      </td><td>0.03009971      </td><td>0.06184564      </td><td>NA              </td><td>NA              </td><td>spearman        </td><td> TRUE           </td><td>TRUE            </td><td>English         </td></tr>\n",
       "\t<tr><th scope=row>60</th><td>trigramSurprisal</td><td>ortho_n         </td><td>unigramSurprisal</td><td>0.26962204      </td><td>0.26947889      </td><td>0.25480670      </td><td>0.28447665      </td><td>NA              </td><td>NA              </td><td>spearman        </td><td> TRUE           </td><td>TRUE            </td><td>English         </td></tr>\n",
       "</tbody>\n",
       "</table>\n"
      ],
      "text/latex": [
       "\\begin{tabular}{r|lllllllllllll}\n",
       "  & yv & xv & resid\\_var & meanBootstrap & singleCor & lower & upper & pvalue & direction & corMethod & residualize & endMarker & language\\\\\n",
       "\\hline\n",
       "\t56 & unigramSurprisal & ortho\\_n        & NA               & 0.18188683       & 0.18176452       & 0.16613406       & 0.19775778       & NA               & NA               & spearman         & FALSE            & TRUE             & English         \\\\\n",
       "\t57 & trigramSurprisal & ortho\\_n        & NA               & 0.32634149       & 0.32639171       & 0.31167224       & 0.34133427       & NA               & NA               & spearman         & FALSE            & TRUE             & English         \\\\\n",
       "\t59 & unigramSurprisal & ortho\\_n        & trigramSurprisal & 0.04624788       & 0.04631042       & 0.03009971       & 0.06184564       & NA               & NA               & spearman         &  TRUE            & TRUE             & English         \\\\\n",
       "\t60 & trigramSurprisal & ortho\\_n        & unigramSurprisal & 0.26962204       & 0.26947889       & 0.25480670       & 0.28447665       & NA               & NA               & spearman         &  TRUE            & TRUE             & English         \\\\\n",
       "\\end{tabular}\n"
      ],
      "text/markdown": [
       "\n",
       "| <!--/--> | yv | xv | resid_var | meanBootstrap | singleCor | lower | upper | pvalue | direction | corMethod | residualize | endMarker | language | \n",
       "|---|---|---|---|\n",
       "| 56 | unigramSurprisal | ortho_n          | NA               | 0.18188683       | 0.18176452       | 0.16613406       | 0.19775778       | NA               | NA               | spearman         | FALSE            | TRUE             | English          | \n",
       "| 57 | trigramSurprisal | ortho_n          | NA               | 0.32634149       | 0.32639171       | 0.31167224       | 0.34133427       | NA               | NA               | spearman         | FALSE            | TRUE             | English          | \n",
       "| 59 | unigramSurprisal | ortho_n          | trigramSurprisal | 0.04624788       | 0.04631042       | 0.03009971       | 0.06184564       | NA               | NA               | spearman         |  TRUE            | TRUE             | English          | \n",
       "| 60 | trigramSurprisal | ortho_n          | unigramSurprisal | 0.26962204       | 0.26947889       | 0.25480670       | 0.28447665       | NA               | NA               | spearman         |  TRUE            | TRUE             | English          | \n",
       "\n",
       "\n"
      ],
      "text/plain": [
       "   yv               xv      resid_var        meanBootstrap singleCor \n",
       "56 unigramSurprisal ortho_n NA               0.18188683    0.18176452\n",
       "57 trigramSurprisal ortho_n NA               0.32634149    0.32639171\n",
       "59 unigramSurprisal ortho_n trigramSurprisal 0.04624788    0.04631042\n",
       "60 trigramSurprisal ortho_n unigramSurprisal 0.26962204    0.26947889\n",
       "   lower      upper      pvalue direction corMethod residualize endMarker\n",
       "56 0.16613406 0.19775778 NA     NA        spearman  FALSE       TRUE     \n",
       "57 0.31167224 0.34133427 NA     NA        spearman  FALSE       TRUE     \n",
       "59 0.03009971 0.06184564 NA     NA        spearman   TRUE       TRUE     \n",
       "60 0.25480670 0.28447665 NA     NA        spearman   TRUE       TRUE     \n",
       "   language\n",
       "56 English \n",
       "57 English \n",
       "59 English \n",
       "60 English "
      ]
     },
     "metadata": {},
     "output_type": "display_data"
    }
   ],
   "source": [
    "subset(withoutEndMarker[[1]]$score, xv == 'ortho_n' & yv %in% c('unigramSurprisal','trigramSurprisal')) "
   ]
  },
  {
   "cell_type": "code",
   "execution_count": 5,
   "metadata": {},
   "outputs": [
    {
     "data": {
      "text/html": [
       "<ol class=list-inline>\n",
       "\t<li>4.22982621193</li>\n",
       "\t<li>3.87280452251</li>\n",
       "\t<li>3.61030817032</li>\n",
       "\t<li>3.75262027979</li>\n",
       "\t<li>3.91031622887</li>\n",
       "\t<li>3.00237186253</li>\n",
       "\t<li>3.1205201745</li>\n",
       "\t<li>4.15549302101</li>\n",
       "\t<li>3.39880716801</li>\n",
       "\t<li>6.23332792521</li>\n",
       "</ol>\n"
      ],
      "text/latex": [
       "\\begin{enumerate*}\n",
       "\\item 4.22982621193\n",
       "\\item 3.87280452251\n",
       "\\item 3.61030817032\n",
       "\\item 3.75262027979\n",
       "\\item 3.91031622887\n",
       "\\item 3.00237186253\n",
       "\\item 3.1205201745\n",
       "\\item 4.15549302101\n",
       "\\item 3.39880716801\n",
       "\\item 6.23332792521\n",
       "\\end{enumerate*}\n"
      ],
      "text/markdown": [
       "1. 4.22982621193\n",
       "2. 3.87280452251\n",
       "3. 3.61030817032\n",
       "4. 3.75262027979\n",
       "5. 3.91031622887\n",
       "6. 3.00237186253\n",
       "7. 3.1205201745\n",
       "8. 4.15549302101\n",
       "9. 3.39880716801\n",
       "10. 6.23332792521\n",
       "\n",
       "\n"
      ],
      "text/plain": [
       " [1] 4.229826 3.872805 3.610308 3.752620 3.910316 3.002372 3.120520 4.155493\n",
       " [9] 3.398807 6.233328"
      ]
     },
     "metadata": {},
     "output_type": "display_data"
    }
   ],
   "source": [
    "# (character_ss, ortho_n) ~ frequency should be in the same direction (negative)\n",
    "# [X]  make sure it isn't data problems\n",
    "withoutEndMarker[[1]]$df[1:10,'character_ss']"
   ]
  },
  {
   "cell_type": "markdown",
   "metadata": {},
   "source": [
    "### Corpus Sizes"
   ]
  },
  {
   "cell_type": "code",
   "execution_count": 6,
   "metadata": {},
   "outputs": [
    {
     "data": {
      "text/html": [
       "<table>\n",
       "<thead><tr><th scope=col>language</th><th scope=col>numTokens</th><th scope=col>numTokens_pretty</th><th scope=col>analysisCount</th></tr></thead>\n",
       "<tbody>\n",
       "\t<tr><td>English        </td><td>266164702912   </td><td>266,164,702,912</td><td>25000          </td></tr>\n",
       "\t<tr><td>Spanish        </td><td> 30898286985   </td><td>30,898,286,985 </td><td>25000          </td></tr>\n",
       "\t<tr><td>French         </td><td> 27912351558   </td><td>27,912,351,558 </td><td>25000          </td></tr>\n",
       "\t<tr><td>Dutch          </td><td> 24127675184   </td><td>24,127,675,184 </td><td>25000          </td></tr>\n",
       "\t<tr><td>German         </td><td> 18753615866   </td><td>18,753,615,866 </td><td>25000          </td></tr>\n",
       "\t<tr><td>Swedish        </td><td> 20544242586   </td><td>20,544,242,586 </td><td>25000          </td></tr>\n",
       "\t<tr><td>Czech          </td><td> 16238032967   </td><td>16,238,032,967 </td><td>25000          </td></tr>\n",
       "\t<tr><td>Polish         </td><td> 17915063215   </td><td>17,915,063,215 </td><td>25000          </td></tr>\n",
       "\t<tr><td>Romanian       </td><td> 19659866198   </td><td>19,659,866,198 </td><td>25000          </td></tr>\n",
       "\t<tr><td>Italian        </td><td> 26020955264   </td><td>26,020,955,264 </td><td>25000          </td></tr>\n",
       "\t<tr><td>Portuguese     </td><td> 25894199695   </td><td>25,894,199,695 </td><td>25000          </td></tr>\n",
       "</tbody>\n",
       "</table>\n"
      ],
      "text/latex": [
       "\\begin{tabular}{r|llll}\n",
       " language & numTokens & numTokens\\_pretty & analysisCount\\\\\n",
       "\\hline\n",
       "\t English         & 266164702912    & 266,164,702,912 & 25000          \\\\\n",
       "\t Spanish         &  30898286985    & 30,898,286,985  & 25000          \\\\\n",
       "\t French          &  27912351558    & 27,912,351,558  & 25000          \\\\\n",
       "\t Dutch           &  24127675184    & 24,127,675,184  & 25000          \\\\\n",
       "\t German          &  18753615866    & 18,753,615,866  & 25000          \\\\\n",
       "\t Swedish         &  20544242586    & 20,544,242,586  & 25000          \\\\\n",
       "\t Czech           &  16238032967    & 16,238,032,967  & 25000          \\\\\n",
       "\t Polish          &  17915063215    & 17,915,063,215  & 25000          \\\\\n",
       "\t Romanian        &  19659866198    & 19,659,866,198  & 25000          \\\\\n",
       "\t Italian         &  26020955264    & 26,020,955,264  & 25000          \\\\\n",
       "\t Portuguese      &  25894199695    & 25,894,199,695  & 25000          \\\\\n",
       "\\end{tabular}\n"
      ],
      "text/markdown": [
       "\n",
       "language | numTokens | numTokens_pretty | analysisCount | \n",
       "|---|---|---|---|---|---|---|---|---|---|---|\n",
       "| English         | 266164702912    | 266,164,702,912 | 25000           | \n",
       "| Spanish         |  30898286985    | 30,898,286,985  | 25000           | \n",
       "| French          |  27912351558    | 27,912,351,558  | 25000           | \n",
       "| Dutch           |  24127675184    | 24,127,675,184  | 25000           | \n",
       "| German          |  18753615866    | 18,753,615,866  | 25000           | \n",
       "| Swedish         |  20544242586    | 20,544,242,586  | 25000           | \n",
       "| Czech           |  16238032967    | 16,238,032,967  | 25000           | \n",
       "| Polish          |  17915063215    | 17,915,063,215  | 25000           | \n",
       "| Romanian        |  19659866198    | 19,659,866,198  | 25000           | \n",
       "| Italian         |  26020955264    | 26,020,955,264  | 25000           | \n",
       "| Portuguese      |  25894199695    | 25,894,199,695  | 25000           | \n",
       "\n",
       "\n"
      ],
      "text/plain": [
       "   language   numTokens    numTokens_pretty analysisCount\n",
       "1  English    266164702912 266,164,702,912  25000        \n",
       "2  Spanish     30898286985 30,898,286,985   25000        \n",
       "3  French      27912351558 27,912,351,558   25000        \n",
       "4  Dutch       24127675184 24,127,675,184   25000        \n",
       "5  German      18753615866 18,753,615,866   25000        \n",
       "6  Swedish     20544242586 20,544,242,586   25000        \n",
       "7  Czech       16238032967 16,238,032,967   25000        \n",
       "8  Polish      17915063215 17,915,063,215   25000        \n",
       "9  Romanian    19659866198 19,659,866,198   25000        \n",
       "10 Italian     26020955264 26,020,955,264   25000        \n",
       "11 Portuguese  25894199695 25,894,199,695   25000        "
      ]
     },
     "metadata": {},
     "output_type": "display_data"
    }
   ],
   "source": [
    "g1t_corpusCounts = do.call('rbind',lapply(withoutEndMarker, function(language){\n",
    "    numTokens = sum(as.numeric(language[['df']]$frequency), na.rm=T)\n",
    "    numTokens_pretty = format(numTokens, big.mark=\",\", scientific=F)\n",
    "    analysisCount = nrow(language[['df']])\n",
    "    language= language[['df']]$language[1]\n",
    "    return(data.frame(language, numTokens, numTokens_pretty, analysisCount, stringsAsFactors=F))\n",
    "}))\n",
    "g1t_corpusCounts"
   ]
  },
  {
   "cell_type": "code",
   "execution_count": 8,
   "metadata": {},
   "outputs": [],
   "source": [
    "source('ss_analysis.R')\n",
    "nem = do.call('rbind', lapply(withoutEndMarker, function(x){x$score}))\n",
    "nem$xv = expandColNames(nem$xv)\n",
    "nem$yv = expandColNames(nem$yv)\n",
    "#Better word-level metric names\n",
    "\n",
    "\n",
    "nem = merge(nem,g1t_corpusCounts, by='language')\n",
    "nem$language = as.factor(sapply(nem$language, simpleCap))\n",
    "nem$languageCount = sapply(1:length(nem$language), function(x){paste0(nem$language[x], ' (', round(nem$numTokens[x] / 1000000000,0),'b)' )})\n",
    "nem$yv_xv = paste(nem$yv, nem$xv, sep='-')"
   ]
  },
  {
   "cell_type": "code",
   "execution_count": 12,
   "metadata": {},
   "outputs": [
    {
     "data": {
      "text/html": [
       "<table>\n",
       "<thead><tr><th></th><th scope=col>language</th><th scope=col>yv</th><th scope=col>xv</th><th scope=col>resid_var</th><th scope=col>meanBootstrap</th><th scope=col>singleCor</th><th scope=col>lower</th><th scope=col>upper</th><th scope=col>pvalue</th><th scope=col>direction</th><th scope=col>corMethod</th><th scope=col>residualize</th><th scope=col>endMarker</th><th scope=col>numTokens</th><th scope=col>numTokens_pretty</th><th scope=col>analysisCount</th><th scope=col>languageCount</th><th scope=col>yv_xv</th></tr></thead>\n",
       "<tbody>\n",
       "\t<tr><th scope=row>157</th><td>English                                                               </td><td>Difference: Unigram Surprisal - Trigram Surprisal                     </td><td>PIC - Phonemes                                                        </td><td>NA                                                                    </td><td>-0.01510335                                                           </td><td>NA                                                                    </td><td>-0.03240777                                                           </td><td> 0.001998346                                                          </td><td>0.0176                                                                </td><td>lower                                                                 </td><td>spearman                                                              </td><td>FALSE                                                                 </td><td>TRUE                                                                  </td><td>266164702912                                                          </td><td>266,164,702,912                                                       </td><td>25000                                                                 </td><td>English (266b)                                                        </td><td>Difference: Unigram Surprisal - Trigram Surprisal-PIC - Phonemes      </td></tr>\n",
       "\t<tr><th scope=row>160</th><td>English                                                               </td><td>Difference: Unigram Surprisal - Trigram Surprisal                     </td><td>PIC - Phonemes                                                        </td><td>unigramSurprisal - trigramSurprisal                                   </td><td>-0.01897180                                                           </td><td>NA                                                                    </td><td>-0.04667588                                                           </td><td> 0.008580274                                                          </td><td>0.0848                                                                </td><td>lower                                                                 </td><td>spearman                                                              </td><td> TRUE                                                                 </td><td>TRUE                                                                  </td><td>266164702912                                                          </td><td>266,164,702,912                                                       </td><td>25000                                                                 </td><td>English (266b)                                                        </td><td>Difference: Unigram Surprisal - Trigram Surprisal-PIC - Phonemes      </td></tr>\n",
       "\t<tr><th scope=row>163</th><td>English                                                               </td><td>Difference: Unigram Surprisal - Trigram Surprisal                     </td><td>Number of Phonemes                                                    </td><td>NA                                                                    </td><td>-0.13461791                                                           </td><td>NA                                                                    </td><td>-0.15044809                                                           </td><td>-0.118127894                                                          </td><td>0.0000                                                                </td><td>lower                                                                 </td><td>spearman                                                              </td><td>FALSE                                                                 </td><td>TRUE                                                                  </td><td>266164702912                                                          </td><td>266,164,702,912                                                       </td><td>25000                                                                 </td><td>English (266b)                                                        </td><td>Difference: Unigram Surprisal - Trigram Surprisal-Number of Phonemes  </td></tr>\n",
       "\t<tr><th scope=row>166</th><td>English                                                               </td><td>Difference: Unigram Surprisal - Trigram Surprisal                     </td><td>Number of Phonemes                                                    </td><td>unigramSurprisal - trigramSurprisal                                   </td><td>-0.20494825                                                           </td><td>NA                                                                    </td><td>-0.23273203                                                           </td><td>-0.177260542                                                          </td><td>0.0000                                                                </td><td>lower                                                                 </td><td>spearman                                                              </td><td> TRUE                                                                 </td><td>TRUE                                                                  </td><td>266164702912                                                          </td><td>266,164,702,912                                                       </td><td>25000                                                                 </td><td>English (266b)                                                        </td><td>Difference: Unigram Surprisal - Trigram Surprisal-Number of Phonemes  </td></tr>\n",
       "\t<tr><th scope=row>169</th><td>English                                                               </td><td>Difference: Unigram Surprisal - Trigram Surprisal                     </td><td>PIC - Characters                                                      </td><td>NA                                                                    </td><td>-0.02747270                                                           </td><td>NA                                                                    </td><td>-0.04451739                                                           </td><td>-0.010048526                                                          </td><td>0.0000                                                                </td><td>lower                                                                 </td><td>spearman                                                              </td><td>FALSE                                                                 </td><td>TRUE                                                                  </td><td>266164702912                                                          </td><td>266,164,702,912                                                       </td><td>25000                                                                 </td><td>English (266b)                                                        </td><td>Difference: Unigram Surprisal - Trigram Surprisal-PIC - Characters    </td></tr>\n",
       "\t<tr><th scope=row>172</th><td>English                                                               </td><td>Difference: Unigram Surprisal - Trigram Surprisal                     </td><td>PIC - Characters                                                      </td><td>unigramSurprisal - trigramSurprisal                                   </td><td>-0.03489913                                                           </td><td>NA                                                                    </td><td>-0.06275357                                                           </td><td>-0.006719794                                                          </td><td>0.0016                                                                </td><td>lower                                                                 </td><td>spearman                                                              </td><td> TRUE                                                                 </td><td>TRUE                                                                  </td><td>266164702912                                                          </td><td>266,164,702,912                                                       </td><td>25000                                                                 </td><td>English (266b)                                                        </td><td>Difference: Unigram Surprisal - Trigram Surprisal-PIC - Characters    </td></tr>\n",
       "\t<tr><th scope=row>175</th><td>English                                                               </td><td>Difference: Unigram Surprisal - Trigram Surprisal                     </td><td>Number of Characters                                                  </td><td>NA                                                                    </td><td>-0.14445466                                                           </td><td>NA                                                                    </td><td>-0.16166094                                                           </td><td>-0.127708276                                                          </td><td>0.0000                                                                </td><td>lower                                                                 </td><td>spearman                                                              </td><td>FALSE                                                                 </td><td>TRUE                                                                  </td><td>266164702912                                                          </td><td>266,164,702,912                                                       </td><td>25000                                                                 </td><td>English (266b)                                                        </td><td>Difference: Unigram Surprisal - Trigram Surprisal-Number of Characters</td></tr>\n",
       "\t<tr><th scope=row>178</th><td>English                                                               </td><td>Difference: Unigram Surprisal - Trigram Surprisal                     </td><td>Number of Characters                                                  </td><td>unigramSurprisal - trigramSurprisal                                   </td><td>-0.22337416                                                           </td><td>NA                                                                    </td><td>-0.24977399                                                           </td><td>-0.197744041                                                          </td><td>0.0000                                                                </td><td>lower                                                                 </td><td>spearman                                                              </td><td> TRUE                                                                 </td><td>TRUE                                                                  </td><td>266164702912                                                          </td><td>266,164,702,912                                                       </td><td>25000                                                                 </td><td>English (266b)                                                        </td><td>Difference: Unigram Surprisal - Trigram Surprisal-Number of Characters</td></tr>\n",
       "</tbody>\n",
       "</table>\n"
      ],
      "text/latex": [
       "\\begin{tabular}{r|llllllllllllllllll}\n",
       "  & language & yv & xv & resid\\_var & meanBootstrap & singleCor & lower & upper & pvalue & direction & corMethod & residualize & endMarker & numTokens & numTokens\\_pretty & analysisCount & languageCount & yv\\_xv\\\\\n",
       "\\hline\n",
       "\t157 & English                                                                & Difference: Unigram Surprisal - Trigram Surprisal                      & PIC - Phonemes                                                         & NA                                                                     & -0.01510335                                                            & NA                                                                     & -0.03240777                                                            &  0.001998346                                                           & 0.0176                                                                 & lower                                                                  & spearman                                                               & FALSE                                                                  & TRUE                                                                   & 266164702912                                                           & 266,164,702,912                                                        & 25000                                                                  & English (266b)                                                         & Difference: Unigram Surprisal - Trigram Surprisal-PIC - Phonemes      \\\\\n",
       "\t160 & English                                                                & Difference: Unigram Surprisal - Trigram Surprisal                      & PIC - Phonemes                                                         & unigramSurprisal - trigramSurprisal                                    & -0.01897180                                                            & NA                                                                     & -0.04667588                                                            &  0.008580274                                                           & 0.0848                                                                 & lower                                                                  & spearman                                                               &  TRUE                                                                  & TRUE                                                                   & 266164702912                                                           & 266,164,702,912                                                        & 25000                                                                  & English (266b)                                                         & Difference: Unigram Surprisal - Trigram Surprisal-PIC - Phonemes      \\\\\n",
       "\t163 & English                                                                & Difference: Unigram Surprisal - Trigram Surprisal                      & Number of Phonemes                                                     & NA                                                                     & -0.13461791                                                            & NA                                                                     & -0.15044809                                                            & -0.118127894                                                           & 0.0000                                                                 & lower                                                                  & spearman                                                               & FALSE                                                                  & TRUE                                                                   & 266164702912                                                           & 266,164,702,912                                                        & 25000                                                                  & English (266b)                                                         & Difference: Unigram Surprisal - Trigram Surprisal-Number of Phonemes  \\\\\n",
       "\t166 & English                                                                & Difference: Unigram Surprisal - Trigram Surprisal                      & Number of Phonemes                                                     & unigramSurprisal - trigramSurprisal                                    & -0.20494825                                                            & NA                                                                     & -0.23273203                                                            & -0.177260542                                                           & 0.0000                                                                 & lower                                                                  & spearman                                                               &  TRUE                                                                  & TRUE                                                                   & 266164702912                                                           & 266,164,702,912                                                        & 25000                                                                  & English (266b)                                                         & Difference: Unigram Surprisal - Trigram Surprisal-Number of Phonemes  \\\\\n",
       "\t169 & English                                                                & Difference: Unigram Surprisal - Trigram Surprisal                      & PIC - Characters                                                       & NA                                                                     & -0.02747270                                                            & NA                                                                     & -0.04451739                                                            & -0.010048526                                                           & 0.0000                                                                 & lower                                                                  & spearman                                                               & FALSE                                                                  & TRUE                                                                   & 266164702912                                                           & 266,164,702,912                                                        & 25000                                                                  & English (266b)                                                         & Difference: Unigram Surprisal - Trigram Surprisal-PIC - Characters    \\\\\n",
       "\t172 & English                                                                & Difference: Unigram Surprisal - Trigram Surprisal                      & PIC - Characters                                                       & unigramSurprisal - trigramSurprisal                                    & -0.03489913                                                            & NA                                                                     & -0.06275357                                                            & -0.006719794                                                           & 0.0016                                                                 & lower                                                                  & spearman                                                               &  TRUE                                                                  & TRUE                                                                   & 266164702912                                                           & 266,164,702,912                                                        & 25000                                                                  & English (266b)                                                         & Difference: Unigram Surprisal - Trigram Surprisal-PIC - Characters    \\\\\n",
       "\t175 & English                                                                & Difference: Unigram Surprisal - Trigram Surprisal                      & Number of Characters                                                   & NA                                                                     & -0.14445466                                                            & NA                                                                     & -0.16166094                                                            & -0.127708276                                                           & 0.0000                                                                 & lower                                                                  & spearman                                                               & FALSE                                                                  & TRUE                                                                   & 266164702912                                                           & 266,164,702,912                                                        & 25000                                                                  & English (266b)                                                         & Difference: Unigram Surprisal - Trigram Surprisal-Number of Characters\\\\\n",
       "\t178 & English                                                                & Difference: Unigram Surprisal - Trigram Surprisal                      & Number of Characters                                                   & unigramSurprisal - trigramSurprisal                                    & -0.22337416                                                            & NA                                                                     & -0.24977399                                                            & -0.197744041                                                           & 0.0000                                                                 & lower                                                                  & spearman                                                               &  TRUE                                                                  & TRUE                                                                   & 266164702912                                                           & 266,164,702,912                                                        & 25000                                                                  & English (266b)                                                         & Difference: Unigram Surprisal - Trigram Surprisal-Number of Characters\\\\\n",
       "\\end{tabular}\n"
      ],
      "text/markdown": [
       "\n",
       "| <!--/--> | language | yv | xv | resid_var | meanBootstrap | singleCor | lower | upper | pvalue | direction | corMethod | residualize | endMarker | numTokens | numTokens_pretty | analysisCount | languageCount | yv_xv | \n",
       "|---|---|---|---|---|---|---|---|\n",
       "| 157 | English                                                                | Difference: Unigram Surprisal - Trigram Surprisal                      | PIC - Phonemes                                                         | NA                                                                     | -0.01510335                                                            | NA                                                                     | -0.03240777                                                            |  0.001998346                                                           | 0.0176                                                                 | lower                                                                  | spearman                                                               | FALSE                                                                  | TRUE                                                                   | 266164702912                                                           | 266,164,702,912                                                        | 25000                                                                  | English (266b)                                                         | Difference: Unigram Surprisal - Trigram Surprisal-PIC - Phonemes       | \n",
       "| 160 | English                                                                | Difference: Unigram Surprisal - Trigram Surprisal                      | PIC - Phonemes                                                         | unigramSurprisal - trigramSurprisal                                    | -0.01897180                                                            | NA                                                                     | -0.04667588                                                            |  0.008580274                                                           | 0.0848                                                                 | lower                                                                  | spearman                                                               |  TRUE                                                                  | TRUE                                                                   | 266164702912                                                           | 266,164,702,912                                                        | 25000                                                                  | English (266b)                                                         | Difference: Unigram Surprisal - Trigram Surprisal-PIC - Phonemes       | \n",
       "| 163 | English                                                                | Difference: Unigram Surprisal - Trigram Surprisal                      | Number of Phonemes                                                     | NA                                                                     | -0.13461791                                                            | NA                                                                     | -0.15044809                                                            | -0.118127894                                                           | 0.0000                                                                 | lower                                                                  | spearman                                                               | FALSE                                                                  | TRUE                                                                   | 266164702912                                                           | 266,164,702,912                                                        | 25000                                                                  | English (266b)                                                         | Difference: Unigram Surprisal - Trigram Surprisal-Number of Phonemes   | \n",
       "| 166 | English                                                                | Difference: Unigram Surprisal - Trigram Surprisal                      | Number of Phonemes                                                     | unigramSurprisal - trigramSurprisal                                    | -0.20494825                                                            | NA                                                                     | -0.23273203                                                            | -0.177260542                                                           | 0.0000                                                                 | lower                                                                  | spearman                                                               |  TRUE                                                                  | TRUE                                                                   | 266164702912                                                           | 266,164,702,912                                                        | 25000                                                                  | English (266b)                                                         | Difference: Unigram Surprisal - Trigram Surprisal-Number of Phonemes   | \n",
       "| 169 | English                                                                | Difference: Unigram Surprisal - Trigram Surprisal                      | PIC - Characters                                                       | NA                                                                     | -0.02747270                                                            | NA                                                                     | -0.04451739                                                            | -0.010048526                                                           | 0.0000                                                                 | lower                                                                  | spearman                                                               | FALSE                                                                  | TRUE                                                                   | 266164702912                                                           | 266,164,702,912                                                        | 25000                                                                  | English (266b)                                                         | Difference: Unigram Surprisal - Trigram Surprisal-PIC - Characters     | \n",
       "| 172 | English                                                                | Difference: Unigram Surprisal - Trigram Surprisal                      | PIC - Characters                                                       | unigramSurprisal - trigramSurprisal                                    | -0.03489913                                                            | NA                                                                     | -0.06275357                                                            | -0.006719794                                                           | 0.0016                                                                 | lower                                                                  | spearman                                                               |  TRUE                                                                  | TRUE                                                                   | 266164702912                                                           | 266,164,702,912                                                        | 25000                                                                  | English (266b)                                                         | Difference: Unigram Surprisal - Trigram Surprisal-PIC - Characters     | \n",
       "| 175 | English                                                                | Difference: Unigram Surprisal - Trigram Surprisal                      | Number of Characters                                                   | NA                                                                     | -0.14445466                                                            | NA                                                                     | -0.16166094                                                            | -0.127708276                                                           | 0.0000                                                                 | lower                                                                  | spearman                                                               | FALSE                                                                  | TRUE                                                                   | 266164702912                                                           | 266,164,702,912                                                        | 25000                                                                  | English (266b)                                                         | Difference: Unigram Surprisal - Trigram Surprisal-Number of Characters | \n",
       "| 178 | English                                                                | Difference: Unigram Surprisal - Trigram Surprisal                      | Number of Characters                                                   | unigramSurprisal - trigramSurprisal                                    | -0.22337416                                                            | NA                                                                     | -0.24977399                                                            | -0.197744041                                                           | 0.0000                                                                 | lower                                                                  | spearman                                                               |  TRUE                                                                  | TRUE                                                                   | 266164702912                                                           | 266,164,702,912                                                        | 25000                                                                  | English (266b)                                                         | Difference: Unigram Surprisal - Trigram Surprisal-Number of Characters | \n",
       "\n",
       "\n"
      ],
      "text/plain": [
       "    language yv                                               \n",
       "157 English  Difference: Unigram Surprisal - Trigram Surprisal\n",
       "160 English  Difference: Unigram Surprisal - Trigram Surprisal\n",
       "163 English  Difference: Unigram Surprisal - Trigram Surprisal\n",
       "166 English  Difference: Unigram Surprisal - Trigram Surprisal\n",
       "169 English  Difference: Unigram Surprisal - Trigram Surprisal\n",
       "172 English  Difference: Unigram Surprisal - Trigram Surprisal\n",
       "175 English  Difference: Unigram Surprisal - Trigram Surprisal\n",
       "178 English  Difference: Unigram Surprisal - Trigram Surprisal\n",
       "    xv                   resid_var                           meanBootstrap\n",
       "157 PIC - Phonemes       NA                                  -0.01510335  \n",
       "160 PIC - Phonemes       unigramSurprisal - trigramSurprisal -0.01897180  \n",
       "163 Number of Phonemes   NA                                  -0.13461791  \n",
       "166 Number of Phonemes   unigramSurprisal - trigramSurprisal -0.20494825  \n",
       "169 PIC - Characters     NA                                  -0.02747270  \n",
       "172 PIC - Characters     unigramSurprisal - trigramSurprisal -0.03489913  \n",
       "175 Number of Characters NA                                  -0.14445466  \n",
       "178 Number of Characters unigramSurprisal - trigramSurprisal -0.22337416  \n",
       "    singleCor lower       upper        pvalue direction corMethod residualize\n",
       "157 NA        -0.03240777  0.001998346 0.0176 lower     spearman  FALSE      \n",
       "160 NA        -0.04667588  0.008580274 0.0848 lower     spearman   TRUE      \n",
       "163 NA        -0.15044809 -0.118127894 0.0000 lower     spearman  FALSE      \n",
       "166 NA        -0.23273203 -0.177260542 0.0000 lower     spearman   TRUE      \n",
       "169 NA        -0.04451739 -0.010048526 0.0000 lower     spearman  FALSE      \n",
       "172 NA        -0.06275357 -0.006719794 0.0016 lower     spearman   TRUE      \n",
       "175 NA        -0.16166094 -0.127708276 0.0000 lower     spearman  FALSE      \n",
       "178 NA        -0.24977399 -0.197744041 0.0000 lower     spearman   TRUE      \n",
       "    endMarker numTokens    numTokens_pretty analysisCount languageCount \n",
       "157 TRUE      266164702912 266,164,702,912  25000         English (266b)\n",
       "160 TRUE      266164702912 266,164,702,912  25000         English (266b)\n",
       "163 TRUE      266164702912 266,164,702,912  25000         English (266b)\n",
       "166 TRUE      266164702912 266,164,702,912  25000         English (266b)\n",
       "169 TRUE      266164702912 266,164,702,912  25000         English (266b)\n",
       "172 TRUE      266164702912 266,164,702,912  25000         English (266b)\n",
       "175 TRUE      266164702912 266,164,702,912  25000         English (266b)\n",
       "178 TRUE      266164702912 266,164,702,912  25000         English (266b)\n",
       "    yv_xv                                                                 \n",
       "157 Difference: Unigram Surprisal - Trigram Surprisal-PIC - Phonemes      \n",
       "160 Difference: Unigram Surprisal - Trigram Surprisal-PIC - Phonemes      \n",
       "163 Difference: Unigram Surprisal - Trigram Surprisal-Number of Phonemes  \n",
       "166 Difference: Unigram Surprisal - Trigram Surprisal-Number of Phonemes  \n",
       "169 Difference: Unigram Surprisal - Trigram Surprisal-PIC - Characters    \n",
       "172 Difference: Unigram Surprisal - Trigram Surprisal-PIC - Characters    \n",
       "175 Difference: Unigram Surprisal - Trigram Surprisal-Number of Characters\n",
       "178 Difference: Unigram Surprisal - Trigram Surprisal-Number of Characters"
      ]
     },
     "metadata": {},
     "output_type": "display_data"
    }
   ],
   "source": [
    "subset(nem, language == 'English' & yv == 'Difference: Unigram Surprisal - Trigram Surprisal')\n",
    "#sort this before Hebrew"
   ]
  },
  {
   "cell_type": "markdown",
   "metadata": {},
   "source": [
    "### Google Books 2012"
   ]
  },
  {
   "cell_type": "code",
   "execution_count": 13,
   "metadata": {},
   "outputs": [
    {
     "name": "stdout",
     "output_type": "stream",
     "text": [
      "[1] \"original number in eng-all: 49942\"\n",
      "[1] \"Limiting analysis\"\n",
      "[1] \"Filtering...\"\n",
      "[1] \"filtered number in eng-all: 25000\"\n",
      "[1] \"Getting correlations\"\n",
      "[1] \"At the dictionary check\"\n",
      "[1] \"languageCode: NA\"\n",
      "[1] \"original number in spa-all: 49975\"\n",
      "[1] \"Limiting analysis\"\n",
      "[1] \"Filtering...\"\n",
      "[1] \"filtered number in spa-all: 25000\"\n",
      "[1] \"Getting correlations\"\n",
      "[1] \"At the dictionary check\"\n",
      "[1] \"languageCode: NA\"\n",
      "[1] \"original number in fre-all: 49975\"\n",
      "[1] \"Limiting analysis\"\n",
      "[1] \"Filtering...\"\n",
      "[1] \"filtered number in fre-all: 25000\"\n",
      "[1] \"Getting correlations\"\n",
      "[1] \"At the dictionary check\"\n",
      "[1] \"languageCode: NA\"\n",
      "[1] \"original number in ger-all: 49989\"\n",
      "[1] \"Limiting analysis\"\n",
      "[1] \"Filtering...\"\n",
      "[1] \"filtered number in ger-all: 25000\"\n",
      "[1] \"Getting correlations\"\n",
      "[1] \"At the dictionary check\"\n",
      "[1] \"languageCode: NA\"\n",
      "[1] \"original number in rus-all: 49990\"\n",
      "[1] \"Limiting analysis\"\n",
      "[1] \"Filtering...\"\n",
      "[1] \"filtered number in rus-all: 25000\"\n",
      "[1] \"Getting correlations\"\n",
      "[1] \"At the dictionary check\"\n",
      "[1] \"languageCode: NA\"\n",
      "[1] \"original number in heb-all: 50000\"\n",
      "[1] \"Limiting analysis\"\n",
      "[1] \"Filtering...\"\n",
      "[1] \"filtered number in heb-all: 25000\"\n",
      "[1] \"Getting correlations\"\n",
      "[1] \"Missing something!\"\n",
      "[1] \"Missing something!\"\n",
      "[1] \"Missing something!\"\n",
      "[1] \"Missing something!\"\n",
      "[1] \"Missing something!\"\n",
      "[1] \"At the dictionary check\"\n",
      "[1] \"languageCode: NA\"\n",
      "[1] \"original number in ita-all: 49963\"\n",
      "[1] \"Limiting analysis\"\n",
      "[1] \"Filtering...\"\n",
      "[1] \"filtered number in ita-all: 25000\"\n",
      "[1] \"Getting correlations\"\n",
      "[1] \"At the dictionary check\"\n",
      "[1] \"languageCode: NA\"\n"
     ]
    }
   ],
   "source": [
    "source('ss_analysis.R')\n",
    "books2012_languages = c('eng-all',\"spa-all\",'fre-all','ger-all','rus-all','heb-all', 'ita-all')\n",
    "books2012_withoutEndMarker = lapply(books2012_languages, function(language){getScoresForLanguage('/shared_hd2/models/ss/10-17-17_GoogleUnigram','GoogleBooks2012','25000', language, endMarker=T,  corMethod='spearman', contextLimit=0, opusFilter=T)})\n",
    "names(books2012_withoutEndMarker) = books2012_languages"
   ]
  },
  {
   "cell_type": "markdown",
   "metadata": {},
   "source": [
    "### Corpus Sizes"
   ]
  },
  {
   "cell_type": "code",
   "execution_count": 18,
   "metadata": {},
   "outputs": [
    {
     "data": {
      "text/html": [
       "<table>\n",
       "<thead><tr><th></th><th scope=col>language</th><th scope=col>numTokens</th><th scope=col>numTokens_pretty</th><th scope=col>analysisCount</th></tr></thead>\n",
       "<tbody>\n",
       "\t<tr><th scope=row>eng-all</th><td>English        </td><td>219341628008   </td><td>219,341,628,008</td><td>25000          </td></tr>\n",
       "\t<tr><th scope=row>spa-all</th><td>Spanish        </td><td> 35702125629   </td><td>35,702,125,629 </td><td>25000          </td></tr>\n",
       "\t<tr><th scope=row>fre-all</th><td>French         </td><td> 41935191569   </td><td>41,935,191,569 </td><td>25000          </td></tr>\n",
       "\t<tr><th scope=row>ger-all</th><td>German         </td><td> 16156137843   </td><td>16,156,137,843 </td><td>25000          </td></tr>\n",
       "\t<tr><th scope=row>rus-all</th><td>Russian        </td><td> 11969108346   </td><td>11,969,108,346 </td><td>25000          </td></tr>\n",
       "\t<tr><th scope=row>heb-all</th><td>Hebrew         </td><td>  2732185984   </td><td>2,732,185,984  </td><td>25000          </td></tr>\n",
       "\t<tr><th scope=row>ita-all</th><td>Italian        </td><td> 12856363174   </td><td>12,856,363,174 </td><td>25000          </td></tr>\n",
       "</tbody>\n",
       "</table>\n"
      ],
      "text/latex": [
       "\\begin{tabular}{r|llll}\n",
       "  & language & numTokens & numTokens\\_pretty & analysisCount\\\\\n",
       "\\hline\n",
       "\teng-all & English         & 219341628008    & 219,341,628,008 & 25000          \\\\\n",
       "\tspa-all & Spanish         &  35702125629    & 35,702,125,629  & 25000          \\\\\n",
       "\tfre-all & French          &  41935191569    & 41,935,191,569  & 25000          \\\\\n",
       "\tger-all & German          &  16156137843    & 16,156,137,843  & 25000          \\\\\n",
       "\trus-all & Russian         &  11969108346    & 11,969,108,346  & 25000          \\\\\n",
       "\theb-all & Hebrew          &   2732185984    & 2,732,185,984   & 25000          \\\\\n",
       "\tita-all & Italian         &  12856363174    & 12,856,363,174  & 25000          \\\\\n",
       "\\end{tabular}\n"
      ],
      "text/markdown": [
       "\n",
       "| <!--/--> | language | numTokens | numTokens_pretty | analysisCount | \n",
       "|---|---|---|---|---|---|---|\n",
       "| eng-all | English         | 219341628008    | 219,341,628,008 | 25000           | \n",
       "| spa-all | Spanish         |  35702125629    | 35,702,125,629  | 25000           | \n",
       "| fre-all | French          |  41935191569    | 41,935,191,569  | 25000           | \n",
       "| ger-all | German          |  16156137843    | 16,156,137,843  | 25000           | \n",
       "| rus-all | Russian         |  11969108346    | 11,969,108,346  | 25000           | \n",
       "| heb-all | Hebrew          |   2732185984    | 2,732,185,984   | 25000           | \n",
       "| ita-all | Italian         |  12856363174    | 12,856,363,174  | 25000           | \n",
       "\n",
       "\n"
      ],
      "text/plain": [
       "        language numTokens    numTokens_pretty analysisCount\n",
       "eng-all English  219341628008 219,341,628,008  25000        \n",
       "spa-all Spanish   35702125629 35,702,125,629   25000        \n",
       "fre-all French    41935191569 41,935,191,569   25000        \n",
       "ger-all German    16156137843 16,156,137,843   25000        \n",
       "rus-all Russian   11969108346 11,969,108,346   25000        \n",
       "heb-all Hebrew     2732185984 2,732,185,984    25000        \n",
       "ita-all Italian   12856363174 12,856,363,174   25000        "
      ]
     },
     "metadata": {},
     "output_type": "display_data"
    }
   ],
   "source": [
    "gb12_corpusCounts = do.call('rbind',lapply(books2012_withoutEndMarker, function(language){\n",
    "    numTokens = sum(as.numeric(language[['df']]$frequency), na.rm=T)\n",
    "    numTokens_pretty = format(numTokens, big.mark=\",\", scientific=F)\n",
    "    analysisCount = nrow(language[['df']])\n",
    "    language = language[['df']]$language[1]\n",
    "    return(data.frame(language, numTokens, numTokens_pretty, analysisCount, stringsAsFactors=F))\n",
    "}))\n",
    "gb12_corpusCounts$language = sapply(gb12_corpusCounts$language, function(x){\n",
    "    gb12_langRemapper[[x]]\n",
    "})\n",
    "gb12_corpusCounts"
   ]
  },
  {
   "cell_type": "code",
   "execution_count": 75,
   "metadata": {},
   "outputs": [],
   "source": [
    "books2012.nem = do.call('rbind', lapply(books2012_withoutEndMarker, function(x){x$score}))\n",
    "books2012.nem$xv = expandColNames(books2012.nem$xv)\n",
    "books2012.nem$yv = expandColNames(books2012.nem$yv)\n",
    "#Better word-level metric names\n",
    "\n",
    "books2012.nem$language = sapply(books2012.nem$language, function(x){\n",
    "    gb12_langRemapper[[x]]\n",
    "})\n",
    "\n",
    "books2012.nem = merge(books2012.nem,gb12_corpusCounts, by='language')\n",
    "books2012.nem$language = factor(books2012.nem$language)\n",
    "books2012.nem$languageCount = sapply(1:length(books2012.nem$language), function(x){paste0(books2012.nem$language[x], ' (', round(books2012.nem$numTokens[x] / 1000000000,0),'b)' )})\n",
    "books2012.nem$yv_xv = paste(books2012.nem$yv, books2012.nem$xv, sep='-')"
   ]
  },
  {
   "cell_type": "code",
   "execution_count": null,
   "metadata": {},
   "outputs": [],
   "source": [
    "# hack to restore Hebrew entries rather than regenerate all the data\n",
    "# lv = c('Unigram Surprisal','Trigram Surprisal','Frequency')\n",
    "# sv = c('PIC - Phonemes', 'Number of Phonemes','Difference: PIC vs. No. Phonemes')\n",
    "# residualize =c(TRUE,FALSE)\n",
    "# eg_hebrew = expand.grid(lv, sv, residualize)\n",
    "\n",
    "# hebrew =  do.call('rbind', lapply(1:nrow(eg_hebrew), function(x){subset(books2012.nem, language == 'Hebrew')[1,]}))\n",
    "# hebrew$lv = eg_hebrew$Var1\n",
    "# hebrew$sv = eg_hebrew$Var2\n",
    "# hebrew$residualize = eg_hebrew$Var3\n",
    "# hebrew$direction = 'lower'\n",
    "# hebrew$pvalue = 0\n",
    "\n",
    "# books2012.nem = rbind(books2012.nem, hebrew)"
   ]
  },
  {
   "cell_type": "code",
   "execution_count": 76,
   "metadata": {},
   "outputs": [
    {
     "data": {
      "text/html": [
       "<ol class=list-inline>\n",
       "\t<li>'Hebrew (3b)'</li>\n",
       "\t<li>'Hebrew (3b)'</li>\n",
       "\t<li>'Hebrew (3b)'</li>\n",
       "\t<li>'Hebrew (3b)'</li>\n",
       "\t<li>'Hebrew (3b)'</li>\n",
       "\t<li>'Hebrew (3b)'</li>\n",
       "\t<li>'Hebrew (3b)'</li>\n",
       "\t<li>'Hebrew (3b)'</li>\n",
       "\t<li>'Hebrew (3b)'</li>\n",
       "\t<li>'Hebrew (3b)'</li>\n",
       "\t<li>'Hebrew (3b)'</li>\n",
       "\t<li>'Hebrew (3b)'</li>\n",
       "\t<li>'Hebrew (3b)'</li>\n",
       "\t<li>'Hebrew (3b)'</li>\n",
       "\t<li>'Hebrew (3b)'</li>\n",
       "\t<li>'Hebrew (3b)'</li>\n",
       "\t<li>'Hebrew (3b)'</li>\n",
       "\t<li>'Hebrew (3b)'</li>\n",
       "\t<li>'Hebrew (3b)'</li>\n",
       "\t<li>'Hebrew (3b)'</li>\n",
       "\t<li>'Hebrew (3b)'</li>\n",
       "\t<li>'Hebrew (3b)'</li>\n",
       "\t<li>'Hebrew (3b)'</li>\n",
       "\t<li>'Hebrew (3b)'</li>\n",
       "\t<li>'Hebrew (3b)'</li>\n",
       "\t<li>'Hebrew (3b)'</li>\n",
       "\t<li>'Hebrew (3b)'</li>\n",
       "\t<li>'Hebrew (3b)'</li>\n",
       "\t<li>'Hebrew (3b)'</li>\n",
       "\t<li>'Hebrew (3b)'</li>\n",
       "</ol>\n"
      ],
      "text/latex": [
       "\\begin{enumerate*}\n",
       "\\item 'Hebrew (3b)'\n",
       "\\item 'Hebrew (3b)'\n",
       "\\item 'Hebrew (3b)'\n",
       "\\item 'Hebrew (3b)'\n",
       "\\item 'Hebrew (3b)'\n",
       "\\item 'Hebrew (3b)'\n",
       "\\item 'Hebrew (3b)'\n",
       "\\item 'Hebrew (3b)'\n",
       "\\item 'Hebrew (3b)'\n",
       "\\item 'Hebrew (3b)'\n",
       "\\item 'Hebrew (3b)'\n",
       "\\item 'Hebrew (3b)'\n",
       "\\item 'Hebrew (3b)'\n",
       "\\item 'Hebrew (3b)'\n",
       "\\item 'Hebrew (3b)'\n",
       "\\item 'Hebrew (3b)'\n",
       "\\item 'Hebrew (3b)'\n",
       "\\item 'Hebrew (3b)'\n",
       "\\item 'Hebrew (3b)'\n",
       "\\item 'Hebrew (3b)'\n",
       "\\item 'Hebrew (3b)'\n",
       "\\item 'Hebrew (3b)'\n",
       "\\item 'Hebrew (3b)'\n",
       "\\item 'Hebrew (3b)'\n",
       "\\item 'Hebrew (3b)'\n",
       "\\item 'Hebrew (3b)'\n",
       "\\item 'Hebrew (3b)'\n",
       "\\item 'Hebrew (3b)'\n",
       "\\item 'Hebrew (3b)'\n",
       "\\item 'Hebrew (3b)'\n",
       "\\end{enumerate*}\n"
      ],
      "text/markdown": [
       "1. 'Hebrew (3b)'\n",
       "2. 'Hebrew (3b)'\n",
       "3. 'Hebrew (3b)'\n",
       "4. 'Hebrew (3b)'\n",
       "5. 'Hebrew (3b)'\n",
       "6. 'Hebrew (3b)'\n",
       "7. 'Hebrew (3b)'\n",
       "8. 'Hebrew (3b)'\n",
       "9. 'Hebrew (3b)'\n",
       "10. 'Hebrew (3b)'\n",
       "11. 'Hebrew (3b)'\n",
       "12. 'Hebrew (3b)'\n",
       "13. 'Hebrew (3b)'\n",
       "14. 'Hebrew (3b)'\n",
       "15. 'Hebrew (3b)'\n",
       "16. 'Hebrew (3b)'\n",
       "17. 'Hebrew (3b)'\n",
       "18. 'Hebrew (3b)'\n",
       "19. 'Hebrew (3b)'\n",
       "20. 'Hebrew (3b)'\n",
       "21. 'Hebrew (3b)'\n",
       "22. 'Hebrew (3b)'\n",
       "23. 'Hebrew (3b)'\n",
       "24. 'Hebrew (3b)'\n",
       "25. 'Hebrew (3b)'\n",
       "26. 'Hebrew (3b)'\n",
       "27. 'Hebrew (3b)'\n",
       "28. 'Hebrew (3b)'\n",
       "29. 'Hebrew (3b)'\n",
       "30. 'Hebrew (3b)'\n",
       "\n",
       "\n"
      ],
      "text/plain": [
       " [1] \"Hebrew (3b)\" \"Hebrew (3b)\" \"Hebrew (3b)\" \"Hebrew (3b)\" \"Hebrew (3b)\"\n",
       " [6] \"Hebrew (3b)\" \"Hebrew (3b)\" \"Hebrew (3b)\" \"Hebrew (3b)\" \"Hebrew (3b)\"\n",
       "[11] \"Hebrew (3b)\" \"Hebrew (3b)\" \"Hebrew (3b)\" \"Hebrew (3b)\" \"Hebrew (3b)\"\n",
       "[16] \"Hebrew (3b)\" \"Hebrew (3b)\" \"Hebrew (3b)\" \"Hebrew (3b)\" \"Hebrew (3b)\"\n",
       "[21] \"Hebrew (3b)\" \"Hebrew (3b)\" \"Hebrew (3b)\" \"Hebrew (3b)\" \"Hebrew (3b)\"\n",
       "[26] \"Hebrew (3b)\" \"Hebrew (3b)\" \"Hebrew (3b)\" \"Hebrew (3b)\" \"Hebrew (3b)\""
      ]
     },
     "metadata": {},
     "output_type": "display_data"
    }
   ],
   "source": [
    "subset(books2012.nem, language == 'Hebrew' )$languageCount"
   ]
  },
  {
   "cell_type": "markdown",
   "metadata": {},
   "source": [
    "### OPUS"
   ]
  },
  {
   "cell_type": "code",
   "execution_count": 22,
   "metadata": {},
   "outputs": [
    {
     "name": "stdout",
     "output_type": "stream",
     "text": [
      "[1] \"original number in en: 49888\"\n",
      "[1] \"Limiting analysis\"\n",
      "[1] \"Filtering...\"\n",
      "[1] \"filtered number in en: 25000\"\n",
      "[1] \"Getting correlations\"\n",
      "[1] \"At the dictionary check\"\n",
      "[1] \"languageCode: NA\"\n",
      "[1] \"original number in ru: 49952\"\n",
      "[1] \"Limiting analysis\"\n",
      "[1] \"Filtering...\"\n",
      "[1] \"filtered number in ru: 25000\"\n",
      "[1] \"Getting correlations\"\n",
      "[1] \"At the dictionary check\"\n",
      "[1] \"languageCode: NA\"\n",
      "[1] \"original number in he: 50000\"\n",
      "[1] \"Limiting analysis\"\n",
      "[1] \"Filtering...\"\n",
      "[1] \"filtered number in he: 25000\"\n",
      "[1] \"Getting correlations\"\n",
      "[1] \"Missing something!\"\n",
      "[1] \"Missing something!\"\n",
      "[1] \"Missing something!\"\n",
      "[1] \"Missing something!\"\n",
      "[1] \"Missing something!\"\n",
      "[1] \"At the dictionary check\"\n",
      "[1] \"languageCode: NA\"\n",
      "[1] \"original number in de: 49956\"\n",
      "[1] \"Limiting analysis\"\n",
      "[1] \"Filtering...\"\n",
      "[1] \"filtered number in de: 25000\"\n",
      "[1] \"Getting correlations\"\n",
      "[1] \"At the dictionary check\"\n",
      "[1] \"languageCode: NA\"\n",
      "[1] \"original number in fr: 49937\"\n",
      "[1] \"Limiting analysis\"\n",
      "[1] \"Filtering...\"\n",
      "[1] \"filtered number in fr: 25000\"\n",
      "[1] \"Getting correlations\"\n",
      "[1] \"At the dictionary check\"\n",
      "[1] \"languageCode: NA\"\n",
      "[1] \"original number in es: 49935\"\n",
      "[1] \"Limiting analysis\"\n",
      "[1] \"Filtering...\"\n",
      "[1] \"filtered number in es: 25000\"\n",
      "[1] \"Getting correlations\"\n",
      "[1] \"At the dictionary check\"\n",
      "[1] \"languageCode: NA\"\n",
      "[1] \"original number in cs: 49949\"\n",
      "[1] \"Limiting analysis\"\n",
      "[1] \"Filtering...\"\n",
      "[1] \"filtered number in cs: 25000\"\n",
      "[1] \"Getting correlations\"\n",
      "[1] \"At the dictionary check\"\n",
      "[1] \"languageCode: NA\"\n",
      "[1] \"original number in pt: 49918\"\n",
      "[1] \"Limiting analysis\"\n",
      "[1] \"Filtering...\"\n",
      "[1] \"filtered number in pt: 25000\"\n",
      "[1] \"Getting correlations\"\n",
      "[1] \"At the dictionary check\"\n",
      "[1] \"languageCode: NA\"\n",
      "[1] \"original number in pl: 49946\"\n",
      "[1] \"Limiting analysis\"\n",
      "[1] \"Filtering...\"\n",
      "[1] \"filtered number in pl: 25000\"\n",
      "[1] \"Getting correlations\"\n",
      "[1] \"At the dictionary check\"\n",
      "[1] \"languageCode: NA\"\n",
      "[1] \"original number in ro: 49917\"\n",
      "[1] \"Limiting analysis\"\n",
      "[1] \"Filtering...\"\n",
      "[1] \"filtered number in ro: 25000\"\n",
      "[1] \"Getting correlations\"\n",
      "[1] \"At the dictionary check\"\n",
      "[1] \"languageCode: NA\"\n",
      "[1] \"original number in sv: 49971\"\n",
      "[1] \"Limiting analysis\"\n",
      "[1] \"Filtering...\"\n",
      "[1] \"filtered number in sv: 25000\"\n",
      "[1] \"Getting correlations\"\n",
      "[1] \"At the dictionary check\"\n",
      "[1] \"languageCode: NA\"\n",
      "[1] \"original number in it: 49928\"\n",
      "[1] \"Limiting analysis\"\n",
      "[1] \"Filtering...\"\n",
      "[1] \"filtered number in it: 25000\"\n",
      "[1] \"Getting correlations\"\n",
      "[1] \"At the dictionary check\"\n",
      "[1] \"languageCode: NA\"\n",
      "[1] \"original number in nl: 49971\"\n",
      "[1] \"Limiting analysis\"\n",
      "[1] \"Filtering...\"\n",
      "[1] \"filtered number in nl: 25000\"\n",
      "[1] \"Getting correlations\"\n",
      "[1] \"At the dictionary check\"\n",
      "[1] \"languageCode: NA\"\n"
     ]
    }
   ],
   "source": [
    "opus_languages = c('en','ru','he','de','fr','es','cs','pt', 'pl','ro','sv','it','nl')\n",
    "opus_withoutEndMarker = lapply(1:length(opus_languages), function(i){getScoresForLanguage('/shared_hd2/models/ss/10-17-17_GoogleUnigram','OPUS','25000',opus_languages[i], endMarker=T,  corMethod='spearman', opusFilter=T)})\n",
    "names(opus_withoutEndMarker) = opus_languages"
   ]
  },
  {
   "cell_type": "markdown",
   "metadata": {},
   "source": [
    "### Corpus Sizes"
   ]
  },
  {
   "cell_type": "code",
   "execution_count": 23,
   "metadata": {},
   "outputs": [
    {
     "data": {
      "text/html": [
       "<table>\n",
       "<thead><tr><th></th><th scope=col>language</th><th scope=col>numTokens</th><th scope=col>numTokens_pretty</th><th scope=col>analysisCount</th></tr></thead>\n",
       "<tbody>\n",
       "\t<tr><th scope=row>en</th><td>English    </td><td>329906086  </td><td>329,906,086</td><td>25000      </td></tr>\n",
       "\t<tr><th scope=row>ru</th><td>Russian    </td><td> 42950666  </td><td>42,950,666 </td><td>25000      </td></tr>\n",
       "\t<tr><th scope=row>he</th><td>Hebrew     </td><td> 65088282  </td><td>65,088,282 </td><td>25000      </td></tr>\n",
       "\t<tr><th scope=row>de</th><td>German     </td><td> 39409031  </td><td>39,409,031 </td><td>25000      </td></tr>\n",
       "\t<tr><th scope=row>fr</th><td>French     </td><td>169303943  </td><td>169,303,943</td><td>25000      </td></tr>\n",
       "\t<tr><th scope=row>es</th><td>Spanish    </td><td>197811726  </td><td>197,811,726</td><td>25000      </td></tr>\n",
       "\t<tr><th scope=row>cs</th><td>Czech      </td><td> 94730204  </td><td>94,730,204 </td><td>25000      </td></tr>\n",
       "\t<tr><th scope=row>pt</th><td>Portuguese </td><td>105486083  </td><td>105,486,083</td><td>25000      </td></tr>\n",
       "\t<tr><th scope=row>pl</th><td>Polish     </td><td> 66770062  </td><td>66,770,062 </td><td>25000      </td></tr>\n",
       "\t<tr><th scope=row>ro</th><td>Romanian   </td><td>133902571  </td><td>133,902,571</td><td>25000      </td></tr>\n",
       "\t<tr><th scope=row>sv</th><td>Swedish    </td><td> 45147376  </td><td>45,147,376 </td><td>25000      </td></tr>\n",
       "\t<tr><th scope=row>it</th><td>Italian    </td><td> 82499475  </td><td>82,499,475 </td><td>25000      </td></tr>\n",
       "\t<tr><th scope=row>nl</th><td>Dutch      </td><td>112417115  </td><td>112,417,115</td><td>25000      </td></tr>\n",
       "</tbody>\n",
       "</table>\n"
      ],
      "text/latex": [
       "\\begin{tabular}{r|llll}\n",
       "  & language & numTokens & numTokens\\_pretty & analysisCount\\\\\n",
       "\\hline\n",
       "\ten & English     & 329906086   & 329,906,086 & 25000      \\\\\n",
       "\tru & Russian     &  42950666   & 42,950,666  & 25000      \\\\\n",
       "\the & Hebrew      &  65088282   & 65,088,282  & 25000      \\\\\n",
       "\tde & German      &  39409031   & 39,409,031  & 25000      \\\\\n",
       "\tfr & French      & 169303943   & 169,303,943 & 25000      \\\\\n",
       "\tes & Spanish     & 197811726   & 197,811,726 & 25000      \\\\\n",
       "\tcs & Czech       &  94730204   & 94,730,204  & 25000      \\\\\n",
       "\tpt & Portuguese  & 105486083   & 105,486,083 & 25000      \\\\\n",
       "\tpl & Polish      &  66770062   & 66,770,062  & 25000      \\\\\n",
       "\tro & Romanian    & 133902571   & 133,902,571 & 25000      \\\\\n",
       "\tsv & Swedish     &  45147376   & 45,147,376  & 25000      \\\\\n",
       "\tit & Italian     &  82499475   & 82,499,475  & 25000      \\\\\n",
       "\tnl & Dutch       & 112417115   & 112,417,115 & 25000      \\\\\n",
       "\\end{tabular}\n"
      ],
      "text/markdown": [
       "\n",
       "| <!--/--> | language | numTokens | numTokens_pretty | analysisCount | \n",
       "|---|---|---|---|---|---|---|---|---|---|---|---|---|\n",
       "| en | English     | 329906086   | 329,906,086 | 25000       | \n",
       "| ru | Russian     |  42950666   | 42,950,666  | 25000       | \n",
       "| he | Hebrew      |  65088282   | 65,088,282  | 25000       | \n",
       "| de | German      |  39409031   | 39,409,031  | 25000       | \n",
       "| fr | French      | 169303943   | 169,303,943 | 25000       | \n",
       "| es | Spanish     | 197811726   | 197,811,726 | 25000       | \n",
       "| cs | Czech       |  94730204   | 94,730,204  | 25000       | \n",
       "| pt | Portuguese  | 105486083   | 105,486,083 | 25000       | \n",
       "| pl | Polish      |  66770062   | 66,770,062  | 25000       | \n",
       "| ro | Romanian    | 133902571   | 133,902,571 | 25000       | \n",
       "| sv | Swedish     |  45147376   | 45,147,376  | 25000       | \n",
       "| it | Italian     |  82499475   | 82,499,475  | 25000       | \n",
       "| nl | Dutch       | 112417115   | 112,417,115 | 25000       | \n",
       "\n",
       "\n"
      ],
      "text/plain": [
       "   language   numTokens numTokens_pretty analysisCount\n",
       "en English    329906086 329,906,086      25000        \n",
       "ru Russian     42950666 42,950,666       25000        \n",
       "he Hebrew      65088282 65,088,282       25000        \n",
       "de German      39409031 39,409,031       25000        \n",
       "fr French     169303943 169,303,943      25000        \n",
       "es Spanish    197811726 197,811,726      25000        \n",
       "cs Czech       94730204 94,730,204       25000        \n",
       "pt Portuguese 105486083 105,486,083      25000        \n",
       "pl Polish      66770062 66,770,062       25000        \n",
       "ro Romanian   133902571 133,902,571      25000        \n",
       "sv Swedish     45147376 45,147,376       25000        \n",
       "it Italian     82499475 82,499,475       25000        \n",
       "nl Dutch      112417115 112,417,115      25000        "
      ]
     },
     "metadata": {},
     "output_type": "display_data"
    }
   ],
   "source": [
    "opus_corpusCounts = do.call('rbind',lapply(opus_withoutEndMarker, function(language){\n",
    "    numTokens = sum(as.numeric(language[['df']]$frequency), na.rm=T)\n",
    "    numTokens_pretty = format(numTokens, big.mark=\",\", scientific=F)\n",
    "    analysisCount = nrow(language[['df']])\n",
    "    language= language[['df']]$language[1]\n",
    "    return(data.frame(language, numTokens, numTokens_pretty, analysisCount, stringsAsFactors=F))\n",
    "}))\n",
    "opus_corpusCounts"
   ]
  },
  {
   "cell_type": "code",
   "execution_count": 24,
   "metadata": {},
   "outputs": [],
   "source": [
    "opus.nem = do.call('rbind', lapply(opus_withoutEndMarker, function(x){x$score}))\n",
    "opus.nem$xv = expandColNames(opus.nem$xv)\n",
    "opus.nem$yv = expandColNames(opus.nem$yv)\n",
    "#Better word-level metric names\n",
    "opus.nem = merge(opus.nem,opus_corpusCounts, by='language')\n",
    "opus.nem$language = as.factor(sapply(opus.nem$language, simpleCap))\n",
    "books2012.nem$yv_xv = paste(books2012.nem$yv, books2012.nem$xv, sep='-')\n",
    "opus.nem$languageCount = sapply(1:length(opus.nem$language), function(x){paste0(opus.nem$language[x], ' (', round(opus.nem$numTokens[x] / 1000000,0),'m)' )})"
   ]
  },
  {
   "cell_type": "code",
   "execution_count": 25,
   "metadata": {},
   "outputs": [],
   "source": [
    "opus_datasets = do.call('rbind',lapply(opus_withoutEndMarker, function(x){\n",
    "    rdf = x$score\n",
    "    rdf$language = x$df$language[1]    \n",
    "    return(rdf)\n",
    "}))\n",
    "opus_datasets$dataset = 'OPUS'                      \n",
    "                        \n",
    "gb12_datasets = do.call('rbind',lapply(books2012_withoutEndMarker, function(x){\n",
    "    rdf = x$score\n",
    "    rdf$language = x$df$language[1]    \n",
    "    return(rdf)\n",
    "}))\n",
    "gb12_datasets$dataset = 'GB12'\n",
    "\n",
    "g1t_datasets = do.call('rbind',lapply(withoutEndMarker, function(x){\n",
    "    rdf = x$score\n",
    "    rdf$language = x$df$language[1]    \n",
    "    return(rdf)\n",
    "}))\n",
    "g1t_datasets$dataset = 'G1T'"
   ]
  },
  {
   "cell_type": "code",
   "execution_count": 77,
   "metadata": {},
   "outputs": [],
   "source": [
    "combined_datasets = rbind.fill(opus_datasets, gb12_datasets, g1t_datasets)\n",
    "combined_datasets$dataset_language = paste0(combined_datasets$dataset, ': ', combined_datasets$language)\n",
    "\n",
    "nem$languageLabel = paste('1T:', nem$languageCount)\n",
    "books2012.nem$languageLabel = paste('GB12:', books2012.nem$languageCount)\n",
    "opus.nem$languageLabel = paste('OPUS:', opus.nem$languageCount)\n",
    "nem$dataset = '1T'\n",
    "books2012.nem$dataset = 'GB12'\n",
    "opus.nem$dataset = 'OPUS'\n",
    "nem_combined = rbind.fill(nem, books2012.nem, opus.nem)\n",
    "\n",
    "#partialsDF$languageLabel = paste('1T:', partialsDF$languageCount)\n",
    "#gb12_partialsDF$languageLabel = paste('GB12:', gb12_partialsDF$languageCount)\n",
    "#opus_partialsDF$languageLabel = paste('OPUS:', opus_partialsDF$languageCount)\n",
    "#partialsDF$dataset = '1T'\n",
    "#gb12_partialsDF$dataset = 'GB12'\n",
    "#opus_partialsDF$dataset = 'OPUS'\n",
    "\n",
    "\n",
    "#partialsDF_combined  = rbind.fill(partialsDF,gb12_partialsDF, opus_partialsDF)"
   ]
  },
  {
   "cell_type": "code",
   "execution_count": 78,
   "metadata": {},
   "outputs": [
    {
     "data": {
      "text/html": [
       "<table>\n",
       "<thead><tr><th></th><th scope=col>language</th><th scope=col>yv</th><th scope=col>xv</th><th scope=col>resid_var</th><th scope=col>meanBootstrap</th><th scope=col>singleCor</th><th scope=col>lower</th><th scope=col>upper</th><th scope=col>pvalue</th><th scope=col>direction</th><th scope=col>corMethod</th><th scope=col>residualize</th><th scope=col>endMarker</th><th scope=col>numTokens</th><th scope=col>numTokens_pretty</th><th scope=col>analysisCount</th><th scope=col>languageCount</th><th scope=col>yv_xv</th><th scope=col>languageLabel</th><th scope=col>dataset</th></tr></thead>\n",
       "<tbody>\n",
       "\t<tr><th scope=row>841</th><td>Hebrew                                                                </td><td>Difference: PIC vs. No. Characters                                    </td><td>Unigram Surprisal                                                     </td><td>NA                                                                    </td><td> 0.108430295                                                          </td><td>          NA                                                          </td><td> 0.096255672                                                          </td><td> 0.120519657                                                          </td><td> 0                                                                    </td><td>higher                                                                </td><td>spearman                                                              </td><td>FALSE                                                                 </td><td>TRUE                                                                  </td><td>2732185984                                                            </td><td>2,732,185,984                                                         </td><td>25000                                                                 </td><td>Hebrew (3b)                                                           </td><td>Difference: PIC vs. No. Characters-Unigram Surprisal                  </td><td>GB12: Hebrew (3b)                                                     </td><td>GB12                                                                  </td></tr>\n",
       "\t<tr><th scope=row>842</th><td>Hebrew                                                                </td><td>PIC - Characters                                                      </td><td>Unigram Surprisal                                                     </td><td>NA                                                                    </td><td> 0.302021131                                                          </td><td> 0.302004943                                                          </td><td> 0.286284263                                                          </td><td> 0.318643726                                                          </td><td>NA                                                                    </td><td>NA                                                                    </td><td>spearman                                                              </td><td>FALSE                                                                 </td><td>TRUE                                                                  </td><td>2732185984                                                            </td><td>2,732,185,984                                                         </td><td>25000                                                                 </td><td>Hebrew (3b)                                                           </td><td>PIC - Characters-Unigram Surprisal                                    </td><td>GB12: Hebrew (3b)                                                     </td><td>GB12                                                                  </td></tr>\n",
       "\t<tr><th scope=row>843</th><td>Hebrew                                                                </td><td>Number of Characters                                                  </td><td>Unigram Surprisal                                                     </td><td>NA                                                                    </td><td> 0.193590836                                                          </td><td> 0.193503343                                                          </td><td> 0.177417612                                                          </td><td> 0.209670553                                                          </td><td>NA                                                                    </td><td>NA                                                                    </td><td>spearman                                                              </td><td>FALSE                                                                 </td><td>TRUE                                                                  </td><td>2732185984                                                            </td><td>2,732,185,984                                                         </td><td>25000                                                                 </td><td>Hebrew (3b)                                                           </td><td>Number of Characters-Unigram Surprisal                                </td><td>GB12: Hebrew (3b)                                                     </td><td>GB12                                                                  </td></tr>\n",
       "\t<tr><th scope=row>844</th><td>Hebrew                                                                </td><td>Difference: PIC vs. No. Characters                                    </td><td>Unigram Surprisal                                                     </td><td>character_ss - ortho_n                                                </td><td> 0.250237955                                                          </td><td>          NA                                                          </td><td> 0.219804084                                                          </td><td> 0.278812003                                                          </td><td> 0                                                                    </td><td>higher                                                                </td><td>spearman                                                              </td><td> TRUE                                                                 </td><td>TRUE                                                                  </td><td>2732185984                                                            </td><td>2,732,185,984                                                         </td><td>25000                                                                 </td><td>Hebrew (3b)                                                           </td><td>Difference: PIC vs. No. Characters-Unigram Surprisal                  </td><td>GB12: Hebrew (3b)                                                     </td><td>GB12                                                                  </td></tr>\n",
       "\t<tr><th scope=row>845</th><td>Hebrew                                                                </td><td>PIC - Characters                                                      </td><td>Unigram Surprisal                                                     </td><td>ortho_n                                                               </td><td> 0.212984646                                                          </td><td> 0.213079520                                                          </td><td> 0.197494450                                                          </td><td> 0.228374872                                                          </td><td>NA                                                                    </td><td>NA                                                                    </td><td>spearman                                                              </td><td> TRUE                                                                 </td><td>TRUE                                                                  </td><td>2732185984                                                            </td><td>2,732,185,984                                                         </td><td>25000                                                                 </td><td>Hebrew (3b)                                                           </td><td>PIC - Characters-Unigram Surprisal                                    </td><td>GB12: Hebrew (3b)                                                     </td><td>GB12                                                                  </td></tr>\n",
       "\t<tr><th scope=row>846</th><td>Hebrew                                                                </td><td>Number of Characters                                                  </td><td>Unigram Surprisal                                                     </td><td>character_ss                                                          </td><td>-0.037253309                                                          </td><td>-0.037400621                                                          </td><td>-0.052815272                                                          </td><td>-0.019067959                                                          </td><td>NA                                                                    </td><td>NA                                                                    </td><td>spearman                                                              </td><td> TRUE                                                                 </td><td>TRUE                                                                  </td><td>2732185984                                                            </td><td>2,732,185,984                                                         </td><td>25000                                                                 </td><td>Hebrew (3b)                                                           </td><td>Number of Characters-Unigram Surprisal                                </td><td>GB12: Hebrew (3b)                                                     </td><td>GB12                                                                  </td></tr>\n",
       "\t<tr><th scope=row>847</th><td>Hebrew                                                                </td><td>Difference: PIC vs. No. Characters                                    </td><td>Trigram Surprisal                                                     </td><td>NA                                                                    </td><td> 0.017730851                                                          </td><td>          NA                                                          </td><td> 0.005117546                                                          </td><td> 0.029077033                                                          </td><td> 0                                                                    </td><td>higher                                                                </td><td>spearman                                                              </td><td>FALSE                                                                 </td><td>TRUE                                                                  </td><td>2732185984                                                            </td><td>2,732,185,984                                                         </td><td>25000                                                                 </td><td>Hebrew (3b)                                                           </td><td>Difference: PIC vs. No. Characters-Trigram Surprisal                  </td><td>GB12: Hebrew (3b)                                                     </td><td>GB12                                                                  </td></tr>\n",
       "\t<tr><th scope=row>848</th><td>Hebrew                                                                </td><td>PIC - Characters                                                      </td><td>Trigram Surprisal                                                     </td><td>NA                                                                    </td><td> 0.174733659                                                          </td><td> 0.174638011                                                          </td><td> 0.159668781                                                          </td><td> 0.190399881                                                          </td><td>NA                                                                    </td><td>NA                                                                    </td><td>spearman                                                              </td><td>FALSE                                                                 </td><td>TRUE                                                                  </td><td>2732185984                                                            </td><td>2,732,185,984                                                         </td><td>25000                                                                 </td><td>Hebrew (3b)                                                           </td><td>PIC - Characters-Trigram Surprisal                                    </td><td>GB12: Hebrew (3b)                                                     </td><td>GB12                                                                  </td></tr>\n",
       "\t<tr><th scope=row>849</th><td>Hebrew                                                                </td><td>Number of Characters                                                  </td><td>Trigram Surprisal                                                     </td><td>NA                                                                    </td><td> 0.157002808                                                          </td><td> 0.156979692                                                          </td><td> 0.141002383                                                          </td><td> 0.173204057                                                          </td><td>NA                                                                    </td><td>NA                                                                    </td><td>spearman                                                              </td><td>FALSE                                                                 </td><td>TRUE                                                                  </td><td>2732185984                                                            </td><td>2,732,185,984                                                         </td><td>25000                                                                 </td><td>Hebrew (3b)                                                           </td><td>Number of Characters-Trigram Surprisal                                </td><td>GB12: Hebrew (3b)                                                     </td><td>GB12                                                                  </td></tr>\n",
       "\t<tr><th scope=row>850</th><td>Hebrew                                                                </td><td>Difference: PIC vs. No. Characters                                    </td><td>Trigram Surprisal                                                     </td><td>character_ss - ortho_n                                                </td><td> 0.045113114                                                          </td><td>          NA                                                          </td><td> 0.015407208                                                          </td><td> 0.077143964                                                          </td><td> 0                                                                    </td><td>higher                                                                </td><td>spearman                                                              </td><td> TRUE                                                                 </td><td>TRUE                                                                  </td><td>2732185984                                                            </td><td>2,732,185,984                                                         </td><td>25000                                                                 </td><td>Hebrew (3b)                                                           </td><td>Difference: PIC vs. No. Characters-Trigram Surprisal                  </td><td>GB12: Hebrew (3b)                                                     </td><td>GB12                                                                  </td></tr>\n",
       "\t<tr><th scope=row>851</th><td>Hebrew                                                                </td><td>PIC - Characters                                                      </td><td>Trigram Surprisal                                                     </td><td>ortho_n                                                               </td><td> 0.080432283                                                          </td><td> 0.080325847                                                          </td><td> 0.064397944                                                          </td><td> 0.096497923                                                          </td><td>NA                                                                    </td><td>NA                                                                    </td><td>spearman                                                              </td><td> TRUE                                                                 </td><td>TRUE                                                                  </td><td>2732185984                                                            </td><td>2,732,185,984                                                         </td><td>25000                                                                 </td><td>Hebrew (3b)                                                           </td><td>PIC - Characters-Trigram Surprisal                                    </td><td>GB12: Hebrew (3b)                                                     </td><td>GB12                                                                  </td></tr>\n",
       "\t<tr><th scope=row>852</th><td>Hebrew                                                                </td><td>Number of Characters                                                  </td><td>Trigram Surprisal                                                     </td><td>character_ss                                                          </td><td> 0.035319169                                                          </td><td> 0.035390738                                                          </td><td> 0.018953572                                                          </td><td> 0.051377008                                                          </td><td>NA                                                                    </td><td>NA                                                                    </td><td>spearman                                                              </td><td> TRUE                                                                 </td><td>TRUE                                                                  </td><td>2732185984                                                            </td><td>2,732,185,984                                                         </td><td>25000                                                                 </td><td>Hebrew (3b)                                                           </td><td>Number of Characters-Trigram Surprisal                                </td><td>GB12: Hebrew (3b)                                                     </td><td>GB12                                                                  </td></tr>\n",
       "\t<tr><th scope=row>853</th><td>Hebrew                                                                </td><td>Difference: PIC vs. No. Characters                                    </td><td>Frequency                                                             </td><td>NA                                                                    </td><td>-0.109384462                                                          </td><td>          NA                                                          </td><td>-0.120985207                                                          </td><td>-0.097401640                                                          </td><td> 0                                                                    </td><td>lower                                                                 </td><td>spearman                                                              </td><td>FALSE                                                                 </td><td>TRUE                                                                  </td><td>2732185984                                                            </td><td>2,732,185,984                                                         </td><td>25000                                                                 </td><td>Hebrew (3b)                                                           </td><td>Difference: PIC vs. No. Characters-Frequency                          </td><td>GB12: Hebrew (3b)                                                     </td><td>GB12                                                                  </td></tr>\n",
       "\t<tr><th scope=row>854</th><td>Hebrew                                                                </td><td>PIC - Characters                                                      </td><td>Frequency                                                             </td><td>NA                                                                    </td><td>-0.302996462                                                          </td><td>-0.302960660                                                          </td><td>-0.318337720                                                          </td><td>-0.287236680                                                          </td><td>NA                                                                    </td><td>NA                                                                    </td><td>spearman                                                              </td><td>FALSE                                                                 </td><td>TRUE                                                                  </td><td>2732185984                                                            </td><td>2,732,185,984                                                         </td><td>25000                                                                 </td><td>Hebrew (3b)                                                           </td><td>PIC - Characters-Frequency                                            </td><td>GB12: Hebrew (3b)                                                     </td><td>GB12                                                                  </td></tr>\n",
       "\t<tr><th scope=row>855</th><td>Hebrew                                                                </td><td>Number of Characters                                                  </td><td>Frequency                                                             </td><td>NA                                                                    </td><td>-0.193612000                                                          </td><td>-0.193515618                                                          </td><td>-0.209498278                                                          </td><td>-0.178279154                                                          </td><td>NA                                                                    </td><td>NA                                                                    </td><td>spearman                                                              </td><td>FALSE                                                                 </td><td>TRUE                                                                  </td><td>2732185984                                                            </td><td>2,732,185,984                                                         </td><td>25000                                                                 </td><td>Hebrew (3b)                                                           </td><td>Number of Characters-Frequency                                        </td><td>GB12: Hebrew (3b)                                                     </td><td>GB12                                                                  </td></tr>\n",
       "\t<tr><th scope=row>856</th><td>Hebrew                                                                </td><td>Difference: PIC vs. No. Characters                                    </td><td>Frequency                                                             </td><td>character_ss - ortho_n                                                </td><td>-0.253168909                                                          </td><td>          NA                                                          </td><td>-0.283242504                                                          </td><td>-0.222671380                                                          </td><td> 0                                                                    </td><td>lower                                                                 </td><td>spearman                                                              </td><td> TRUE                                                                 </td><td>TRUE                                                                  </td><td>2732185984                                                            </td><td>2,732,185,984                                                         </td><td>25000                                                                 </td><td>Hebrew (3b)                                                           </td><td>Difference: PIC vs. No. Characters-Frequency                          </td><td>GB12: Hebrew (3b)                                                     </td><td>GB12                                                                  </td></tr>\n",
       "\t<tr><th scope=row>857</th><td>Hebrew                                                                </td><td>PIC - Characters                                                      </td><td>Frequency                                                             </td><td>ortho_n                                                               </td><td>-0.214531817                                                          </td><td>-0.214476986                                                          </td><td>-0.229839053                                                          </td><td>-0.199042565                                                          </td><td>NA                                                                    </td><td>NA                                                                    </td><td>spearman                                                              </td><td> TRUE                                                                 </td><td>TRUE                                                                  </td><td>2732185984                                                            </td><td>2,732,185,984                                                         </td><td>25000                                                                 </td><td>Hebrew (3b)                                                           </td><td>PIC - Characters-Frequency                                            </td><td>GB12: Hebrew (3b)                                                     </td><td>GB12                                                                  </td></tr>\n",
       "\t<tr><th scope=row>858</th><td>Hebrew                                                                </td><td>Number of Characters                                                  </td><td>Frequency                                                             </td><td>character_ss                                                          </td><td> 0.038637092                                                          </td><td> 0.038459571                                                          </td><td> 0.021517108                                                          </td><td> 0.054876204                                                          </td><td>NA                                                                    </td><td>NA                                                                    </td><td>spearman                                                              </td><td> TRUE                                                                 </td><td>TRUE                                                                  </td><td>2732185984                                                            </td><td>2,732,185,984                                                         </td><td>25000                                                                 </td><td>Hebrew (3b)                                                           </td><td>Number of Characters-Frequency                                        </td><td>GB12: Hebrew (3b)                                                     </td><td>GB12                                                                  </td></tr>\n",
       "\t<tr><th scope=row>859</th><td>Hebrew                                                                </td><td>Difference: Unigram Surprisal - Trigram Surprisal                     </td><td>PIC - Characters                                                      </td><td>NA                                                                    </td><td> 0.127414482                                                          </td><td>          NA                                                          </td><td> 0.109718991                                                          </td><td> 0.143799100                                                          </td><td> 0                                                                    </td><td>higher                                                                </td><td>spearman                                                              </td><td>FALSE                                                                 </td><td>TRUE                                                                  </td><td>2732185984                                                            </td><td>2,732,185,984                                                         </td><td>25000                                                                 </td><td>Hebrew (3b)                                                           </td><td>Difference: Unigram Surprisal - Trigram Surprisal-PIC - Characters    </td><td>GB12: Hebrew (3b)                                                     </td><td>GB12                                                                  </td></tr>\n",
       "\t<tr><th scope=row>860</th><td>Hebrew                                                                </td><td>Unigram Surprisal                                                     </td><td>PIC - Characters                                                      </td><td>NA                                                                    </td><td> 0.302125618                                                          </td><td> 0.302004943                                                          </td><td> 0.285706648                                                          </td><td> 0.317458527                                                          </td><td>NA                                                                    </td><td>NA                                                                    </td><td>spearman                                                              </td><td>FALSE                                                                 </td><td>TRUE                                                                  </td><td>2732185984                                                            </td><td>2,732,185,984                                                         </td><td>25000                                                                 </td><td>Hebrew (3b)                                                           </td><td>Unigram Surprisal-PIC - Characters                                    </td><td>GB12: Hebrew (3b)                                                     </td><td>GB12                                                                  </td></tr>\n",
       "\t<tr><th scope=row>861</th><td>Hebrew                                                                </td><td>Trigram Surprisal                                                     </td><td>PIC - Characters                                                      </td><td>NA                                                                    </td><td> 0.174711137                                                          </td><td> 0.174638011                                                          </td><td> 0.158208418                                                          </td><td> 0.190251708                                                          </td><td>NA                                                                    </td><td>NA                                                                    </td><td>spearman                                                              </td><td>FALSE                                                                 </td><td>TRUE                                                                  </td><td>2732185984                                                            </td><td>2,732,185,984                                                         </td><td>25000                                                                 </td><td>Hebrew (3b)                                                           </td><td>Trigram Surprisal-PIC - Characters                                    </td><td>GB12: Hebrew (3b)                                                     </td><td>GB12                                                                  </td></tr>\n",
       "\t<tr><th scope=row>862</th><td>Hebrew                                                                </td><td>Difference: Unigram Surprisal - Trigram Surprisal                     </td><td>PIC - Characters                                                      </td><td>unigramSurprisal - trigramSurprisal                                   </td><td> 0.237161370                                                          </td><td>          NA                                                          </td><td> 0.209813511                                                          </td><td> 0.263368913                                                          </td><td> 0                                                                    </td><td>higher                                                                </td><td>spearman                                                              </td><td> TRUE                                                                 </td><td>TRUE                                                                  </td><td>2732185984                                                            </td><td>2,732,185,984                                                         </td><td>25000                                                                 </td><td>Hebrew (3b)                                                           </td><td>Difference: Unigram Surprisal - Trigram Surprisal-PIC - Characters    </td><td>GB12: Hebrew (3b)                                                     </td><td>GB12                                                                  </td></tr>\n",
       "\t<tr><th scope=row>863</th><td>Hebrew                                                                </td><td>Unigram Surprisal                                                     </td><td>PIC - Characters                                                      </td><td>trigramSurprisal                                                      </td><td> 0.263952171                                                          </td><td> 0.263946375                                                          </td><td> 0.247480059                                                          </td><td> 0.280032619                                                          </td><td>NA                                                                    </td><td>NA                                                                    </td><td>spearman                                                              </td><td> TRUE                                                                 </td><td>TRUE                                                                  </td><td>2732185984                                                            </td><td>2,732,185,984                                                         </td><td>25000                                                                 </td><td>Hebrew (3b)                                                           </td><td>Unigram Surprisal-PIC - Characters                                    </td><td>GB12: Hebrew (3b)                                                     </td><td>GB12                                                                  </td></tr>\n",
       "\t<tr><th scope=row>864</th><td>Hebrew                                                                </td><td>Trigram Surprisal                                                     </td><td>PIC - Characters                                                      </td><td>unigramSurprisal                                                      </td><td> 0.026790801                                                          </td><td> 0.026750380                                                          </td><td> 0.010978375                                                          </td><td> 0.042544115                                                          </td><td>NA                                                                    </td><td>NA                                                                    </td><td>spearman                                                              </td><td> TRUE                                                                 </td><td>TRUE                                                                  </td><td>2732185984                                                            </td><td>2,732,185,984                                                         </td><td>25000                                                                 </td><td>Hebrew (3b)                                                           </td><td>Trigram Surprisal-PIC - Characters                                    </td><td>GB12: Hebrew (3b)                                                     </td><td>GB12                                                                  </td></tr>\n",
       "\t<tr><th scope=row>865</th><td>Hebrew                                                                </td><td>Difference: Unigram Surprisal - Trigram Surprisal                     </td><td>Number of Characters                                                  </td><td>NA                                                                    </td><td> 0.036466440                                                          </td><td>          NA                                                          </td><td> 0.019422456                                                          </td><td> 0.053928891                                                          </td><td> 0                                                                    </td><td>higher                                                                </td><td>spearman                                                              </td><td>FALSE                                                                 </td><td>TRUE                                                                  </td><td>2732185984                                                            </td><td>2,732,185,984                                                         </td><td>25000                                                                 </td><td>Hebrew (3b)                                                           </td><td>Difference: Unigram Surprisal - Trigram Surprisal-Number of Characters</td><td>GB12: Hebrew (3b)                                                     </td><td>GB12                                                                  </td></tr>\n",
       "\t<tr><th scope=row>866</th><td>Hebrew                                                                </td><td>Unigram Surprisal                                                     </td><td>Number of Characters                                                  </td><td>NA                                                                    </td><td> 0.193639470                                                          </td><td> 0.193503343                                                          </td><td> 0.177358173                                                          </td><td> 0.209598004                                                          </td><td>NA                                                                    </td><td>NA                                                                    </td><td>spearman                                                              </td><td>FALSE                                                                 </td><td>TRUE                                                                  </td><td>2732185984                                                            </td><td>2,732,185,984                                                         </td><td>25000                                                                 </td><td>Hebrew (3b)                                                           </td><td>Unigram Surprisal-Number of Characters                                </td><td>GB12: Hebrew (3b)                                                     </td><td>GB12                                                                  </td></tr>\n",
       "\t<tr><th scope=row>867</th><td>Hebrew                                                                </td><td>Trigram Surprisal                                                     </td><td>Number of Characters                                                  </td><td>NA                                                                    </td><td> 0.157173030                                                          </td><td> 0.156979692                                                          </td><td> 0.140985209                                                          </td><td> 0.173021624                                                          </td><td>NA                                                                    </td><td>NA                                                                    </td><td>spearman                                                              </td><td>FALSE                                                                 </td><td>TRUE                                                                  </td><td>2732185984                                                            </td><td>2,732,185,984                                                         </td><td>25000                                                                 </td><td>Hebrew (3b)                                                           </td><td>Trigram Surprisal-Number of Characters                                </td><td>GB12: Hebrew (3b)                                                     </td><td>GB12                                                                  </td></tr>\n",
       "\t<tr><th scope=row>868</th><td>Hebrew                                                                </td><td>Difference: Unigram Surprisal - Trigram Surprisal                     </td><td>Number of Characters                                                  </td><td>unigramSurprisal - trigramSurprisal                                   </td><td> 0.099334727                                                          </td><td>          NA                                                          </td><td> 0.073217671                                                          </td><td> 0.126813397                                                          </td><td> 0                                                                    </td><td>higher                                                                </td><td>spearman                                                              </td><td> TRUE                                                                 </td><td>TRUE                                                                  </td><td>2732185984                                                            </td><td>2,732,185,984                                                         </td><td>25000                                                                 </td><td>Hebrew (3b)                                                           </td><td>Difference: Unigram Surprisal - Trigram Surprisal-Number of Characters</td><td>GB12: Hebrew (3b)                                                     </td><td>GB12                                                                  </td></tr>\n",
       "\t<tr><th scope=row>869</th><td>Hebrew                                                                </td><td>Unigram Surprisal                                                     </td><td>Number of Characters                                                  </td><td>trigramSurprisal                                                      </td><td> 0.154420637                                                          </td><td> 0.154395152                                                          </td><td> 0.138374911                                                          </td><td> 0.170997618                                                          </td><td>NA                                                                    </td><td>NA                                                                    </td><td>spearman                                                              </td><td> TRUE                                                                 </td><td>TRUE                                                                  </td><td>2732185984                                                            </td><td>2,732,185,984                                                         </td><td>25000                                                                 </td><td>Hebrew (3b)                                                           </td><td>Unigram Surprisal-Number of Characters                                </td><td>GB12: Hebrew (3b)                                                     </td><td>GB12                                                                  </td></tr>\n",
       "\t<tr><th scope=row>870</th><td>Hebrew                                                                </td><td>Trigram Surprisal                                                     </td><td>Number of Characters                                                  </td><td>unigramSurprisal                                                      </td><td> 0.055085911                                                          </td><td> 0.055214105                                                          </td><td> 0.037421287                                                          </td><td> 0.071250122                                                          </td><td>NA                                                                    </td><td>NA                                                                    </td><td>spearman                                                              </td><td> TRUE                                                                 </td><td>TRUE                                                                  </td><td>2732185984                                                            </td><td>2,732,185,984                                                         </td><td>25000                                                                 </td><td>Hebrew (3b)                                                           </td><td>Trigram Surprisal-Number of Characters                                </td><td>GB12: Hebrew (3b)                                                     </td><td>GB12                                                                  </td></tr>\n",
       "\t<tr><th scope=row>1351</th><td>Hebrew                                                                </td><td>Difference: PIC vs. No. Characters                                    </td><td>Unigram Surprisal                                                     </td><td>NA                                                                    </td><td> 0.081702604                                                          </td><td>          NA                                                          </td><td> 0.070741004                                                          </td><td> 0.092685028                                                          </td><td> 0                                                                    </td><td>higher                                                                </td><td>spearman                                                              </td><td>FALSE                                                                 </td><td>TRUE                                                                  </td><td>  65088282                                                            </td><td>65,088,282                                                            </td><td>25000                                                                 </td><td>Hebrew (65m)                                                          </td><td>NA                                                                    </td><td>OPUS: Hebrew (65m)                                                    </td><td>OPUS                                                                  </td></tr>\n",
       "\t<tr><th scope=row>1352</th><td>Hebrew                                                                </td><td>PIC - Characters                                                      </td><td>Unigram Surprisal                                                     </td><td>NA                                                                    </td><td> 0.329279733                                                          </td><td> 0.329289201                                                          </td><td> 0.314263679                                                          </td><td> 0.344001676                                                          </td><td>NA                                                                    </td><td>NA                                                                    </td><td>spearman                                                              </td><td>FALSE                                                                 </td><td>TRUE                                                                  </td><td>  65088282                                                            </td><td>65,088,282                                                            </td><td>25000                                                                 </td><td>Hebrew (65m)                                                          </td><td>NA                                                                    </td><td>OPUS: Hebrew (65m)                                                    </td><td>OPUS                                                                  </td></tr>\n",
       "\t<tr><th scope=row>1353</th><td>Hebrew                                                                </td><td>Number of Characters                                                  </td><td>Unigram Surprisal                                                     </td><td>NA                                                                    </td><td> 0.247577129                                                          </td><td> 0.247533141                                                          </td><td> 0.232298270                                                          </td><td> 0.264321165                                                          </td><td>NA                                                                    </td><td>NA                                                                    </td><td>spearman                                                              </td><td>FALSE                                                                 </td><td>TRUE                                                                  </td><td>  65088282                                                            </td><td>65,088,282                                                            </td><td>25000                                                                 </td><td>Hebrew (65m)                                                          </td><td>NA                                                                    </td><td>OPUS: Hebrew (65m)                                                    </td><td>OPUS                                                                  </td></tr>\n",
       "\t<tr><th scope=row>1354</th><td>Hebrew                                                                </td><td>Difference: PIC vs. No. Characters                                    </td><td>Unigram Surprisal                                                     </td><td>character_ss - ortho_n                                                </td><td> 0.193238667                                                          </td><td>          NA                                                          </td><td> 0.164798275                                                          </td><td> 0.222183624                                                          </td><td> 0                                                                    </td><td>higher                                                                </td><td>spearman                                                              </td><td> TRUE                                                                 </td><td>TRUE                                                                  </td><td>  65088282                                                            </td><td>65,088,282                                                            </td><td>25000                                                                 </td><td>Hebrew (65m)                                                          </td><td>NA                                                                    </td><td>OPUS: Hebrew (65m)                                                    </td><td>OPUS                                                                  </td></tr>\n",
       "\t<tr><th scope=row>1355</th><td>Hebrew                                                                </td><td>PIC - Characters                                                      </td><td>Unigram Surprisal                                                     </td><td>ortho_n                                                               </td><td> 0.199918933                                                          </td><td> 0.199919145                                                          </td><td> 0.185005306                                                          </td><td> 0.215775403                                                          </td><td>NA                                                                    </td><td>NA                                                                    </td><td>spearman                                                              </td><td> TRUE                                                                 </td><td>TRUE                                                                  </td><td>  65088282                                                            </td><td>65,088,282                                                            </td><td>25000                                                                 </td><td>Hebrew (65m)                                                          </td><td>NA                                                                    </td><td>OPUS: Hebrew (65m)                                                    </td><td>OPUS                                                                  </td></tr>\n",
       "\t<tr><th scope=row>1356</th><td>Hebrew                                                                </td><td>Number of Characters                                                  </td><td>Unigram Surprisal                                                     </td><td>character_ss                                                          </td><td> 0.006680266                                                          </td><td> 0.006831249                                                          </td><td>-0.009631063                                                          </td><td> 0.023034110                                                          </td><td>NA                                                                    </td><td>NA                                                                    </td><td>spearman                                                              </td><td> TRUE                                                                 </td><td>TRUE                                                                  </td><td>  65088282                                                            </td><td>65,088,282                                                            </td><td>25000                                                                 </td><td>Hebrew (65m)                                                          </td><td>NA                                                                    </td><td>OPUS: Hebrew (65m)                                                    </td><td>OPUS                                                                  </td></tr>\n",
       "\t<tr><th scope=row>1357</th><td>Hebrew                                                                </td><td>Difference: PIC vs. No. Characters                                    </td><td>Trigram Surprisal                                                     </td><td>NA                                                                    </td><td> 0.063002102                                                          </td><td>          NA                                                          </td><td> 0.051347695                                                          </td><td> 0.074383768                                                          </td><td> 0                                                                    </td><td>higher                                                                </td><td>spearman                                                              </td><td>FALSE                                                                 </td><td>TRUE                                                                  </td><td>  65088282                                                            </td><td>65,088,282                                                            </td><td>25000                                                                 </td><td>Hebrew (65m)                                                          </td><td>NA                                                                    </td><td>OPUS: Hebrew (65m)                                                    </td><td>OPUS                                                                  </td></tr>\n",
       "\t<tr><th scope=row>1358</th><td>Hebrew                                                                </td><td>PIC - Characters                                                      </td><td>Trigram Surprisal                                                     </td><td>NA                                                                    </td><td> 0.058688241                                                          </td><td> 0.058469444                                                          </td><td> 0.043060784                                                          </td><td> 0.075226822                                                          </td><td>NA                                                                    </td><td>NA                                                                    </td><td>spearman                                                              </td><td>FALSE                                                                 </td><td>TRUE                                                                  </td><td>  65088282                                                            </td><td>65,088,282                                                            </td><td>25000                                                                 </td><td>Hebrew (65m)                                                          </td><td>NA                                                                    </td><td>OPUS: Hebrew (65m)                                                    </td><td>OPUS                                                                  </td></tr>\n",
       "\t<tr><th scope=row>1359</th><td>Hebrew                                                                </td><td>Number of Characters                                                  </td><td>Trigram Surprisal                                                     </td><td>NA                                                                    </td><td>-0.004313861                                                          </td><td>-0.004439025                                                          </td><td>-0.020852456                                                          </td><td> 0.012410621                                                          </td><td>NA                                                                    </td><td>NA                                                                    </td><td>spearman                                                              </td><td>FALSE                                                                 </td><td>TRUE                                                                  </td><td>  65088282                                                            </td><td>65,088,282                                                            </td><td>25000                                                                 </td><td>Hebrew (65m)                                                          </td><td>NA                                                                    </td><td>OPUS: Hebrew (65m)                                                    </td><td>OPUS                                                                  </td></tr>\n",
       "\t<tr><th scope=row>1360</th><td>Hebrew                                                                </td><td>Difference: PIC vs. No. Characters                                    </td><td>Trigram Surprisal                                                     </td><td>character_ss - ortho_n                                                </td><td> 0.149892409                                                          </td><td>          NA                                                          </td><td> 0.119506093                                                          </td><td> 0.180528866                                                          </td><td> 0                                                                    </td><td>higher                                                                </td><td>spearman                                                              </td><td> TRUE                                                                 </td><td>TRUE                                                                  </td><td>  65088282                                                            </td><td>65,088,282                                                            </td><td>25000                                                                 </td><td>Hebrew (65m)                                                          </td><td>NA                                                                    </td><td>OPUS: Hebrew (65m)                                                    </td><td>OPUS                                                                  </td></tr>\n",
       "\t<tr><th scope=row>1361</th><td>Hebrew                                                                </td><td>PIC - Characters                                                      </td><td>Trigram Surprisal                                                     </td><td>ortho_n                                                               </td><td> 0.084322685                                                          </td><td> 0.084509838                                                          </td><td> 0.068044634                                                          </td><td> 0.100094118                                                          </td><td>NA                                                                    </td><td>NA                                                                    </td><td>spearman                                                              </td><td> TRUE                                                                 </td><td>TRUE                                                                  </td><td>  65088282                                                            </td><td>65,088,282                                                            </td><td>25000                                                                 </td><td>Hebrew (65m)                                                          </td><td>NA                                                                    </td><td>OPUS: Hebrew (65m)                                                    </td><td>OPUS                                                                  </td></tr>\n",
       "\t<tr><th scope=row>1362</th><td>Hebrew                                                                </td><td>Number of Characters                                                  </td><td>Trigram Surprisal                                                     </td><td>character_ss                                                          </td><td>-0.065569724                                                          </td><td>-0.065640692                                                          </td><td>-0.082211001                                                          </td><td>-0.050148224                                                          </td><td>NA                                                                    </td><td>NA                                                                    </td><td>spearman                                                              </td><td> TRUE                                                                 </td><td>TRUE                                                                  </td><td>  65088282                                                            </td><td>65,088,282                                                            </td><td>25000                                                                 </td><td>Hebrew (65m)                                                          </td><td>NA                                                                    </td><td>OPUS: Hebrew (65m)                                                    </td><td>OPUS                                                                  </td></tr>\n",
       "\t<tr><th scope=row>1363</th><td>Hebrew                                                                </td><td>Difference: PIC vs. No. Characters                                    </td><td>Frequency                                                             </td><td>NA                                                                    </td><td>-0.081794926                                                          </td><td>          NA                                                          </td><td>-0.092770561                                                          </td><td>-0.069777122                                                          </td><td> 0                                                                    </td><td>lower                                                                 </td><td>spearman                                                              </td><td>FALSE                                                                 </td><td>TRUE                                                                  </td><td>  65088282                                                            </td><td>65,088,282                                                            </td><td>25000                                                                 </td><td>Hebrew (65m)                                                          </td><td>NA                                                                    </td><td>OPUS: Hebrew (65m)                                                    </td><td>OPUS                                                                  </td></tr>\n",
       "\t<tr><th scope=row>1364</th><td>Hebrew                                                                </td><td>PIC - Characters                                                      </td><td>Frequency                                                             </td><td>NA                                                                    </td><td>-0.329173896                                                          </td><td>-0.329289201                                                          </td><td>-0.343509667                                                          </td><td>-0.313430325                                                          </td><td>NA                                                                    </td><td>NA                                                                    </td><td>spearman                                                              </td><td>FALSE                                                                 </td><td>TRUE                                                                  </td><td>  65088282                                                            </td><td>65,088,282                                                            </td><td>25000                                                                 </td><td>Hebrew (65m)                                                          </td><td>NA                                                                    </td><td>OPUS: Hebrew (65m)                                                    </td><td>OPUS                                                                  </td></tr>\n",
       "\t<tr><th scope=row>1365</th><td>Hebrew                                                                </td><td>Number of Characters                                                  </td><td>Frequency                                                             </td><td>NA                                                                    </td><td>-0.247378970                                                          </td><td>-0.247533141                                                          </td><td>-0.263395172                                                          </td><td>-0.232197165                                                          </td><td>NA                                                                    </td><td>NA                                                                    </td><td>spearman                                                              </td><td>FALSE                                                                 </td><td>TRUE                                                                  </td><td>  65088282                                                            </td><td>65,088,282                                                            </td><td>25000                                                                 </td><td>Hebrew (65m)                                                          </td><td>NA                                                                    </td><td>OPUS: Hebrew (65m)                                                    </td><td>OPUS                                                                  </td></tr>\n",
       "\t<tr><th scope=row>1366</th><td>Hebrew                                                                </td><td>Difference: PIC vs. No. Characters                                    </td><td>Frequency                                                             </td><td>character_ss - ortho_n                                                </td><td>-0.192971754                                                          </td><td>          NA                                                          </td><td>-0.223772876                                                          </td><td>-0.163442771                                                          </td><td> 0                                                                    </td><td>lower                                                                 </td><td>spearman                                                              </td><td> TRUE                                                                 </td><td>TRUE                                                                  </td><td>  65088282                                                            </td><td>65,088,282                                                            </td><td>25000                                                                 </td><td>Hebrew (65m)                                                          </td><td>NA                                                                    </td><td>OPUS: Hebrew (65m)                                                    </td><td>OPUS                                                                  </td></tr>\n",
       "\t<tr><th scope=row>1367</th><td>Hebrew                                                                </td><td>PIC - Characters                                                      </td><td>Frequency                                                             </td><td>ortho_n                                                               </td><td>-0.199790347                                                          </td><td>-0.199919145                                                          </td><td>-0.216353546                                                          </td><td>-0.183584947                                                          </td><td>NA                                                                    </td><td>NA                                                                    </td><td>spearman                                                              </td><td> TRUE                                                                 </td><td>TRUE                                                                  </td><td>  65088282                                                            </td><td>65,088,282                                                            </td><td>25000                                                                 </td><td>Hebrew (65m)                                                          </td><td>NA                                                                    </td><td>OPUS: Hebrew (65m)                                                    </td><td>OPUS                                                                  </td></tr>\n",
       "\t<tr><th scope=row>1368</th><td>Hebrew                                                                </td><td>Number of Characters                                                  </td><td>Frequency                                                             </td><td>character_ss                                                          </td><td>-0.006818593                                                          </td><td>-0.006831249                                                          </td><td>-0.023317533                                                          </td><td> 0.008861342                                                          </td><td>NA                                                                    </td><td>NA                                                                    </td><td>spearman                                                              </td><td> TRUE                                                                 </td><td>TRUE                                                                  </td><td>  65088282                                                            </td><td>65,088,282                                                            </td><td>25000                                                                 </td><td>Hebrew (65m)                                                          </td><td>NA                                                                    </td><td>OPUS: Hebrew (65m)                                                    </td><td>OPUS                                                                  </td></tr>\n",
       "\t<tr><th scope=row>1369</th><td>Hebrew                                                                </td><td>Difference: Unigram Surprisal - Trigram Surprisal                     </td><td>PIC - Characters                                                      </td><td>NA                                                                    </td><td> 0.270927752                                                          </td><td>          NA                                                          </td><td> 0.249154279                                                          </td><td> 0.293243338                                                          </td><td> 0                                                                    </td><td>higher                                                                </td><td>spearman                                                              </td><td>FALSE                                                                 </td><td>TRUE                                                                  </td><td>  65088282                                                            </td><td>65,088,282                                                            </td><td>25000                                                                 </td><td>Hebrew (65m)                                                          </td><td>NA                                                                    </td><td>OPUS: Hebrew (65m)                                                    </td><td>OPUS                                                                  </td></tr>\n",
       "\t<tr><th scope=row>1370</th><td>Hebrew                                                                </td><td>Unigram Surprisal                                                     </td><td>PIC - Characters                                                      </td><td>NA                                                                    </td><td> 0.329173183                                                          </td><td> 0.329289201                                                          </td><td> 0.313777207                                                          </td><td> 0.344673351                                                          </td><td>NA                                                                    </td><td>NA                                                                    </td><td>spearman                                                              </td><td>FALSE                                                                 </td><td>TRUE                                                                  </td><td>  65088282                                                            </td><td>65,088,282                                                            </td><td>25000                                                                 </td><td>Hebrew (65m)                                                          </td><td>NA                                                                    </td><td>OPUS: Hebrew (65m)                                                    </td><td>OPUS                                                                  </td></tr>\n",
       "\t<tr><th scope=row>1371</th><td>Hebrew                                                                </td><td>Trigram Surprisal                                                     </td><td>PIC - Characters                                                      </td><td>NA                                                                    </td><td> 0.058245431                                                          </td><td> 0.058469444                                                          </td><td> 0.041270349                                                          </td><td> 0.074336418                                                          </td><td>NA                                                                    </td><td>NA                                                                    </td><td>spearman                                                              </td><td>FALSE                                                                 </td><td>TRUE                                                                  </td><td>  65088282                                                            </td><td>65,088,282                                                            </td><td>25000                                                                 </td><td>Hebrew (65m)                                                          </td><td>NA                                                                    </td><td>OPUS: Hebrew (65m)                                                    </td><td>OPUS                                                                  </td></tr>\n",
       "\t<tr><th scope=row>1372</th><td>Hebrew                                                                </td><td>Difference: Unigram Surprisal - Trigram Surprisal                     </td><td>PIC - Characters                                                      </td><td>unigramSurprisal - trigramSurprisal                                   </td><td> 0.303864971                                                          </td><td>          NA                                                          </td><td> 0.278923950                                                          </td><td> 0.328672682                                                          </td><td> 0                                                                    </td><td>higher                                                                </td><td>spearman                                                              </td><td> TRUE                                                                 </td><td>TRUE                                                                  </td><td>  65088282                                                            </td><td>65,088,282                                                            </td><td>25000                                                                 </td><td>Hebrew (65m)                                                          </td><td>NA                                                                    </td><td>OPUS: Hebrew (65m)                                                    </td><td>OPUS                                                                  </td></tr>\n",
       "\t<tr><th scope=row>1373</th><td>Hebrew                                                                </td><td>Unigram Surprisal                                                     </td><td>PIC - Characters                                                      </td><td>trigramSurprisal                                                      </td><td> 0.322726749                                                          </td><td> 0.322811078                                                          </td><td> 0.308657246                                                          </td><td> 0.337161696                                                          </td><td>NA                                                                    </td><td>NA                                                                    </td><td>spearman                                                              </td><td> TRUE                                                                 </td><td>TRUE                                                                  </td><td>  65088282                                                            </td><td>65,088,282                                                            </td><td>25000                                                                 </td><td>Hebrew (65m)                                                          </td><td>NA                                                                    </td><td>OPUS: Hebrew (65m)                                                    </td><td>OPUS                                                                  </td></tr>\n",
       "\t<tr><th scope=row>1374</th><td>Hebrew                                                                </td><td>Trigram Surprisal                                                     </td><td>PIC - Characters                                                      </td><td>unigramSurprisal                                                      </td><td> 0.018861778                                                          </td><td> 0.018861022                                                          </td><td> 0.003140657                                                          </td><td> 0.036058505                                                          </td><td>NA                                                                    </td><td>NA                                                                    </td><td>spearman                                                              </td><td> TRUE                                                                 </td><td>TRUE                                                                  </td><td>  65088282                                                            </td><td>65,088,282                                                            </td><td>25000                                                                 </td><td>Hebrew (65m)                                                          </td><td>NA                                                                    </td><td>OPUS: Hebrew (65m)                                                    </td><td>OPUS                                                                  </td></tr>\n",
       "\t<tr><th scope=row>1375</th><td>Hebrew                                                                </td><td>Difference: Unigram Surprisal - Trigram Surprisal                     </td><td>Number of Characters                                                  </td><td>NA                                                                    </td><td> 0.251681239                                                          </td><td>          NA                                                          </td><td> 0.228951011                                                          </td><td> 0.272778314                                                          </td><td> 0                                                                    </td><td>higher                                                                </td><td>spearman                                                              </td><td>FALSE                                                                 </td><td>TRUE                                                                  </td><td>  65088282                                                            </td><td>65,088,282                                                            </td><td>25000                                                                 </td><td>Hebrew (65m)                                                          </td><td>NA                                                                    </td><td>OPUS: Hebrew (65m)                                                    </td><td>OPUS                                                                  </td></tr>\n",
       "\t<tr><th scope=row>1376</th><td>Hebrew                                                                </td><td>Unigram Surprisal                                                     </td><td>Number of Characters                                                  </td><td>NA                                                                    </td><td> 0.247483795                                                          </td><td> 0.247533141                                                          </td><td> 0.231274044                                                          </td><td> 0.262973722                                                          </td><td>NA                                                                    </td><td>NA                                                                    </td><td>spearman                                                              </td><td>FALSE                                                                 </td><td>TRUE                                                                  </td><td>  65088282                                                            </td><td>65,088,282                                                            </td><td>25000                                                                 </td><td>Hebrew (65m)                                                          </td><td>NA                                                                    </td><td>OPUS: Hebrew (65m)                                                    </td><td>OPUS                                                                  </td></tr>\n",
       "\t<tr><th scope=row>1377</th><td>Hebrew                                                                </td><td>Trigram Surprisal                                                     </td><td>Number of Characters                                                  </td><td>NA                                                                    </td><td>-0.004197444                                                          </td><td>-0.004439025                                                          </td><td>-0.019884254                                                          </td><td> 0.012782152                                                          </td><td>NA                                                                    </td><td>NA                                                                    </td><td>spearman                                                              </td><td>FALSE                                                                 </td><td>TRUE                                                                  </td><td>  65088282                                                            </td><td>65,088,282                                                            </td><td>25000                                                                 </td><td>Hebrew (65m)                                                          </td><td>NA                                                                    </td><td>OPUS: Hebrew (65m)                                                    </td><td>OPUS                                                                  </td></tr>\n",
       "\t<tr><th scope=row>1378</th><td>Hebrew                                                                </td><td>Difference: Unigram Surprisal - Trigram Surprisal                     </td><td>Number of Characters                                                  </td><td>unigramSurprisal - trigramSurprisal                                   </td><td> 0.289203932                                                          </td><td>          NA                                                          </td><td> 0.264543098                                                          </td><td> 0.312750928                                                          </td><td> 0                                                                    </td><td>higher                                                                </td><td>spearman                                                              </td><td> TRUE                                                                 </td><td>TRUE                                                                  </td><td>  65088282                                                            </td><td>65,088,282                                                            </td><td>25000                                                                 </td><td>Hebrew (65m)                                                          </td><td>NA                                                                    </td><td>OPUS: Hebrew (65m)                                                    </td><td>OPUS                                                                  </td></tr>\n",
       "\t<tr><th scope=row>1379</th><td>Hebrew                                                                </td><td>Unigram Surprisal                                                     </td><td>Number of Characters                                                  </td><td>trigramSurprisal                                                      </td><td> 0.253123599                                                          </td><td> 0.253129070                                                          </td><td> 0.238004097                                                          </td><td> 0.269460916                                                          </td><td>NA                                                                    </td><td>NA                                                                    </td><td>spearman                                                              </td><td> TRUE                                                                 </td><td>TRUE                                                                  </td><td>  65088282                                                            </td><td>65,088,282                                                            </td><td>25000                                                                 </td><td>Hebrew (65m)                                                          </td><td>NA                                                                    </td><td>OPUS: Hebrew (65m)                                                    </td><td>OPUS                                                                  </td></tr>\n",
       "\t<tr><th scope=row>1380</th><td>Hebrew                                                                </td><td>Trigram Surprisal                                                     </td><td>Number of Characters                                                  </td><td>unigramSurprisal                                                      </td><td>-0.036080333                                                          </td><td>-0.035914229                                                          </td><td>-0.051335182                                                          </td><td>-0.020028882                                                          </td><td>NA                                                                    </td><td>NA                                                                    </td><td>spearman                                                              </td><td> TRUE                                                                 </td><td>TRUE                                                                  </td><td>  65088282                                                            </td><td>65,088,282                                                            </td><td>25000                                                                 </td><td>Hebrew (65m)                                                          </td><td>NA                                                                    </td><td>OPUS: Hebrew (65m)                                                    </td><td>OPUS                                                                  </td></tr>\n",
       "</tbody>\n",
       "</table>\n"
      ],
      "text/latex": [
       "\\begin{tabular}{r|llllllllllllllllllll}\n",
       "  & language & yv & xv & resid\\_var & meanBootstrap & singleCor & lower & upper & pvalue & direction & corMethod & residualize & endMarker & numTokens & numTokens\\_pretty & analysisCount & languageCount & yv\\_xv & languageLabel & dataset\\\\\n",
       "\\hline\n",
       "\t841 & Hebrew                                                                 & Difference: PIC vs. No. Characters                                     & Unigram Surprisal                                                      & NA                                                                     &  0.108430295                                                           &           NA                                                           &  0.096255672                                                           &  0.120519657                                                           &  0                                                                     & higher                                                                 & spearman                                                               & FALSE                                                                  & TRUE                                                                   & 2732185984                                                             & 2,732,185,984                                                          & 25000                                                                  & Hebrew (3b)                                                            & Difference: PIC vs. No. Characters-Unigram Surprisal                   & GB12: Hebrew (3b)                                                      & GB12                                                                  \\\\\n",
       "\t842 & Hebrew                                                                 & PIC - Characters                                                       & Unigram Surprisal                                                      & NA                                                                     &  0.302021131                                                           &  0.302004943                                                           &  0.286284263                                                           &  0.318643726                                                           & NA                                                                     & NA                                                                     & spearman                                                               & FALSE                                                                  & TRUE                                                                   & 2732185984                                                             & 2,732,185,984                                                          & 25000                                                                  & Hebrew (3b)                                                            & PIC - Characters-Unigram Surprisal                                     & GB12: Hebrew (3b)                                                      & GB12                                                                  \\\\\n",
       "\t843 & Hebrew                                                                 & Number of Characters                                                   & Unigram Surprisal                                                      & NA                                                                     &  0.193590836                                                           &  0.193503343                                                           &  0.177417612                                                           &  0.209670553                                                           & NA                                                                     & NA                                                                     & spearman                                                               & FALSE                                                                  & TRUE                                                                   & 2732185984                                                             & 2,732,185,984                                                          & 25000                                                                  & Hebrew (3b)                                                            & Number of Characters-Unigram Surprisal                                 & GB12: Hebrew (3b)                                                      & GB12                                                                  \\\\\n",
       "\t844 & Hebrew                                                                 & Difference: PIC vs. No. Characters                                     & Unigram Surprisal                                                      & character\\_ss - ortho\\_n                                             &  0.250237955                                                           &           NA                                                           &  0.219804084                                                           &  0.278812003                                                           &  0                                                                     & higher                                                                 & spearman                                                               &  TRUE                                                                  & TRUE                                                                   & 2732185984                                                             & 2,732,185,984                                                          & 25000                                                                  & Hebrew (3b)                                                            & Difference: PIC vs. No. Characters-Unigram Surprisal                   & GB12: Hebrew (3b)                                                      & GB12                                                                  \\\\\n",
       "\t845 & Hebrew                                                                 & PIC - Characters                                                       & Unigram Surprisal                                                      & ortho\\_n                                                              &  0.212984646                                                           &  0.213079520                                                           &  0.197494450                                                           &  0.228374872                                                           & NA                                                                     & NA                                                                     & spearman                                                               &  TRUE                                                                  & TRUE                                                                   & 2732185984                                                             & 2,732,185,984                                                          & 25000                                                                  & Hebrew (3b)                                                            & PIC - Characters-Unigram Surprisal                                     & GB12: Hebrew (3b)                                                      & GB12                                                                  \\\\\n",
       "\t846 & Hebrew                                                                 & Number of Characters                                                   & Unigram Surprisal                                                      & character\\_ss                                                         & -0.037253309                                                           & -0.037400621                                                           & -0.052815272                                                           & -0.019067959                                                           & NA                                                                     & NA                                                                     & spearman                                                               &  TRUE                                                                  & TRUE                                                                   & 2732185984                                                             & 2,732,185,984                                                          & 25000                                                                  & Hebrew (3b)                                                            & Number of Characters-Unigram Surprisal                                 & GB12: Hebrew (3b)                                                      & GB12                                                                  \\\\\n",
       "\t847 & Hebrew                                                                 & Difference: PIC vs. No. Characters                                     & Trigram Surprisal                                                      & NA                                                                     &  0.017730851                                                           &           NA                                                           &  0.005117546                                                           &  0.029077033                                                           &  0                                                                     & higher                                                                 & spearman                                                               & FALSE                                                                  & TRUE                                                                   & 2732185984                                                             & 2,732,185,984                                                          & 25000                                                                  & Hebrew (3b)                                                            & Difference: PIC vs. No. Characters-Trigram Surprisal                   & GB12: Hebrew (3b)                                                      & GB12                                                                  \\\\\n",
       "\t848 & Hebrew                                                                 & PIC - Characters                                                       & Trigram Surprisal                                                      & NA                                                                     &  0.174733659                                                           &  0.174638011                                                           &  0.159668781                                                           &  0.190399881                                                           & NA                                                                     & NA                                                                     & spearman                                                               & FALSE                                                                  & TRUE                                                                   & 2732185984                                                             & 2,732,185,984                                                          & 25000                                                                  & Hebrew (3b)                                                            & PIC - Characters-Trigram Surprisal                                     & GB12: Hebrew (3b)                                                      & GB12                                                                  \\\\\n",
       "\t849 & Hebrew                                                                 & Number of Characters                                                   & Trigram Surprisal                                                      & NA                                                                     &  0.157002808                                                           &  0.156979692                                                           &  0.141002383                                                           &  0.173204057                                                           & NA                                                                     & NA                                                                     & spearman                                                               & FALSE                                                                  & TRUE                                                                   & 2732185984                                                             & 2,732,185,984                                                          & 25000                                                                  & Hebrew (3b)                                                            & Number of Characters-Trigram Surprisal                                 & GB12: Hebrew (3b)                                                      & GB12                                                                  \\\\\n",
       "\t850 & Hebrew                                                                 & Difference: PIC vs. No. Characters                                     & Trigram Surprisal                                                      & character\\_ss - ortho\\_n                                             &  0.045113114                                                           &           NA                                                           &  0.015407208                                                           &  0.077143964                                                           &  0                                                                     & higher                                                                 & spearman                                                               &  TRUE                                                                  & TRUE                                                                   & 2732185984                                                             & 2,732,185,984                                                          & 25000                                                                  & Hebrew (3b)                                                            & Difference: PIC vs. No. Characters-Trigram Surprisal                   & GB12: Hebrew (3b)                                                      & GB12                                                                  \\\\\n",
       "\t851 & Hebrew                                                                 & PIC - Characters                                                       & Trigram Surprisal                                                      & ortho\\_n                                                              &  0.080432283                                                           &  0.080325847                                                           &  0.064397944                                                           &  0.096497923                                                           & NA                                                                     & NA                                                                     & spearman                                                               &  TRUE                                                                  & TRUE                                                                   & 2732185984                                                             & 2,732,185,984                                                          & 25000                                                                  & Hebrew (3b)                                                            & PIC - Characters-Trigram Surprisal                                     & GB12: Hebrew (3b)                                                      & GB12                                                                  \\\\\n",
       "\t852 & Hebrew                                                                 & Number of Characters                                                   & Trigram Surprisal                                                      & character\\_ss                                                         &  0.035319169                                                           &  0.035390738                                                           &  0.018953572                                                           &  0.051377008                                                           & NA                                                                     & NA                                                                     & spearman                                                               &  TRUE                                                                  & TRUE                                                                   & 2732185984                                                             & 2,732,185,984                                                          & 25000                                                                  & Hebrew (3b)                                                            & Number of Characters-Trigram Surprisal                                 & GB12: Hebrew (3b)                                                      & GB12                                                                  \\\\\n",
       "\t853 & Hebrew                                                                 & Difference: PIC vs. No. Characters                                     & Frequency                                                              & NA                                                                     & -0.109384462                                                           &           NA                                                           & -0.120985207                                                           & -0.097401640                                                           &  0                                                                     & lower                                                                  & spearman                                                               & FALSE                                                                  & TRUE                                                                   & 2732185984                                                             & 2,732,185,984                                                          & 25000                                                                  & Hebrew (3b)                                                            & Difference: PIC vs. No. Characters-Frequency                           & GB12: Hebrew (3b)                                                      & GB12                                                                  \\\\\n",
       "\t854 & Hebrew                                                                 & PIC - Characters                                                       & Frequency                                                              & NA                                                                     & -0.302996462                                                           & -0.302960660                                                           & -0.318337720                                                           & -0.287236680                                                           & NA                                                                     & NA                                                                     & spearman                                                               & FALSE                                                                  & TRUE                                                                   & 2732185984                                                             & 2,732,185,984                                                          & 25000                                                                  & Hebrew (3b)                                                            & PIC - Characters-Frequency                                             & GB12: Hebrew (3b)                                                      & GB12                                                                  \\\\\n",
       "\t855 & Hebrew                                                                 & Number of Characters                                                   & Frequency                                                              & NA                                                                     & -0.193612000                                                           & -0.193515618                                                           & -0.209498278                                                           & -0.178279154                                                           & NA                                                                     & NA                                                                     & spearman                                                               & FALSE                                                                  & TRUE                                                                   & 2732185984                                                             & 2,732,185,984                                                          & 25000                                                                  & Hebrew (3b)                                                            & Number of Characters-Frequency                                         & GB12: Hebrew (3b)                                                      & GB12                                                                  \\\\\n",
       "\t856 & Hebrew                                                                 & Difference: PIC vs. No. Characters                                     & Frequency                                                              & character\\_ss - ortho\\_n                                             & -0.253168909                                                           &           NA                                                           & -0.283242504                                                           & -0.222671380                                                           &  0                                                                     & lower                                                                  & spearman                                                               &  TRUE                                                                  & TRUE                                                                   & 2732185984                                                             & 2,732,185,984                                                          & 25000                                                                  & Hebrew (3b)                                                            & Difference: PIC vs. No. Characters-Frequency                           & GB12: Hebrew (3b)                                                      & GB12                                                                  \\\\\n",
       "\t857 & Hebrew                                                                 & PIC - Characters                                                       & Frequency                                                              & ortho\\_n                                                              & -0.214531817                                                           & -0.214476986                                                           & -0.229839053                                                           & -0.199042565                                                           & NA                                                                     & NA                                                                     & spearman                                                               &  TRUE                                                                  & TRUE                                                                   & 2732185984                                                             & 2,732,185,984                                                          & 25000                                                                  & Hebrew (3b)                                                            & PIC - Characters-Frequency                                             & GB12: Hebrew (3b)                                                      & GB12                                                                  \\\\\n",
       "\t858 & Hebrew                                                                 & Number of Characters                                                   & Frequency                                                              & character\\_ss                                                         &  0.038637092                                                           &  0.038459571                                                           &  0.021517108                                                           &  0.054876204                                                           & NA                                                                     & NA                                                                     & spearman                                                               &  TRUE                                                                  & TRUE                                                                   & 2732185984                                                             & 2,732,185,984                                                          & 25000                                                                  & Hebrew (3b)                                                            & Number of Characters-Frequency                                         & GB12: Hebrew (3b)                                                      & GB12                                                                  \\\\\n",
       "\t859 & Hebrew                                                                 & Difference: Unigram Surprisal - Trigram Surprisal                      & PIC - Characters                                                       & NA                                                                     &  0.127414482                                                           &           NA                                                           &  0.109718991                                                           &  0.143799100                                                           &  0                                                                     & higher                                                                 & spearman                                                               & FALSE                                                                  & TRUE                                                                   & 2732185984                                                             & 2,732,185,984                                                          & 25000                                                                  & Hebrew (3b)                                                            & Difference: Unigram Surprisal - Trigram Surprisal-PIC - Characters     & GB12: Hebrew (3b)                                                      & GB12                                                                  \\\\\n",
       "\t860 & Hebrew                                                                 & Unigram Surprisal                                                      & PIC - Characters                                                       & NA                                                                     &  0.302125618                                                           &  0.302004943                                                           &  0.285706648                                                           &  0.317458527                                                           & NA                                                                     & NA                                                                     & spearman                                                               & FALSE                                                                  & TRUE                                                                   & 2732185984                                                             & 2,732,185,984                                                          & 25000                                                                  & Hebrew (3b)                                                            & Unigram Surprisal-PIC - Characters                                     & GB12: Hebrew (3b)                                                      & GB12                                                                  \\\\\n",
       "\t861 & Hebrew                                                                 & Trigram Surprisal                                                      & PIC - Characters                                                       & NA                                                                     &  0.174711137                                                           &  0.174638011                                                           &  0.158208418                                                           &  0.190251708                                                           & NA                                                                     & NA                                                                     & spearman                                                               & FALSE                                                                  & TRUE                                                                   & 2732185984                                                             & 2,732,185,984                                                          & 25000                                                                  & Hebrew (3b)                                                            & Trigram Surprisal-PIC - Characters                                     & GB12: Hebrew (3b)                                                      & GB12                                                                  \\\\\n",
       "\t862 & Hebrew                                                                 & Difference: Unigram Surprisal - Trigram Surprisal                      & PIC - Characters                                                       & unigramSurprisal - trigramSurprisal                                    &  0.237161370                                                           &           NA                                                           &  0.209813511                                                           &  0.263368913                                                           &  0                                                                     & higher                                                                 & spearman                                                               &  TRUE                                                                  & TRUE                                                                   & 2732185984                                                             & 2,732,185,984                                                          & 25000                                                                  & Hebrew (3b)                                                            & Difference: Unigram Surprisal - Trigram Surprisal-PIC - Characters     & GB12: Hebrew (3b)                                                      & GB12                                                                  \\\\\n",
       "\t863 & Hebrew                                                                 & Unigram Surprisal                                                      & PIC - Characters                                                       & trigramSurprisal                                                       &  0.263952171                                                           &  0.263946375                                                           &  0.247480059                                                           &  0.280032619                                                           & NA                                                                     & NA                                                                     & spearman                                                               &  TRUE                                                                  & TRUE                                                                   & 2732185984                                                             & 2,732,185,984                                                          & 25000                                                                  & Hebrew (3b)                                                            & Unigram Surprisal-PIC - Characters                                     & GB12: Hebrew (3b)                                                      & GB12                                                                  \\\\\n",
       "\t864 & Hebrew                                                                 & Trigram Surprisal                                                      & PIC - Characters                                                       & unigramSurprisal                                                       &  0.026790801                                                           &  0.026750380                                                           &  0.010978375                                                           &  0.042544115                                                           & NA                                                                     & NA                                                                     & spearman                                                               &  TRUE                                                                  & TRUE                                                                   & 2732185984                                                             & 2,732,185,984                                                          & 25000                                                                  & Hebrew (3b)                                                            & Trigram Surprisal-PIC - Characters                                     & GB12: Hebrew (3b)                                                      & GB12                                                                  \\\\\n",
       "\t865 & Hebrew                                                                 & Difference: Unigram Surprisal - Trigram Surprisal                      & Number of Characters                                                   & NA                                                                     &  0.036466440                                                           &           NA                                                           &  0.019422456                                                           &  0.053928891                                                           &  0                                                                     & higher                                                                 & spearman                                                               & FALSE                                                                  & TRUE                                                                   & 2732185984                                                             & 2,732,185,984                                                          & 25000                                                                  & Hebrew (3b)                                                            & Difference: Unigram Surprisal - Trigram Surprisal-Number of Characters & GB12: Hebrew (3b)                                                      & GB12                                                                  \\\\\n",
       "\t866 & Hebrew                                                                 & Unigram Surprisal                                                      & Number of Characters                                                   & NA                                                                     &  0.193639470                                                           &  0.193503343                                                           &  0.177358173                                                           &  0.209598004                                                           & NA                                                                     & NA                                                                     & spearman                                                               & FALSE                                                                  & TRUE                                                                   & 2732185984                                                             & 2,732,185,984                                                          & 25000                                                                  & Hebrew (3b)                                                            & Unigram Surprisal-Number of Characters                                 & GB12: Hebrew (3b)                                                      & GB12                                                                  \\\\\n",
       "\t867 & Hebrew                                                                 & Trigram Surprisal                                                      & Number of Characters                                                   & NA                                                                     &  0.157173030                                                           &  0.156979692                                                           &  0.140985209                                                           &  0.173021624                                                           & NA                                                                     & NA                                                                     & spearman                                                               & FALSE                                                                  & TRUE                                                                   & 2732185984                                                             & 2,732,185,984                                                          & 25000                                                                  & Hebrew (3b)                                                            & Trigram Surprisal-Number of Characters                                 & GB12: Hebrew (3b)                                                      & GB12                                                                  \\\\\n",
       "\t868 & Hebrew                                                                 & Difference: Unigram Surprisal - Trigram Surprisal                      & Number of Characters                                                   & unigramSurprisal - trigramSurprisal                                    &  0.099334727                                                           &           NA                                                           &  0.073217671                                                           &  0.126813397                                                           &  0                                                                     & higher                                                                 & spearman                                                               &  TRUE                                                                  & TRUE                                                                   & 2732185984                                                             & 2,732,185,984                                                          & 25000                                                                  & Hebrew (3b)                                                            & Difference: Unigram Surprisal - Trigram Surprisal-Number of Characters & GB12: Hebrew (3b)                                                      & GB12                                                                  \\\\\n",
       "\t869 & Hebrew                                                                 & Unigram Surprisal                                                      & Number of Characters                                                   & trigramSurprisal                                                       &  0.154420637                                                           &  0.154395152                                                           &  0.138374911                                                           &  0.170997618                                                           & NA                                                                     & NA                                                                     & spearman                                                               &  TRUE                                                                  & TRUE                                                                   & 2732185984                                                             & 2,732,185,984                                                          & 25000                                                                  & Hebrew (3b)                                                            & Unigram Surprisal-Number of Characters                                 & GB12: Hebrew (3b)                                                      & GB12                                                                  \\\\\n",
       "\t870 & Hebrew                                                                 & Trigram Surprisal                                                      & Number of Characters                                                   & unigramSurprisal                                                       &  0.055085911                                                           &  0.055214105                                                           &  0.037421287                                                           &  0.071250122                                                           & NA                                                                     & NA                                                                     & spearman                                                               &  TRUE                                                                  & TRUE                                                                   & 2732185984                                                             & 2,732,185,984                                                          & 25000                                                                  & Hebrew (3b)                                                            & Trigram Surprisal-Number of Characters                                 & GB12: Hebrew (3b)                                                      & GB12                                                                  \\\\\n",
       "\t1351 & Hebrew                                                                 & Difference: PIC vs. No. Characters                                     & Unigram Surprisal                                                      & NA                                                                     &  0.081702604                                                           &           NA                                                           &  0.070741004                                                           &  0.092685028                                                           &  0                                                                     & higher                                                                 & spearman                                                               & FALSE                                                                  & TRUE                                                                   &   65088282                                                             & 65,088,282                                                             & 25000                                                                  & Hebrew (65m)                                                           & NA                                                                     & OPUS: Hebrew (65m)                                                     & OPUS                                                                  \\\\\n",
       "\t1352 & Hebrew                                                                 & PIC - Characters                                                       & Unigram Surprisal                                                      & NA                                                                     &  0.329279733                                                           &  0.329289201                                                           &  0.314263679                                                           &  0.344001676                                                           & NA                                                                     & NA                                                                     & spearman                                                               & FALSE                                                                  & TRUE                                                                   &   65088282                                                             & 65,088,282                                                             & 25000                                                                  & Hebrew (65m)                                                           & NA                                                                     & OPUS: Hebrew (65m)                                                     & OPUS                                                                  \\\\\n",
       "\t1353 & Hebrew                                                                 & Number of Characters                                                   & Unigram Surprisal                                                      & NA                                                                     &  0.247577129                                                           &  0.247533141                                                           &  0.232298270                                                           &  0.264321165                                                           & NA                                                                     & NA                                                                     & spearman                                                               & FALSE                                                                  & TRUE                                                                   &   65088282                                                             & 65,088,282                                                             & 25000                                                                  & Hebrew (65m)                                                           & NA                                                                     & OPUS: Hebrew (65m)                                                     & OPUS                                                                  \\\\\n",
       "\t1354 & Hebrew                                                                 & Difference: PIC vs. No. Characters                                     & Unigram Surprisal                                                      & character\\_ss - ortho\\_n                                             &  0.193238667                                                           &           NA                                                           &  0.164798275                                                           &  0.222183624                                                           &  0                                                                     & higher                                                                 & spearman                                                               &  TRUE                                                                  & TRUE                                                                   &   65088282                                                             & 65,088,282                                                             & 25000                                                                  & Hebrew (65m)                                                           & NA                                                                     & OPUS: Hebrew (65m)                                                     & OPUS                                                                  \\\\\n",
       "\t1355 & Hebrew                                                                 & PIC - Characters                                                       & Unigram Surprisal                                                      & ortho\\_n                                                              &  0.199918933                                                           &  0.199919145                                                           &  0.185005306                                                           &  0.215775403                                                           & NA                                                                     & NA                                                                     & spearman                                                               &  TRUE                                                                  & TRUE                                                                   &   65088282                                                             & 65,088,282                                                             & 25000                                                                  & Hebrew (65m)                                                           & NA                                                                     & OPUS: Hebrew (65m)                                                     & OPUS                                                                  \\\\\n",
       "\t1356 & Hebrew                                                                 & Number of Characters                                                   & Unigram Surprisal                                                      & character\\_ss                                                         &  0.006680266                                                           &  0.006831249                                                           & -0.009631063                                                           &  0.023034110                                                           & NA                                                                     & NA                                                                     & spearman                                                               &  TRUE                                                                  & TRUE                                                                   &   65088282                                                             & 65,088,282                                                             & 25000                                                                  & Hebrew (65m)                                                           & NA                                                                     & OPUS: Hebrew (65m)                                                     & OPUS                                                                  \\\\\n",
       "\t1357 & Hebrew                                                                 & Difference: PIC vs. No. Characters                                     & Trigram Surprisal                                                      & NA                                                                     &  0.063002102                                                           &           NA                                                           &  0.051347695                                                           &  0.074383768                                                           &  0                                                                     & higher                                                                 & spearman                                                               & FALSE                                                                  & TRUE                                                                   &   65088282                                                             & 65,088,282                                                             & 25000                                                                  & Hebrew (65m)                                                           & NA                                                                     & OPUS: Hebrew (65m)                                                     & OPUS                                                                  \\\\\n",
       "\t1358 & Hebrew                                                                 & PIC - Characters                                                       & Trigram Surprisal                                                      & NA                                                                     &  0.058688241                                                           &  0.058469444                                                           &  0.043060784                                                           &  0.075226822                                                           & NA                                                                     & NA                                                                     & spearman                                                               & FALSE                                                                  & TRUE                                                                   &   65088282                                                             & 65,088,282                                                             & 25000                                                                  & Hebrew (65m)                                                           & NA                                                                     & OPUS: Hebrew (65m)                                                     & OPUS                                                                  \\\\\n",
       "\t1359 & Hebrew                                                                 & Number of Characters                                                   & Trigram Surprisal                                                      & NA                                                                     & -0.004313861                                                           & -0.004439025                                                           & -0.020852456                                                           &  0.012410621                                                           & NA                                                                     & NA                                                                     & spearman                                                               & FALSE                                                                  & TRUE                                                                   &   65088282                                                             & 65,088,282                                                             & 25000                                                                  & Hebrew (65m)                                                           & NA                                                                     & OPUS: Hebrew (65m)                                                     & OPUS                                                                  \\\\\n",
       "\t1360 & Hebrew                                                                 & Difference: PIC vs. No. Characters                                     & Trigram Surprisal                                                      & character\\_ss - ortho\\_n                                             &  0.149892409                                                           &           NA                                                           &  0.119506093                                                           &  0.180528866                                                           &  0                                                                     & higher                                                                 & spearman                                                               &  TRUE                                                                  & TRUE                                                                   &   65088282                                                             & 65,088,282                                                             & 25000                                                                  & Hebrew (65m)                                                           & NA                                                                     & OPUS: Hebrew (65m)                                                     & OPUS                                                                  \\\\\n",
       "\t1361 & Hebrew                                                                 & PIC - Characters                                                       & Trigram Surprisal                                                      & ortho\\_n                                                              &  0.084322685                                                           &  0.084509838                                                           &  0.068044634                                                           &  0.100094118                                                           & NA                                                                     & NA                                                                     & spearman                                                               &  TRUE                                                                  & TRUE                                                                   &   65088282                                                             & 65,088,282                                                             & 25000                                                                  & Hebrew (65m)                                                           & NA                                                                     & OPUS: Hebrew (65m)                                                     & OPUS                                                                  \\\\\n",
       "\t1362 & Hebrew                                                                 & Number of Characters                                                   & Trigram Surprisal                                                      & character\\_ss                                                         & -0.065569724                                                           & -0.065640692                                                           & -0.082211001                                                           & -0.050148224                                                           & NA                                                                     & NA                                                                     & spearman                                                               &  TRUE                                                                  & TRUE                                                                   &   65088282                                                             & 65,088,282                                                             & 25000                                                                  & Hebrew (65m)                                                           & NA                                                                     & OPUS: Hebrew (65m)                                                     & OPUS                                                                  \\\\\n",
       "\t1363 & Hebrew                                                                 & Difference: PIC vs. No. Characters                                     & Frequency                                                              & NA                                                                     & -0.081794926                                                           &           NA                                                           & -0.092770561                                                           & -0.069777122                                                           &  0                                                                     & lower                                                                  & spearman                                                               & FALSE                                                                  & TRUE                                                                   &   65088282                                                             & 65,088,282                                                             & 25000                                                                  & Hebrew (65m)                                                           & NA                                                                     & OPUS: Hebrew (65m)                                                     & OPUS                                                                  \\\\\n",
       "\t1364 & Hebrew                                                                 & PIC - Characters                                                       & Frequency                                                              & NA                                                                     & -0.329173896                                                           & -0.329289201                                                           & -0.343509667                                                           & -0.313430325                                                           & NA                                                                     & NA                                                                     & spearman                                                               & FALSE                                                                  & TRUE                                                                   &   65088282                                                             & 65,088,282                                                             & 25000                                                                  & Hebrew (65m)                                                           & NA                                                                     & OPUS: Hebrew (65m)                                                     & OPUS                                                                  \\\\\n",
       "\t1365 & Hebrew                                                                 & Number of Characters                                                   & Frequency                                                              & NA                                                                     & -0.247378970                                                           & -0.247533141                                                           & -0.263395172                                                           & -0.232197165                                                           & NA                                                                     & NA                                                                     & spearman                                                               & FALSE                                                                  & TRUE                                                                   &   65088282                                                             & 65,088,282                                                             & 25000                                                                  & Hebrew (65m)                                                           & NA                                                                     & OPUS: Hebrew (65m)                                                     & OPUS                                                                  \\\\\n",
       "\t1366 & Hebrew                                                                 & Difference: PIC vs. No. Characters                                     & Frequency                                                              & character\\_ss - ortho\\_n                                             & -0.192971754                                                           &           NA                                                           & -0.223772876                                                           & -0.163442771                                                           &  0                                                                     & lower                                                                  & spearman                                                               &  TRUE                                                                  & TRUE                                                                   &   65088282                                                             & 65,088,282                                                             & 25000                                                                  & Hebrew (65m)                                                           & NA                                                                     & OPUS: Hebrew (65m)                                                     & OPUS                                                                  \\\\\n",
       "\t1367 & Hebrew                                                                 & PIC - Characters                                                       & Frequency                                                              & ortho\\_n                                                              & -0.199790347                                                           & -0.199919145                                                           & -0.216353546                                                           & -0.183584947                                                           & NA                                                                     & NA                                                                     & spearman                                                               &  TRUE                                                                  & TRUE                                                                   &   65088282                                                             & 65,088,282                                                             & 25000                                                                  & Hebrew (65m)                                                           & NA                                                                     & OPUS: Hebrew (65m)                                                     & OPUS                                                                  \\\\\n",
       "\t1368 & Hebrew                                                                 & Number of Characters                                                   & Frequency                                                              & character\\_ss                                                         & -0.006818593                                                           & -0.006831249                                                           & -0.023317533                                                           &  0.008861342                                                           & NA                                                                     & NA                                                                     & spearman                                                               &  TRUE                                                                  & TRUE                                                                   &   65088282                                                             & 65,088,282                                                             & 25000                                                                  & Hebrew (65m)                                                           & NA                                                                     & OPUS: Hebrew (65m)                                                     & OPUS                                                                  \\\\\n",
       "\t1369 & Hebrew                                                                 & Difference: Unigram Surprisal - Trigram Surprisal                      & PIC - Characters                                                       & NA                                                                     &  0.270927752                                                           &           NA                                                           &  0.249154279                                                           &  0.293243338                                                           &  0                                                                     & higher                                                                 & spearman                                                               & FALSE                                                                  & TRUE                                                                   &   65088282                                                             & 65,088,282                                                             & 25000                                                                  & Hebrew (65m)                                                           & NA                                                                     & OPUS: Hebrew (65m)                                                     & OPUS                                                                  \\\\\n",
       "\t1370 & Hebrew                                                                 & Unigram Surprisal                                                      & PIC - Characters                                                       & NA                                                                     &  0.329173183                                                           &  0.329289201                                                           &  0.313777207                                                           &  0.344673351                                                           & NA                                                                     & NA                                                                     & spearman                                                               & FALSE                                                                  & TRUE                                                                   &   65088282                                                             & 65,088,282                                                             & 25000                                                                  & Hebrew (65m)                                                           & NA                                                                     & OPUS: Hebrew (65m)                                                     & OPUS                                                                  \\\\\n",
       "\t1371 & Hebrew                                                                 & Trigram Surprisal                                                      & PIC - Characters                                                       & NA                                                                     &  0.058245431                                                           &  0.058469444                                                           &  0.041270349                                                           &  0.074336418                                                           & NA                                                                     & NA                                                                     & spearman                                                               & FALSE                                                                  & TRUE                                                                   &   65088282                                                             & 65,088,282                                                             & 25000                                                                  & Hebrew (65m)                                                           & NA                                                                     & OPUS: Hebrew (65m)                                                     & OPUS                                                                  \\\\\n",
       "\t1372 & Hebrew                                                                 & Difference: Unigram Surprisal - Trigram Surprisal                      & PIC - Characters                                                       & unigramSurprisal - trigramSurprisal                                    &  0.303864971                                                           &           NA                                                           &  0.278923950                                                           &  0.328672682                                                           &  0                                                                     & higher                                                                 & spearman                                                               &  TRUE                                                                  & TRUE                                                                   &   65088282                                                             & 65,088,282                                                             & 25000                                                                  & Hebrew (65m)                                                           & NA                                                                     & OPUS: Hebrew (65m)                                                     & OPUS                                                                  \\\\\n",
       "\t1373 & Hebrew                                                                 & Unigram Surprisal                                                      & PIC - Characters                                                       & trigramSurprisal                                                       &  0.322726749                                                           &  0.322811078                                                           &  0.308657246                                                           &  0.337161696                                                           & NA                                                                     & NA                                                                     & spearman                                                               &  TRUE                                                                  & TRUE                                                                   &   65088282                                                             & 65,088,282                                                             & 25000                                                                  & Hebrew (65m)                                                           & NA                                                                     & OPUS: Hebrew (65m)                                                     & OPUS                                                                  \\\\\n",
       "\t1374 & Hebrew                                                                 & Trigram Surprisal                                                      & PIC - Characters                                                       & unigramSurprisal                                                       &  0.018861778                                                           &  0.018861022                                                           &  0.003140657                                                           &  0.036058505                                                           & NA                                                                     & NA                                                                     & spearman                                                               &  TRUE                                                                  & TRUE                                                                   &   65088282                                                             & 65,088,282                                                             & 25000                                                                  & Hebrew (65m)                                                           & NA                                                                     & OPUS: Hebrew (65m)                                                     & OPUS                                                                  \\\\\n",
       "\t1375 & Hebrew                                                                 & Difference: Unigram Surprisal - Trigram Surprisal                      & Number of Characters                                                   & NA                                                                     &  0.251681239                                                           &           NA                                                           &  0.228951011                                                           &  0.272778314                                                           &  0                                                                     & higher                                                                 & spearman                                                               & FALSE                                                                  & TRUE                                                                   &   65088282                                                             & 65,088,282                                                             & 25000                                                                  & Hebrew (65m)                                                           & NA                                                                     & OPUS: Hebrew (65m)                                                     & OPUS                                                                  \\\\\n",
       "\t1376 & Hebrew                                                                 & Unigram Surprisal                                                      & Number of Characters                                                   & NA                                                                     &  0.247483795                                                           &  0.247533141                                                           &  0.231274044                                                           &  0.262973722                                                           & NA                                                                     & NA                                                                     & spearman                                                               & FALSE                                                                  & TRUE                                                                   &   65088282                                                             & 65,088,282                                                             & 25000                                                                  & Hebrew (65m)                                                           & NA                                                                     & OPUS: Hebrew (65m)                                                     & OPUS                                                                  \\\\\n",
       "\t1377 & Hebrew                                                                 & Trigram Surprisal                                                      & Number of Characters                                                   & NA                                                                     & -0.004197444                                                           & -0.004439025                                                           & -0.019884254                                                           &  0.012782152                                                           & NA                                                                     & NA                                                                     & spearman                                                               & FALSE                                                                  & TRUE                                                                   &   65088282                                                             & 65,088,282                                                             & 25000                                                                  & Hebrew (65m)                                                           & NA                                                                     & OPUS: Hebrew (65m)                                                     & OPUS                                                                  \\\\\n",
       "\t1378 & Hebrew                                                                 & Difference: Unigram Surprisal - Trigram Surprisal                      & Number of Characters                                                   & unigramSurprisal - trigramSurprisal                                    &  0.289203932                                                           &           NA                                                           &  0.264543098                                                           &  0.312750928                                                           &  0                                                                     & higher                                                                 & spearman                                                               &  TRUE                                                                  & TRUE                                                                   &   65088282                                                             & 65,088,282                                                             & 25000                                                                  & Hebrew (65m)                                                           & NA                                                                     & OPUS: Hebrew (65m)                                                     & OPUS                                                                  \\\\\n",
       "\t1379 & Hebrew                                                                 & Unigram Surprisal                                                      & Number of Characters                                                   & trigramSurprisal                                                       &  0.253123599                                                           &  0.253129070                                                           &  0.238004097                                                           &  0.269460916                                                           & NA                                                                     & NA                                                                     & spearman                                                               &  TRUE                                                                  & TRUE                                                                   &   65088282                                                             & 65,088,282                                                             & 25000                                                                  & Hebrew (65m)                                                           & NA                                                                     & OPUS: Hebrew (65m)                                                     & OPUS                                                                  \\\\\n",
       "\t1380 & Hebrew                                                                 & Trigram Surprisal                                                      & Number of Characters                                                   & unigramSurprisal                                                       & -0.036080333                                                           & -0.035914229                                                           & -0.051335182                                                           & -0.020028882                                                           & NA                                                                     & NA                                                                     & spearman                                                               &  TRUE                                                                  & TRUE                                                                   &   65088282                                                             & 65,088,282                                                             & 25000                                                                  & Hebrew (65m)                                                           & NA                                                                     & OPUS: Hebrew (65m)                                                     & OPUS                                                                  \\\\\n",
       "\\end{tabular}\n"
      ],
      "text/markdown": [
       "\n",
       "| <!--/--> | language | yv | xv | resid_var | meanBootstrap | singleCor | lower | upper | pvalue | direction | corMethod | residualize | endMarker | numTokens | numTokens_pretty | analysisCount | languageCount | yv_xv | languageLabel | dataset | \n",
       "|---|---|---|---|---|---|---|---|---|---|---|---|---|---|---|---|---|---|---|---|---|---|---|---|---|---|---|---|---|---|---|---|---|---|---|---|---|---|---|---|---|---|---|---|---|---|---|---|---|---|---|---|---|---|---|---|---|---|---|---|\n",
       "| 841 | Hebrew                                                                 | Difference: PIC vs. No. Characters                                     | Unigram Surprisal                                                      | NA                                                                     |  0.108430295                                                           |           NA                                                           |  0.096255672                                                           |  0.120519657                                                           |  0                                                                     | higher                                                                 | spearman                                                               | FALSE                                                                  | TRUE                                                                   | 2732185984                                                             | 2,732,185,984                                                          | 25000                                                                  | Hebrew (3b)                                                            | Difference: PIC vs. No. Characters-Unigram Surprisal                   | GB12: Hebrew (3b)                                                      | GB12                                                                   | \n",
       "| 842 | Hebrew                                                                 | PIC - Characters                                                       | Unigram Surprisal                                                      | NA                                                                     |  0.302021131                                                           |  0.302004943                                                           |  0.286284263                                                           |  0.318643726                                                           | NA                                                                     | NA                                                                     | spearman                                                               | FALSE                                                                  | TRUE                                                                   | 2732185984                                                             | 2,732,185,984                                                          | 25000                                                                  | Hebrew (3b)                                                            | PIC - Characters-Unigram Surprisal                                     | GB12: Hebrew (3b)                                                      | GB12                                                                   | \n",
       "| 843 | Hebrew                                                                 | Number of Characters                                                   | Unigram Surprisal                                                      | NA                                                                     |  0.193590836                                                           |  0.193503343                                                           |  0.177417612                                                           |  0.209670553                                                           | NA                                                                     | NA                                                                     | spearman                                                               | FALSE                                                                  | TRUE                                                                   | 2732185984                                                             | 2,732,185,984                                                          | 25000                                                                  | Hebrew (3b)                                                            | Number of Characters-Unigram Surprisal                                 | GB12: Hebrew (3b)                                                      | GB12                                                                   | \n",
       "| 844 | Hebrew                                                                 | Difference: PIC vs. No. Characters                                     | Unigram Surprisal                                                      | character_ss - ortho_n                                                 |  0.250237955                                                           |           NA                                                           |  0.219804084                                                           |  0.278812003                                                           |  0                                                                     | higher                                                                 | spearman                                                               |  TRUE                                                                  | TRUE                                                                   | 2732185984                                                             | 2,732,185,984                                                          | 25000                                                                  | Hebrew (3b)                                                            | Difference: PIC vs. No. Characters-Unigram Surprisal                   | GB12: Hebrew (3b)                                                      | GB12                                                                   | \n",
       "| 845 | Hebrew                                                                 | PIC - Characters                                                       | Unigram Surprisal                                                      | ortho_n                                                                |  0.212984646                                                           |  0.213079520                                                           |  0.197494450                                                           |  0.228374872                                                           | NA                                                                     | NA                                                                     | spearman                                                               |  TRUE                                                                  | TRUE                                                                   | 2732185984                                                             | 2,732,185,984                                                          | 25000                                                                  | Hebrew (3b)                                                            | PIC - Characters-Unigram Surprisal                                     | GB12: Hebrew (3b)                                                      | GB12                                                                   | \n",
       "| 846 | Hebrew                                                                 | Number of Characters                                                   | Unigram Surprisal                                                      | character_ss                                                           | -0.037253309                                                           | -0.037400621                                                           | -0.052815272                                                           | -0.019067959                                                           | NA                                                                     | NA                                                                     | spearman                                                               |  TRUE                                                                  | TRUE                                                                   | 2732185984                                                             | 2,732,185,984                                                          | 25000                                                                  | Hebrew (3b)                                                            | Number of Characters-Unigram Surprisal                                 | GB12: Hebrew (3b)                                                      | GB12                                                                   | \n",
       "| 847 | Hebrew                                                                 | Difference: PIC vs. No. Characters                                     | Trigram Surprisal                                                      | NA                                                                     |  0.017730851                                                           |           NA                                                           |  0.005117546                                                           |  0.029077033                                                           |  0                                                                     | higher                                                                 | spearman                                                               | FALSE                                                                  | TRUE                                                                   | 2732185984                                                             | 2,732,185,984                                                          | 25000                                                                  | Hebrew (3b)                                                            | Difference: PIC vs. No. Characters-Trigram Surprisal                   | GB12: Hebrew (3b)                                                      | GB12                                                                   | \n",
       "| 848 | Hebrew                                                                 | PIC - Characters                                                       | Trigram Surprisal                                                      | NA                                                                     |  0.174733659                                                           |  0.174638011                                                           |  0.159668781                                                           |  0.190399881                                                           | NA                                                                     | NA                                                                     | spearman                                                               | FALSE                                                                  | TRUE                                                                   | 2732185984                                                             | 2,732,185,984                                                          | 25000                                                                  | Hebrew (3b)                                                            | PIC - Characters-Trigram Surprisal                                     | GB12: Hebrew (3b)                                                      | GB12                                                                   | \n",
       "| 849 | Hebrew                                                                 | Number of Characters                                                   | Trigram Surprisal                                                      | NA                                                                     |  0.157002808                                                           |  0.156979692                                                           |  0.141002383                                                           |  0.173204057                                                           | NA                                                                     | NA                                                                     | spearman                                                               | FALSE                                                                  | TRUE                                                                   | 2732185984                                                             | 2,732,185,984                                                          | 25000                                                                  | Hebrew (3b)                                                            | Number of Characters-Trigram Surprisal                                 | GB12: Hebrew (3b)                                                      | GB12                                                                   | \n",
       "| 850 | Hebrew                                                                 | Difference: PIC vs. No. Characters                                     | Trigram Surprisal                                                      | character_ss - ortho_n                                                 |  0.045113114                                                           |           NA                                                           |  0.015407208                                                           |  0.077143964                                                           |  0                                                                     | higher                                                                 | spearman                                                               |  TRUE                                                                  | TRUE                                                                   | 2732185984                                                             | 2,732,185,984                                                          | 25000                                                                  | Hebrew (3b)                                                            | Difference: PIC vs. No. Characters-Trigram Surprisal                   | GB12: Hebrew (3b)                                                      | GB12                                                                   | \n",
       "| 851 | Hebrew                                                                 | PIC - Characters                                                       | Trigram Surprisal                                                      | ortho_n                                                                |  0.080432283                                                           |  0.080325847                                                           |  0.064397944                                                           |  0.096497923                                                           | NA                                                                     | NA                                                                     | spearman                                                               |  TRUE                                                                  | TRUE                                                                   | 2732185984                                                             | 2,732,185,984                                                          | 25000                                                                  | Hebrew (3b)                                                            | PIC - Characters-Trigram Surprisal                                     | GB12: Hebrew (3b)                                                      | GB12                                                                   | \n",
       "| 852 | Hebrew                                                                 | Number of Characters                                                   | Trigram Surprisal                                                      | character_ss                                                           |  0.035319169                                                           |  0.035390738                                                           |  0.018953572                                                           |  0.051377008                                                           | NA                                                                     | NA                                                                     | spearman                                                               |  TRUE                                                                  | TRUE                                                                   | 2732185984                                                             | 2,732,185,984                                                          | 25000                                                                  | Hebrew (3b)                                                            | Number of Characters-Trigram Surprisal                                 | GB12: Hebrew (3b)                                                      | GB12                                                                   | \n",
       "| 853 | Hebrew                                                                 | Difference: PIC vs. No. Characters                                     | Frequency                                                              | NA                                                                     | -0.109384462                                                           |           NA                                                           | -0.120985207                                                           | -0.097401640                                                           |  0                                                                     | lower                                                                  | spearman                                                               | FALSE                                                                  | TRUE                                                                   | 2732185984                                                             | 2,732,185,984                                                          | 25000                                                                  | Hebrew (3b)                                                            | Difference: PIC vs. No. Characters-Frequency                           | GB12: Hebrew (3b)                                                      | GB12                                                                   | \n",
       "| 854 | Hebrew                                                                 | PIC - Characters                                                       | Frequency                                                              | NA                                                                     | -0.302996462                                                           | -0.302960660                                                           | -0.318337720                                                           | -0.287236680                                                           | NA                                                                     | NA                                                                     | spearman                                                               | FALSE                                                                  | TRUE                                                                   | 2732185984                                                             | 2,732,185,984                                                          | 25000                                                                  | Hebrew (3b)                                                            | PIC - Characters-Frequency                                             | GB12: Hebrew (3b)                                                      | GB12                                                                   | \n",
       "| 855 | Hebrew                                                                 | Number of Characters                                                   | Frequency                                                              | NA                                                                     | -0.193612000                                                           | -0.193515618                                                           | -0.209498278                                                           | -0.178279154                                                           | NA                                                                     | NA                                                                     | spearman                                                               | FALSE                                                                  | TRUE                                                                   | 2732185984                                                             | 2,732,185,984                                                          | 25000                                                                  | Hebrew (3b)                                                            | Number of Characters-Frequency                                         | GB12: Hebrew (3b)                                                      | GB12                                                                   | \n",
       "| 856 | Hebrew                                                                 | Difference: PIC vs. No. Characters                                     | Frequency                                                              | character_ss - ortho_n                                                 | -0.253168909                                                           |           NA                                                           | -0.283242504                                                           | -0.222671380                                                           |  0                                                                     | lower                                                                  | spearman                                                               |  TRUE                                                                  | TRUE                                                                   | 2732185984                                                             | 2,732,185,984                                                          | 25000                                                                  | Hebrew (3b)                                                            | Difference: PIC vs. No. Characters-Frequency                           | GB12: Hebrew (3b)                                                      | GB12                                                                   | \n",
       "| 857 | Hebrew                                                                 | PIC - Characters                                                       | Frequency                                                              | ortho_n                                                                | -0.214531817                                                           | -0.214476986                                                           | -0.229839053                                                           | -0.199042565                                                           | NA                                                                     | NA                                                                     | spearman                                                               |  TRUE                                                                  | TRUE                                                                   | 2732185984                                                             | 2,732,185,984                                                          | 25000                                                                  | Hebrew (3b)                                                            | PIC - Characters-Frequency                                             | GB12: Hebrew (3b)                                                      | GB12                                                                   | \n",
       "| 858 | Hebrew                                                                 | Number of Characters                                                   | Frequency                                                              | character_ss                                                           |  0.038637092                                                           |  0.038459571                                                           |  0.021517108                                                           |  0.054876204                                                           | NA                                                                     | NA                                                                     | spearman                                                               |  TRUE                                                                  | TRUE                                                                   | 2732185984                                                             | 2,732,185,984                                                          | 25000                                                                  | Hebrew (3b)                                                            | Number of Characters-Frequency                                         | GB12: Hebrew (3b)                                                      | GB12                                                                   | \n",
       "| 859 | Hebrew                                                                 | Difference: Unigram Surprisal - Trigram Surprisal                      | PIC - Characters                                                       | NA                                                                     |  0.127414482                                                           |           NA                                                           |  0.109718991                                                           |  0.143799100                                                           |  0                                                                     | higher                                                                 | spearman                                                               | FALSE                                                                  | TRUE                                                                   | 2732185984                                                             | 2,732,185,984                                                          | 25000                                                                  | Hebrew (3b)                                                            | Difference: Unigram Surprisal - Trigram Surprisal-PIC - Characters     | GB12: Hebrew (3b)                                                      | GB12                                                                   | \n",
       "| 860 | Hebrew                                                                 | Unigram Surprisal                                                      | PIC - Characters                                                       | NA                                                                     |  0.302125618                                                           |  0.302004943                                                           |  0.285706648                                                           |  0.317458527                                                           | NA                                                                     | NA                                                                     | spearman                                                               | FALSE                                                                  | TRUE                                                                   | 2732185984                                                             | 2,732,185,984                                                          | 25000                                                                  | Hebrew (3b)                                                            | Unigram Surprisal-PIC - Characters                                     | GB12: Hebrew (3b)                                                      | GB12                                                                   | \n",
       "| 861 | Hebrew                                                                 | Trigram Surprisal                                                      | PIC - Characters                                                       | NA                                                                     |  0.174711137                                                           |  0.174638011                                                           |  0.158208418                                                           |  0.190251708                                                           | NA                                                                     | NA                                                                     | spearman                                                               | FALSE                                                                  | TRUE                                                                   | 2732185984                                                             | 2,732,185,984                                                          | 25000                                                                  | Hebrew (3b)                                                            | Trigram Surprisal-PIC - Characters                                     | GB12: Hebrew (3b)                                                      | GB12                                                                   | \n",
       "| 862 | Hebrew                                                                 | Difference: Unigram Surprisal - Trigram Surprisal                      | PIC - Characters                                                       | unigramSurprisal - trigramSurprisal                                    |  0.237161370                                                           |           NA                                                           |  0.209813511                                                           |  0.263368913                                                           |  0                                                                     | higher                                                                 | spearman                                                               |  TRUE                                                                  | TRUE                                                                   | 2732185984                                                             | 2,732,185,984                                                          | 25000                                                                  | Hebrew (3b)                                                            | Difference: Unigram Surprisal - Trigram Surprisal-PIC - Characters     | GB12: Hebrew (3b)                                                      | GB12                                                                   | \n",
       "| 863 | Hebrew                                                                 | Unigram Surprisal                                                      | PIC - Characters                                                       | trigramSurprisal                                                       |  0.263952171                                                           |  0.263946375                                                           |  0.247480059                                                           |  0.280032619                                                           | NA                                                                     | NA                                                                     | spearman                                                               |  TRUE                                                                  | TRUE                                                                   | 2732185984                                                             | 2,732,185,984                                                          | 25000                                                                  | Hebrew (3b)                                                            | Unigram Surprisal-PIC - Characters                                     | GB12: Hebrew (3b)                                                      | GB12                                                                   | \n",
       "| 864 | Hebrew                                                                 | Trigram Surprisal                                                      | PIC - Characters                                                       | unigramSurprisal                                                       |  0.026790801                                                           |  0.026750380                                                           |  0.010978375                                                           |  0.042544115                                                           | NA                                                                     | NA                                                                     | spearman                                                               |  TRUE                                                                  | TRUE                                                                   | 2732185984                                                             | 2,732,185,984                                                          | 25000                                                                  | Hebrew (3b)                                                            | Trigram Surprisal-PIC - Characters                                     | GB12: Hebrew (3b)                                                      | GB12                                                                   | \n",
       "| 865 | Hebrew                                                                 | Difference: Unigram Surprisal - Trigram Surprisal                      | Number of Characters                                                   | NA                                                                     |  0.036466440                                                           |           NA                                                           |  0.019422456                                                           |  0.053928891                                                           |  0                                                                     | higher                                                                 | spearman                                                               | FALSE                                                                  | TRUE                                                                   | 2732185984                                                             | 2,732,185,984                                                          | 25000                                                                  | Hebrew (3b)                                                            | Difference: Unigram Surprisal - Trigram Surprisal-Number of Characters | GB12: Hebrew (3b)                                                      | GB12                                                                   | \n",
       "| 866 | Hebrew                                                                 | Unigram Surprisal                                                      | Number of Characters                                                   | NA                                                                     |  0.193639470                                                           |  0.193503343                                                           |  0.177358173                                                           |  0.209598004                                                           | NA                                                                     | NA                                                                     | spearman                                                               | FALSE                                                                  | TRUE                                                                   | 2732185984                                                             | 2,732,185,984                                                          | 25000                                                                  | Hebrew (3b)                                                            | Unigram Surprisal-Number of Characters                                 | GB12: Hebrew (3b)                                                      | GB12                                                                   | \n",
       "| 867 | Hebrew                                                                 | Trigram Surprisal                                                      | Number of Characters                                                   | NA                                                                     |  0.157173030                                                           |  0.156979692                                                           |  0.140985209                                                           |  0.173021624                                                           | NA                                                                     | NA                                                                     | spearman                                                               | FALSE                                                                  | TRUE                                                                   | 2732185984                                                             | 2,732,185,984                                                          | 25000                                                                  | Hebrew (3b)                                                            | Trigram Surprisal-Number of Characters                                 | GB12: Hebrew (3b)                                                      | GB12                                                                   | \n",
       "| 868 | Hebrew                                                                 | Difference: Unigram Surprisal - Trigram Surprisal                      | Number of Characters                                                   | unigramSurprisal - trigramSurprisal                                    |  0.099334727                                                           |           NA                                                           |  0.073217671                                                           |  0.126813397                                                           |  0                                                                     | higher                                                                 | spearman                                                               |  TRUE                                                                  | TRUE                                                                   | 2732185984                                                             | 2,732,185,984                                                          | 25000                                                                  | Hebrew (3b)                                                            | Difference: Unigram Surprisal - Trigram Surprisal-Number of Characters | GB12: Hebrew (3b)                                                      | GB12                                                                   | \n",
       "| 869 | Hebrew                                                                 | Unigram Surprisal                                                      | Number of Characters                                                   | trigramSurprisal                                                       |  0.154420637                                                           |  0.154395152                                                           |  0.138374911                                                           |  0.170997618                                                           | NA                                                                     | NA                                                                     | spearman                                                               |  TRUE                                                                  | TRUE                                                                   | 2732185984                                                             | 2,732,185,984                                                          | 25000                                                                  | Hebrew (3b)                                                            | Unigram Surprisal-Number of Characters                                 | GB12: Hebrew (3b)                                                      | GB12                                                                   | \n",
       "| 870 | Hebrew                                                                 | Trigram Surprisal                                                      | Number of Characters                                                   | unigramSurprisal                                                       |  0.055085911                                                           |  0.055214105                                                           |  0.037421287                                                           |  0.071250122                                                           | NA                                                                     | NA                                                                     | spearman                                                               |  TRUE                                                                  | TRUE                                                                   | 2732185984                                                             | 2,732,185,984                                                          | 25000                                                                  | Hebrew (3b)                                                            | Trigram Surprisal-Number of Characters                                 | GB12: Hebrew (3b)                                                      | GB12                                                                   | \n",
       "| 1351 | Hebrew                                                                 | Difference: PIC vs. No. Characters                                     | Unigram Surprisal                                                      | NA                                                                     |  0.081702604                                                           |           NA                                                           |  0.070741004                                                           |  0.092685028                                                           |  0                                                                     | higher                                                                 | spearman                                                               | FALSE                                                                  | TRUE                                                                   |   65088282                                                             | 65,088,282                                                             | 25000                                                                  | Hebrew (65m)                                                           | NA                                                                     | OPUS: Hebrew (65m)                                                     | OPUS                                                                   | \n",
       "| 1352 | Hebrew                                                                 | PIC - Characters                                                       | Unigram Surprisal                                                      | NA                                                                     |  0.329279733                                                           |  0.329289201                                                           |  0.314263679                                                           |  0.344001676                                                           | NA                                                                     | NA                                                                     | spearman                                                               | FALSE                                                                  | TRUE                                                                   |   65088282                                                             | 65,088,282                                                             | 25000                                                                  | Hebrew (65m)                                                           | NA                                                                     | OPUS: Hebrew (65m)                                                     | OPUS                                                                   | \n",
       "| 1353 | Hebrew                                                                 | Number of Characters                                                   | Unigram Surprisal                                                      | NA                                                                     |  0.247577129                                                           |  0.247533141                                                           |  0.232298270                                                           |  0.264321165                                                           | NA                                                                     | NA                                                                     | spearman                                                               | FALSE                                                                  | TRUE                                                                   |   65088282                                                             | 65,088,282                                                             | 25000                                                                  | Hebrew (65m)                                                           | NA                                                                     | OPUS: Hebrew (65m)                                                     | OPUS                                                                   | \n",
       "| 1354 | Hebrew                                                                 | Difference: PIC vs. No. Characters                                     | Unigram Surprisal                                                      | character_ss - ortho_n                                                 |  0.193238667                                                           |           NA                                                           |  0.164798275                                                           |  0.222183624                                                           |  0                                                                     | higher                                                                 | spearman                                                               |  TRUE                                                                  | TRUE                                                                   |   65088282                                                             | 65,088,282                                                             | 25000                                                                  | Hebrew (65m)                                                           | NA                                                                     | OPUS: Hebrew (65m)                                                     | OPUS                                                                   | \n",
       "| 1355 | Hebrew                                                                 | PIC - Characters                                                       | Unigram Surprisal                                                      | ortho_n                                                                |  0.199918933                                                           |  0.199919145                                                           |  0.185005306                                                           |  0.215775403                                                           | NA                                                                     | NA                                                                     | spearman                                                               |  TRUE                                                                  | TRUE                                                                   |   65088282                                                             | 65,088,282                                                             | 25000                                                                  | Hebrew (65m)                                                           | NA                                                                     | OPUS: Hebrew (65m)                                                     | OPUS                                                                   | \n",
       "| 1356 | Hebrew                                                                 | Number of Characters                                                   | Unigram Surprisal                                                      | character_ss                                                           |  0.006680266                                                           |  0.006831249                                                           | -0.009631063                                                           |  0.023034110                                                           | NA                                                                     | NA                                                                     | spearman                                                               |  TRUE                                                                  | TRUE                                                                   |   65088282                                                             | 65,088,282                                                             | 25000                                                                  | Hebrew (65m)                                                           | NA                                                                     | OPUS: Hebrew (65m)                                                     | OPUS                                                                   | \n",
       "| 1357 | Hebrew                                                                 | Difference: PIC vs. No. Characters                                     | Trigram Surprisal                                                      | NA                                                                     |  0.063002102                                                           |           NA                                                           |  0.051347695                                                           |  0.074383768                                                           |  0                                                                     | higher                                                                 | spearman                                                               | FALSE                                                                  | TRUE                                                                   |   65088282                                                             | 65,088,282                                                             | 25000                                                                  | Hebrew (65m)                                                           | NA                                                                     | OPUS: Hebrew (65m)                                                     | OPUS                                                                   | \n",
       "| 1358 | Hebrew                                                                 | PIC - Characters                                                       | Trigram Surprisal                                                      | NA                                                                     |  0.058688241                                                           |  0.058469444                                                           |  0.043060784                                                           |  0.075226822                                                           | NA                                                                     | NA                                                                     | spearman                                                               | FALSE                                                                  | TRUE                                                                   |   65088282                                                             | 65,088,282                                                             | 25000                                                                  | Hebrew (65m)                                                           | NA                                                                     | OPUS: Hebrew (65m)                                                     | OPUS                                                                   | \n",
       "| 1359 | Hebrew                                                                 | Number of Characters                                                   | Trigram Surprisal                                                      | NA                                                                     | -0.004313861                                                           | -0.004439025                                                           | -0.020852456                                                           |  0.012410621                                                           | NA                                                                     | NA                                                                     | spearman                                                               | FALSE                                                                  | TRUE                                                                   |   65088282                                                             | 65,088,282                                                             | 25000                                                                  | Hebrew (65m)                                                           | NA                                                                     | OPUS: Hebrew (65m)                                                     | OPUS                                                                   | \n",
       "| 1360 | Hebrew                                                                 | Difference: PIC vs. No. Characters                                     | Trigram Surprisal                                                      | character_ss - ortho_n                                                 |  0.149892409                                                           |           NA                                                           |  0.119506093                                                           |  0.180528866                                                           |  0                                                                     | higher                                                                 | spearman                                                               |  TRUE                                                                  | TRUE                                                                   |   65088282                                                             | 65,088,282                                                             | 25000                                                                  | Hebrew (65m)                                                           | NA                                                                     | OPUS: Hebrew (65m)                                                     | OPUS                                                                   | \n",
       "| 1361 | Hebrew                                                                 | PIC - Characters                                                       | Trigram Surprisal                                                      | ortho_n                                                                |  0.084322685                                                           |  0.084509838                                                           |  0.068044634                                                           |  0.100094118                                                           | NA                                                                     | NA                                                                     | spearman                                                               |  TRUE                                                                  | TRUE                                                                   |   65088282                                                             | 65,088,282                                                             | 25000                                                                  | Hebrew (65m)                                                           | NA                                                                     | OPUS: Hebrew (65m)                                                     | OPUS                                                                   | \n",
       "| 1362 | Hebrew                                                                 | Number of Characters                                                   | Trigram Surprisal                                                      | character_ss                                                           | -0.065569724                                                           | -0.065640692                                                           | -0.082211001                                                           | -0.050148224                                                           | NA                                                                     | NA                                                                     | spearman                                                               |  TRUE                                                                  | TRUE                                                                   |   65088282                                                             | 65,088,282                                                             | 25000                                                                  | Hebrew (65m)                                                           | NA                                                                     | OPUS: Hebrew (65m)                                                     | OPUS                                                                   | \n",
       "| 1363 | Hebrew                                                                 | Difference: PIC vs. No. Characters                                     | Frequency                                                              | NA                                                                     | -0.081794926                                                           |           NA                                                           | -0.092770561                                                           | -0.069777122                                                           |  0                                                                     | lower                                                                  | spearman                                                               | FALSE                                                                  | TRUE                                                                   |   65088282                                                             | 65,088,282                                                             | 25000                                                                  | Hebrew (65m)                                                           | NA                                                                     | OPUS: Hebrew (65m)                                                     | OPUS                                                                   | \n",
       "| 1364 | Hebrew                                                                 | PIC - Characters                                                       | Frequency                                                              | NA                                                                     | -0.329173896                                                           | -0.329289201                                                           | -0.343509667                                                           | -0.313430325                                                           | NA                                                                     | NA                                                                     | spearman                                                               | FALSE                                                                  | TRUE                                                                   |   65088282                                                             | 65,088,282                                                             | 25000                                                                  | Hebrew (65m)                                                           | NA                                                                     | OPUS: Hebrew (65m)                                                     | OPUS                                                                   | \n",
       "| 1365 | Hebrew                                                                 | Number of Characters                                                   | Frequency                                                              | NA                                                                     | -0.247378970                                                           | -0.247533141                                                           | -0.263395172                                                           | -0.232197165                                                           | NA                                                                     | NA                                                                     | spearman                                                               | FALSE                                                                  | TRUE                                                                   |   65088282                                                             | 65,088,282                                                             | 25000                                                                  | Hebrew (65m)                                                           | NA                                                                     | OPUS: Hebrew (65m)                                                     | OPUS                                                                   | \n",
       "| 1366 | Hebrew                                                                 | Difference: PIC vs. No. Characters                                     | Frequency                                                              | character_ss - ortho_n                                                 | -0.192971754                                                           |           NA                                                           | -0.223772876                                                           | -0.163442771                                                           |  0                                                                     | lower                                                                  | spearman                                                               |  TRUE                                                                  | TRUE                                                                   |   65088282                                                             | 65,088,282                                                             | 25000                                                                  | Hebrew (65m)                                                           | NA                                                                     | OPUS: Hebrew (65m)                                                     | OPUS                                                                   | \n",
       "| 1367 | Hebrew                                                                 | PIC - Characters                                                       | Frequency                                                              | ortho_n                                                                | -0.199790347                                                           | -0.199919145                                                           | -0.216353546                                                           | -0.183584947                                                           | NA                                                                     | NA                                                                     | spearman                                                               |  TRUE                                                                  | TRUE                                                                   |   65088282                                                             | 65,088,282                                                             | 25000                                                                  | Hebrew (65m)                                                           | NA                                                                     | OPUS: Hebrew (65m)                                                     | OPUS                                                                   | \n",
       "| 1368 | Hebrew                                                                 | Number of Characters                                                   | Frequency                                                              | character_ss                                                           | -0.006818593                                                           | -0.006831249                                                           | -0.023317533                                                           |  0.008861342                                                           | NA                                                                     | NA                                                                     | spearman                                                               |  TRUE                                                                  | TRUE                                                                   |   65088282                                                             | 65,088,282                                                             | 25000                                                                  | Hebrew (65m)                                                           | NA                                                                     | OPUS: Hebrew (65m)                                                     | OPUS                                                                   | \n",
       "| 1369 | Hebrew                                                                 | Difference: Unigram Surprisal - Trigram Surprisal                      | PIC - Characters                                                       | NA                                                                     |  0.270927752                                                           |           NA                                                           |  0.249154279                                                           |  0.293243338                                                           |  0                                                                     | higher                                                                 | spearman                                                               | FALSE                                                                  | TRUE                                                                   |   65088282                                                             | 65,088,282                                                             | 25000                                                                  | Hebrew (65m)                                                           | NA                                                                     | OPUS: Hebrew (65m)                                                     | OPUS                                                                   | \n",
       "| 1370 | Hebrew                                                                 | Unigram Surprisal                                                      | PIC - Characters                                                       | NA                                                                     |  0.329173183                                                           |  0.329289201                                                           |  0.313777207                                                           |  0.344673351                                                           | NA                                                                     | NA                                                                     | spearman                                                               | FALSE                                                                  | TRUE                                                                   |   65088282                                                             | 65,088,282                                                             | 25000                                                                  | Hebrew (65m)                                                           | NA                                                                     | OPUS: Hebrew (65m)                                                     | OPUS                                                                   | \n",
       "| 1371 | Hebrew                                                                 | Trigram Surprisal                                                      | PIC - Characters                                                       | NA                                                                     |  0.058245431                                                           |  0.058469444                                                           |  0.041270349                                                           |  0.074336418                                                           | NA                                                                     | NA                                                                     | spearman                                                               | FALSE                                                                  | TRUE                                                                   |   65088282                                                             | 65,088,282                                                             | 25000                                                                  | Hebrew (65m)                                                           | NA                                                                     | OPUS: Hebrew (65m)                                                     | OPUS                                                                   | \n",
       "| 1372 | Hebrew                                                                 | Difference: Unigram Surprisal - Trigram Surprisal                      | PIC - Characters                                                       | unigramSurprisal - trigramSurprisal                                    |  0.303864971                                                           |           NA                                                           |  0.278923950                                                           |  0.328672682                                                           |  0                                                                     | higher                                                                 | spearman                                                               |  TRUE                                                                  | TRUE                                                                   |   65088282                                                             | 65,088,282                                                             | 25000                                                                  | Hebrew (65m)                                                           | NA                                                                     | OPUS: Hebrew (65m)                                                     | OPUS                                                                   | \n",
       "| 1373 | Hebrew                                                                 | Unigram Surprisal                                                      | PIC - Characters                                                       | trigramSurprisal                                                       |  0.322726749                                                           |  0.322811078                                                           |  0.308657246                                                           |  0.337161696                                                           | NA                                                                     | NA                                                                     | spearman                                                               |  TRUE                                                                  | TRUE                                                                   |   65088282                                                             | 65,088,282                                                             | 25000                                                                  | Hebrew (65m)                                                           | NA                                                                     | OPUS: Hebrew (65m)                                                     | OPUS                                                                   | \n",
       "| 1374 | Hebrew                                                                 | Trigram Surprisal                                                      | PIC - Characters                                                       | unigramSurprisal                                                       |  0.018861778                                                           |  0.018861022                                                           |  0.003140657                                                           |  0.036058505                                                           | NA                                                                     | NA                                                                     | spearman                                                               |  TRUE                                                                  | TRUE                                                                   |   65088282                                                             | 65,088,282                                                             | 25000                                                                  | Hebrew (65m)                                                           | NA                                                                     | OPUS: Hebrew (65m)                                                     | OPUS                                                                   | \n",
       "| 1375 | Hebrew                                                                 | Difference: Unigram Surprisal - Trigram Surprisal                      | Number of Characters                                                   | NA                                                                     |  0.251681239                                                           |           NA                                                           |  0.228951011                                                           |  0.272778314                                                           |  0                                                                     | higher                                                                 | spearman                                                               | FALSE                                                                  | TRUE                                                                   |   65088282                                                             | 65,088,282                                                             | 25000                                                                  | Hebrew (65m)                                                           | NA                                                                     | OPUS: Hebrew (65m)                                                     | OPUS                                                                   | \n",
       "| 1376 | Hebrew                                                                 | Unigram Surprisal                                                      | Number of Characters                                                   | NA                                                                     |  0.247483795                                                           |  0.247533141                                                           |  0.231274044                                                           |  0.262973722                                                           | NA                                                                     | NA                                                                     | spearman                                                               | FALSE                                                                  | TRUE                                                                   |   65088282                                                             | 65,088,282                                                             | 25000                                                                  | Hebrew (65m)                                                           | NA                                                                     | OPUS: Hebrew (65m)                                                     | OPUS                                                                   | \n",
       "| 1377 | Hebrew                                                                 | Trigram Surprisal                                                      | Number of Characters                                                   | NA                                                                     | -0.004197444                                                           | -0.004439025                                                           | -0.019884254                                                           |  0.012782152                                                           | NA                                                                     | NA                                                                     | spearman                                                               | FALSE                                                                  | TRUE                                                                   |   65088282                                                             | 65,088,282                                                             | 25000                                                                  | Hebrew (65m)                                                           | NA                                                                     | OPUS: Hebrew (65m)                                                     | OPUS                                                                   | \n",
       "| 1378 | Hebrew                                                                 | Difference: Unigram Surprisal - Trigram Surprisal                      | Number of Characters                                                   | unigramSurprisal - trigramSurprisal                                    |  0.289203932                                                           |           NA                                                           |  0.264543098                                                           |  0.312750928                                                           |  0                                                                     | higher                                                                 | spearman                                                               |  TRUE                                                                  | TRUE                                                                   |   65088282                                                             | 65,088,282                                                             | 25000                                                                  | Hebrew (65m)                                                           | NA                                                                     | OPUS: Hebrew (65m)                                                     | OPUS                                                                   | \n",
       "| 1379 | Hebrew                                                                 | Unigram Surprisal                                                      | Number of Characters                                                   | trigramSurprisal                                                       |  0.253123599                                                           |  0.253129070                                                           |  0.238004097                                                           |  0.269460916                                                           | NA                                                                     | NA                                                                     | spearman                                                               |  TRUE                                                                  | TRUE                                                                   |   65088282                                                             | 65,088,282                                                             | 25000                                                                  | Hebrew (65m)                                                           | NA                                                                     | OPUS: Hebrew (65m)                                                     | OPUS                                                                   | \n",
       "| 1380 | Hebrew                                                                 | Trigram Surprisal                                                      | Number of Characters                                                   | unigramSurprisal                                                       | -0.036080333                                                           | -0.035914229                                                           | -0.051335182                                                           | -0.020028882                                                           | NA                                                                     | NA                                                                     | spearman                                                               |  TRUE                                                                  | TRUE                                                                   |   65088282                                                             | 65,088,282                                                             | 25000                                                                  | Hebrew (65m)                                                           | NA                                                                     | OPUS: Hebrew (65m)                                                     | OPUS                                                                   | \n",
       "\n",
       "\n"
      ],
      "text/plain": [
       "     language yv                                               \n",
       "841  Hebrew   Difference: PIC vs. No. Characters               \n",
       "842  Hebrew   PIC - Characters                                 \n",
       "843  Hebrew   Number of Characters                             \n",
       "844  Hebrew   Difference: PIC vs. No. Characters               \n",
       "845  Hebrew   PIC - Characters                                 \n",
       "846  Hebrew   Number of Characters                             \n",
       "847  Hebrew   Difference: PIC vs. No. Characters               \n",
       "848  Hebrew   PIC - Characters                                 \n",
       "849  Hebrew   Number of Characters                             \n",
       "850  Hebrew   Difference: PIC vs. No. Characters               \n",
       "851  Hebrew   PIC - Characters                                 \n",
       "852  Hebrew   Number of Characters                             \n",
       "853  Hebrew   Difference: PIC vs. No. Characters               \n",
       "854  Hebrew   PIC - Characters                                 \n",
       "855  Hebrew   Number of Characters                             \n",
       "856  Hebrew   Difference: PIC vs. No. Characters               \n",
       "857  Hebrew   PIC - Characters                                 \n",
       "858  Hebrew   Number of Characters                             \n",
       "859  Hebrew   Difference: Unigram Surprisal - Trigram Surprisal\n",
       "860  Hebrew   Unigram Surprisal                                \n",
       "861  Hebrew   Trigram Surprisal                                \n",
       "862  Hebrew   Difference: Unigram Surprisal - Trigram Surprisal\n",
       "863  Hebrew   Unigram Surprisal                                \n",
       "864  Hebrew   Trigram Surprisal                                \n",
       "865  Hebrew   Difference: Unigram Surprisal - Trigram Surprisal\n",
       "866  Hebrew   Unigram Surprisal                                \n",
       "867  Hebrew   Trigram Surprisal                                \n",
       "868  Hebrew   Difference: Unigram Surprisal - Trigram Surprisal\n",
       "869  Hebrew   Unigram Surprisal                                \n",
       "870  Hebrew   Trigram Surprisal                                \n",
       "1351 Hebrew   Difference: PIC vs. No. Characters               \n",
       "1352 Hebrew   PIC - Characters                                 \n",
       "1353 Hebrew   Number of Characters                             \n",
       "1354 Hebrew   Difference: PIC vs. No. Characters               \n",
       "1355 Hebrew   PIC - Characters                                 \n",
       "1356 Hebrew   Number of Characters                             \n",
       "1357 Hebrew   Difference: PIC vs. No. Characters               \n",
       "1358 Hebrew   PIC - Characters                                 \n",
       "1359 Hebrew   Number of Characters                             \n",
       "1360 Hebrew   Difference: PIC vs. No. Characters               \n",
       "1361 Hebrew   PIC - Characters                                 \n",
       "1362 Hebrew   Number of Characters                             \n",
       "1363 Hebrew   Difference: PIC vs. No. Characters               \n",
       "1364 Hebrew   PIC - Characters                                 \n",
       "1365 Hebrew   Number of Characters                             \n",
       "1366 Hebrew   Difference: PIC vs. No. Characters               \n",
       "1367 Hebrew   PIC - Characters                                 \n",
       "1368 Hebrew   Number of Characters                             \n",
       "1369 Hebrew   Difference: Unigram Surprisal - Trigram Surprisal\n",
       "1370 Hebrew   Unigram Surprisal                                \n",
       "1371 Hebrew   Trigram Surprisal                                \n",
       "1372 Hebrew   Difference: Unigram Surprisal - Trigram Surprisal\n",
       "1373 Hebrew   Unigram Surprisal                                \n",
       "1374 Hebrew   Trigram Surprisal                                \n",
       "1375 Hebrew   Difference: Unigram Surprisal - Trigram Surprisal\n",
       "1376 Hebrew   Unigram Surprisal                                \n",
       "1377 Hebrew   Trigram Surprisal                                \n",
       "1378 Hebrew   Difference: Unigram Surprisal - Trigram Surprisal\n",
       "1379 Hebrew   Unigram Surprisal                                \n",
       "1380 Hebrew   Trigram Surprisal                                \n",
       "     xv                   resid_var                           meanBootstrap\n",
       "841  Unigram Surprisal    NA                                   0.108430295 \n",
       "842  Unigram Surprisal    NA                                   0.302021131 \n",
       "843  Unigram Surprisal    NA                                   0.193590836 \n",
       "844  Unigram Surprisal    character_ss - ortho_n               0.250237955 \n",
       "845  Unigram Surprisal    ortho_n                              0.212984646 \n",
       "846  Unigram Surprisal    character_ss                        -0.037253309 \n",
       "847  Trigram Surprisal    NA                                   0.017730851 \n",
       "848  Trigram Surprisal    NA                                   0.174733659 \n",
       "849  Trigram Surprisal    NA                                   0.157002808 \n",
       "850  Trigram Surprisal    character_ss - ortho_n               0.045113114 \n",
       "851  Trigram Surprisal    ortho_n                              0.080432283 \n",
       "852  Trigram Surprisal    character_ss                         0.035319169 \n",
       "853  Frequency            NA                                  -0.109384462 \n",
       "854  Frequency            NA                                  -0.302996462 \n",
       "855  Frequency            NA                                  -0.193612000 \n",
       "856  Frequency            character_ss - ortho_n              -0.253168909 \n",
       "857  Frequency            ortho_n                             -0.214531817 \n",
       "858  Frequency            character_ss                         0.038637092 \n",
       "859  PIC - Characters     NA                                   0.127414482 \n",
       "860  PIC - Characters     NA                                   0.302125618 \n",
       "861  PIC - Characters     NA                                   0.174711137 \n",
       "862  PIC - Characters     unigramSurprisal - trigramSurprisal  0.237161370 \n",
       "863  PIC - Characters     trigramSurprisal                     0.263952171 \n",
       "864  PIC - Characters     unigramSurprisal                     0.026790801 \n",
       "865  Number of Characters NA                                   0.036466440 \n",
       "866  Number of Characters NA                                   0.193639470 \n",
       "867  Number of Characters NA                                   0.157173030 \n",
       "868  Number of Characters unigramSurprisal - trigramSurprisal  0.099334727 \n",
       "869  Number of Characters trigramSurprisal                     0.154420637 \n",
       "870  Number of Characters unigramSurprisal                     0.055085911 \n",
       "1351 Unigram Surprisal    NA                                   0.081702604 \n",
       "1352 Unigram Surprisal    NA                                   0.329279733 \n",
       "1353 Unigram Surprisal    NA                                   0.247577129 \n",
       "1354 Unigram Surprisal    character_ss - ortho_n               0.193238667 \n",
       "1355 Unigram Surprisal    ortho_n                              0.199918933 \n",
       "1356 Unigram Surprisal    character_ss                         0.006680266 \n",
       "1357 Trigram Surprisal    NA                                   0.063002102 \n",
       "1358 Trigram Surprisal    NA                                   0.058688241 \n",
       "1359 Trigram Surprisal    NA                                  -0.004313861 \n",
       "1360 Trigram Surprisal    character_ss - ortho_n               0.149892409 \n",
       "1361 Trigram Surprisal    ortho_n                              0.084322685 \n",
       "1362 Trigram Surprisal    character_ss                        -0.065569724 \n",
       "1363 Frequency            NA                                  -0.081794926 \n",
       "1364 Frequency            NA                                  -0.329173896 \n",
       "1365 Frequency            NA                                  -0.247378970 \n",
       "1366 Frequency            character_ss - ortho_n              -0.192971754 \n",
       "1367 Frequency            ortho_n                             -0.199790347 \n",
       "1368 Frequency            character_ss                        -0.006818593 \n",
       "1369 PIC - Characters     NA                                   0.270927752 \n",
       "1370 PIC - Characters     NA                                   0.329173183 \n",
       "1371 PIC - Characters     NA                                   0.058245431 \n",
       "1372 PIC - Characters     unigramSurprisal - trigramSurprisal  0.303864971 \n",
       "1373 PIC - Characters     trigramSurprisal                     0.322726749 \n",
       "1374 PIC - Characters     unigramSurprisal                     0.018861778 \n",
       "1375 Number of Characters NA                                   0.251681239 \n",
       "1376 Number of Characters NA                                   0.247483795 \n",
       "1377 Number of Characters NA                                  -0.004197444 \n",
       "1378 Number of Characters unigramSurprisal - trigramSurprisal  0.289203932 \n",
       "1379 Number of Characters trigramSurprisal                     0.253123599 \n",
       "1380 Number of Characters unigramSurprisal                    -0.036080333 \n",
       "     singleCor    lower        upper        pvalue direction corMethod\n",
       "841            NA  0.096255672  0.120519657  0     higher    spearman \n",
       "842   0.302004943  0.286284263  0.318643726 NA     NA        spearman \n",
       "843   0.193503343  0.177417612  0.209670553 NA     NA        spearman \n",
       "844            NA  0.219804084  0.278812003  0     higher    spearman \n",
       "845   0.213079520  0.197494450  0.228374872 NA     NA        spearman \n",
       "846  -0.037400621 -0.052815272 -0.019067959 NA     NA        spearman \n",
       "847            NA  0.005117546  0.029077033  0     higher    spearman \n",
       "848   0.174638011  0.159668781  0.190399881 NA     NA        spearman \n",
       "849   0.156979692  0.141002383  0.173204057 NA     NA        spearman \n",
       "850            NA  0.015407208  0.077143964  0     higher    spearman \n",
       "851   0.080325847  0.064397944  0.096497923 NA     NA        spearman \n",
       "852   0.035390738  0.018953572  0.051377008 NA     NA        spearman \n",
       "853            NA -0.120985207 -0.097401640  0     lower     spearman \n",
       "854  -0.302960660 -0.318337720 -0.287236680 NA     NA        spearman \n",
       "855  -0.193515618 -0.209498278 -0.178279154 NA     NA        spearman \n",
       "856            NA -0.283242504 -0.222671380  0     lower     spearman \n",
       "857  -0.214476986 -0.229839053 -0.199042565 NA     NA        spearman \n",
       "858   0.038459571  0.021517108  0.054876204 NA     NA        spearman \n",
       "859            NA  0.109718991  0.143799100  0     higher    spearman \n",
       "860   0.302004943  0.285706648  0.317458527 NA     NA        spearman \n",
       "861   0.174638011  0.158208418  0.190251708 NA     NA        spearman \n",
       "862            NA  0.209813511  0.263368913  0     higher    spearman \n",
       "863   0.263946375  0.247480059  0.280032619 NA     NA        spearman \n",
       "864   0.026750380  0.010978375  0.042544115 NA     NA        spearman \n",
       "865            NA  0.019422456  0.053928891  0     higher    spearman \n",
       "866   0.193503343  0.177358173  0.209598004 NA     NA        spearman \n",
       "867   0.156979692  0.140985209  0.173021624 NA     NA        spearman \n",
       "868            NA  0.073217671  0.126813397  0     higher    spearman \n",
       "869   0.154395152  0.138374911  0.170997618 NA     NA        spearman \n",
       "870   0.055214105  0.037421287  0.071250122 NA     NA        spearman \n",
       "1351           NA  0.070741004  0.092685028  0     higher    spearman \n",
       "1352  0.329289201  0.314263679  0.344001676 NA     NA        spearman \n",
       "1353  0.247533141  0.232298270  0.264321165 NA     NA        spearman \n",
       "1354           NA  0.164798275  0.222183624  0     higher    spearman \n",
       "1355  0.199919145  0.185005306  0.215775403 NA     NA        spearman \n",
       "1356  0.006831249 -0.009631063  0.023034110 NA     NA        spearman \n",
       "1357           NA  0.051347695  0.074383768  0     higher    spearman \n",
       "1358  0.058469444  0.043060784  0.075226822 NA     NA        spearman \n",
       "1359 -0.004439025 -0.020852456  0.012410621 NA     NA        spearman \n",
       "1360           NA  0.119506093  0.180528866  0     higher    spearman \n",
       "1361  0.084509838  0.068044634  0.100094118 NA     NA        spearman \n",
       "1362 -0.065640692 -0.082211001 -0.050148224 NA     NA        spearman \n",
       "1363           NA -0.092770561 -0.069777122  0     lower     spearman \n",
       "1364 -0.329289201 -0.343509667 -0.313430325 NA     NA        spearman \n",
       "1365 -0.247533141 -0.263395172 -0.232197165 NA     NA        spearman \n",
       "1366           NA -0.223772876 -0.163442771  0     lower     spearman \n",
       "1367 -0.199919145 -0.216353546 -0.183584947 NA     NA        spearman \n",
       "1368 -0.006831249 -0.023317533  0.008861342 NA     NA        spearman \n",
       "1369           NA  0.249154279  0.293243338  0     higher    spearman \n",
       "1370  0.329289201  0.313777207  0.344673351 NA     NA        spearman \n",
       "1371  0.058469444  0.041270349  0.074336418 NA     NA        spearman \n",
       "1372           NA  0.278923950  0.328672682  0     higher    spearman \n",
       "1373  0.322811078  0.308657246  0.337161696 NA     NA        spearman \n",
       "1374  0.018861022  0.003140657  0.036058505 NA     NA        spearman \n",
       "1375           NA  0.228951011  0.272778314  0     higher    spearman \n",
       "1376  0.247533141  0.231274044  0.262973722 NA     NA        spearman \n",
       "1377 -0.004439025 -0.019884254  0.012782152 NA     NA        spearman \n",
       "1378           NA  0.264543098  0.312750928  0     higher    spearman \n",
       "1379  0.253129070  0.238004097  0.269460916 NA     NA        spearman \n",
       "1380 -0.035914229 -0.051335182 -0.020028882 NA     NA        spearman \n",
       "     residualize endMarker numTokens  numTokens_pretty analysisCount\n",
       "841  FALSE       TRUE      2732185984 2,732,185,984    25000        \n",
       "842  FALSE       TRUE      2732185984 2,732,185,984    25000        \n",
       "843  FALSE       TRUE      2732185984 2,732,185,984    25000        \n",
       "844   TRUE       TRUE      2732185984 2,732,185,984    25000        \n",
       "845   TRUE       TRUE      2732185984 2,732,185,984    25000        \n",
       "846   TRUE       TRUE      2732185984 2,732,185,984    25000        \n",
       "847  FALSE       TRUE      2732185984 2,732,185,984    25000        \n",
       "848  FALSE       TRUE      2732185984 2,732,185,984    25000        \n",
       "849  FALSE       TRUE      2732185984 2,732,185,984    25000        \n",
       "850   TRUE       TRUE      2732185984 2,732,185,984    25000        \n",
       "851   TRUE       TRUE      2732185984 2,732,185,984    25000        \n",
       "852   TRUE       TRUE      2732185984 2,732,185,984    25000        \n",
       "853  FALSE       TRUE      2732185984 2,732,185,984    25000        \n",
       "854  FALSE       TRUE      2732185984 2,732,185,984    25000        \n",
       "855  FALSE       TRUE      2732185984 2,732,185,984    25000        \n",
       "856   TRUE       TRUE      2732185984 2,732,185,984    25000        \n",
       "857   TRUE       TRUE      2732185984 2,732,185,984    25000        \n",
       "858   TRUE       TRUE      2732185984 2,732,185,984    25000        \n",
       "859  FALSE       TRUE      2732185984 2,732,185,984    25000        \n",
       "860  FALSE       TRUE      2732185984 2,732,185,984    25000        \n",
       "861  FALSE       TRUE      2732185984 2,732,185,984    25000        \n",
       "862   TRUE       TRUE      2732185984 2,732,185,984    25000        \n",
       "863   TRUE       TRUE      2732185984 2,732,185,984    25000        \n",
       "864   TRUE       TRUE      2732185984 2,732,185,984    25000        \n",
       "865  FALSE       TRUE      2732185984 2,732,185,984    25000        \n",
       "866  FALSE       TRUE      2732185984 2,732,185,984    25000        \n",
       "867  FALSE       TRUE      2732185984 2,732,185,984    25000        \n",
       "868   TRUE       TRUE      2732185984 2,732,185,984    25000        \n",
       "869   TRUE       TRUE      2732185984 2,732,185,984    25000        \n",
       "870   TRUE       TRUE      2732185984 2,732,185,984    25000        \n",
       "1351 FALSE       TRUE        65088282 65,088,282       25000        \n",
       "1352 FALSE       TRUE        65088282 65,088,282       25000        \n",
       "1353 FALSE       TRUE        65088282 65,088,282       25000        \n",
       "1354  TRUE       TRUE        65088282 65,088,282       25000        \n",
       "1355  TRUE       TRUE        65088282 65,088,282       25000        \n",
       "1356  TRUE       TRUE        65088282 65,088,282       25000        \n",
       "1357 FALSE       TRUE        65088282 65,088,282       25000        \n",
       "1358 FALSE       TRUE        65088282 65,088,282       25000        \n",
       "1359 FALSE       TRUE        65088282 65,088,282       25000        \n",
       "1360  TRUE       TRUE        65088282 65,088,282       25000        \n",
       "1361  TRUE       TRUE        65088282 65,088,282       25000        \n",
       "1362  TRUE       TRUE        65088282 65,088,282       25000        \n",
       "1363 FALSE       TRUE        65088282 65,088,282       25000        \n",
       "1364 FALSE       TRUE        65088282 65,088,282       25000        \n",
       "1365 FALSE       TRUE        65088282 65,088,282       25000        \n",
       "1366  TRUE       TRUE        65088282 65,088,282       25000        \n",
       "1367  TRUE       TRUE        65088282 65,088,282       25000        \n",
       "1368  TRUE       TRUE        65088282 65,088,282       25000        \n",
       "1369 FALSE       TRUE        65088282 65,088,282       25000        \n",
       "1370 FALSE       TRUE        65088282 65,088,282       25000        \n",
       "1371 FALSE       TRUE        65088282 65,088,282       25000        \n",
       "1372  TRUE       TRUE        65088282 65,088,282       25000        \n",
       "1373  TRUE       TRUE        65088282 65,088,282       25000        \n",
       "1374  TRUE       TRUE        65088282 65,088,282       25000        \n",
       "1375 FALSE       TRUE        65088282 65,088,282       25000        \n",
       "1376 FALSE       TRUE        65088282 65,088,282       25000        \n",
       "1377 FALSE       TRUE        65088282 65,088,282       25000        \n",
       "1378  TRUE       TRUE        65088282 65,088,282       25000        \n",
       "1379  TRUE       TRUE        65088282 65,088,282       25000        \n",
       "1380  TRUE       TRUE        65088282 65,088,282       25000        \n",
       "     languageCount\n",
       "841  Hebrew (3b)  \n",
       "842  Hebrew (3b)  \n",
       "843  Hebrew (3b)  \n",
       "844  Hebrew (3b)  \n",
       "845  Hebrew (3b)  \n",
       "846  Hebrew (3b)  \n",
       "847  Hebrew (3b)  \n",
       "848  Hebrew (3b)  \n",
       "849  Hebrew (3b)  \n",
       "850  Hebrew (3b)  \n",
       "851  Hebrew (3b)  \n",
       "852  Hebrew (3b)  \n",
       "853  Hebrew (3b)  \n",
       "854  Hebrew (3b)  \n",
       "855  Hebrew (3b)  \n",
       "856  Hebrew (3b)  \n",
       "857  Hebrew (3b)  \n",
       "858  Hebrew (3b)  \n",
       "859  Hebrew (3b)  \n",
       "860  Hebrew (3b)  \n",
       "861  Hebrew (3b)  \n",
       "862  Hebrew (3b)  \n",
       "863  Hebrew (3b)  \n",
       "864  Hebrew (3b)  \n",
       "865  Hebrew (3b)  \n",
       "866  Hebrew (3b)  \n",
       "867  Hebrew (3b)  \n",
       "868  Hebrew (3b)  \n",
       "869  Hebrew (3b)  \n",
       "870  Hebrew (3b)  \n",
       "1351 Hebrew (65m) \n",
       "1352 Hebrew (65m) \n",
       "1353 Hebrew (65m) \n",
       "1354 Hebrew (65m) \n",
       "1355 Hebrew (65m) \n",
       "1356 Hebrew (65m) \n",
       "1357 Hebrew (65m) \n",
       "1358 Hebrew (65m) \n",
       "1359 Hebrew (65m) \n",
       "1360 Hebrew (65m) \n",
       "1361 Hebrew (65m) \n",
       "1362 Hebrew (65m) \n",
       "1363 Hebrew (65m) \n",
       "1364 Hebrew (65m) \n",
       "1365 Hebrew (65m) \n",
       "1366 Hebrew (65m) \n",
       "1367 Hebrew (65m) \n",
       "1368 Hebrew (65m) \n",
       "1369 Hebrew (65m) \n",
       "1370 Hebrew (65m) \n",
       "1371 Hebrew (65m) \n",
       "1372 Hebrew (65m) \n",
       "1373 Hebrew (65m) \n",
       "1374 Hebrew (65m) \n",
       "1375 Hebrew (65m) \n",
       "1376 Hebrew (65m) \n",
       "1377 Hebrew (65m) \n",
       "1378 Hebrew (65m) \n",
       "1379 Hebrew (65m) \n",
       "1380 Hebrew (65m) \n",
       "     yv_xv                                                                 \n",
       "841  Difference: PIC vs. No. Characters-Unigram Surprisal                  \n",
       "842  PIC - Characters-Unigram Surprisal                                    \n",
       "843  Number of Characters-Unigram Surprisal                                \n",
       "844  Difference: PIC vs. No. Characters-Unigram Surprisal                  \n",
       "845  PIC - Characters-Unigram Surprisal                                    \n",
       "846  Number of Characters-Unigram Surprisal                                \n",
       "847  Difference: PIC vs. No. Characters-Trigram Surprisal                  \n",
       "848  PIC - Characters-Trigram Surprisal                                    \n",
       "849  Number of Characters-Trigram Surprisal                                \n",
       "850  Difference: PIC vs. No. Characters-Trigram Surprisal                  \n",
       "851  PIC - Characters-Trigram Surprisal                                    \n",
       "852  Number of Characters-Trigram Surprisal                                \n",
       "853  Difference: PIC vs. No. Characters-Frequency                          \n",
       "854  PIC - Characters-Frequency                                            \n",
       "855  Number of Characters-Frequency                                        \n",
       "856  Difference: PIC vs. No. Characters-Frequency                          \n",
       "857  PIC - Characters-Frequency                                            \n",
       "858  Number of Characters-Frequency                                        \n",
       "859  Difference: Unigram Surprisal - Trigram Surprisal-PIC - Characters    \n",
       "860  Unigram Surprisal-PIC - Characters                                    \n",
       "861  Trigram Surprisal-PIC - Characters                                    \n",
       "862  Difference: Unigram Surprisal - Trigram Surprisal-PIC - Characters    \n",
       "863  Unigram Surprisal-PIC - Characters                                    \n",
       "864  Trigram Surprisal-PIC - Characters                                    \n",
       "865  Difference: Unigram Surprisal - Trigram Surprisal-Number of Characters\n",
       "866  Unigram Surprisal-Number of Characters                                \n",
       "867  Trigram Surprisal-Number of Characters                                \n",
       "868  Difference: Unigram Surprisal - Trigram Surprisal-Number of Characters\n",
       "869  Unigram Surprisal-Number of Characters                                \n",
       "870  Trigram Surprisal-Number of Characters                                \n",
       "1351 NA                                                                    \n",
       "1352 NA                                                                    \n",
       "1353 NA                                                                    \n",
       "1354 NA                                                                    \n",
       "1355 NA                                                                    \n",
       "1356 NA                                                                    \n",
       "1357 NA                                                                    \n",
       "1358 NA                                                                    \n",
       "1359 NA                                                                    \n",
       "1360 NA                                                                    \n",
       "1361 NA                                                                    \n",
       "1362 NA                                                                    \n",
       "1363 NA                                                                    \n",
       "1364 NA                                                                    \n",
       "1365 NA                                                                    \n",
       "1366 NA                                                                    \n",
       "1367 NA                                                                    \n",
       "1368 NA                                                                    \n",
       "1369 NA                                                                    \n",
       "1370 NA                                                                    \n",
       "1371 NA                                                                    \n",
       "1372 NA                                                                    \n",
       "1373 NA                                                                    \n",
       "1374 NA                                                                    \n",
       "1375 NA                                                                    \n",
       "1376 NA                                                                    \n",
       "1377 NA                                                                    \n",
       "1378 NA                                                                    \n",
       "1379 NA                                                                    \n",
       "1380 NA                                                                    \n",
       "     languageLabel      dataset\n",
       "841  GB12: Hebrew (3b)  GB12   \n",
       "842  GB12: Hebrew (3b)  GB12   \n",
       "843  GB12: Hebrew (3b)  GB12   \n",
       "844  GB12: Hebrew (3b)  GB12   \n",
       "845  GB12: Hebrew (3b)  GB12   \n",
       "846  GB12: Hebrew (3b)  GB12   \n",
       "847  GB12: Hebrew (3b)  GB12   \n",
       "848  GB12: Hebrew (3b)  GB12   \n",
       "849  GB12: Hebrew (3b)  GB12   \n",
       "850  GB12: Hebrew (3b)  GB12   \n",
       "851  GB12: Hebrew (3b)  GB12   \n",
       "852  GB12: Hebrew (3b)  GB12   \n",
       "853  GB12: Hebrew (3b)  GB12   \n",
       "854  GB12: Hebrew (3b)  GB12   \n",
       "855  GB12: Hebrew (3b)  GB12   \n",
       "856  GB12: Hebrew (3b)  GB12   \n",
       "857  GB12: Hebrew (3b)  GB12   \n",
       "858  GB12: Hebrew (3b)  GB12   \n",
       "859  GB12: Hebrew (3b)  GB12   \n",
       "860  GB12: Hebrew (3b)  GB12   \n",
       "861  GB12: Hebrew (3b)  GB12   \n",
       "862  GB12: Hebrew (3b)  GB12   \n",
       "863  GB12: Hebrew (3b)  GB12   \n",
       "864  GB12: Hebrew (3b)  GB12   \n",
       "865  GB12: Hebrew (3b)  GB12   \n",
       "866  GB12: Hebrew (3b)  GB12   \n",
       "867  GB12: Hebrew (3b)  GB12   \n",
       "868  GB12: Hebrew (3b)  GB12   \n",
       "869  GB12: Hebrew (3b)  GB12   \n",
       "870  GB12: Hebrew (3b)  GB12   \n",
       "1351 OPUS: Hebrew (65m) OPUS   \n",
       "1352 OPUS: Hebrew (65m) OPUS   \n",
       "1353 OPUS: Hebrew (65m) OPUS   \n",
       "1354 OPUS: Hebrew (65m) OPUS   \n",
       "1355 OPUS: Hebrew (65m) OPUS   \n",
       "1356 OPUS: Hebrew (65m) OPUS   \n",
       "1357 OPUS: Hebrew (65m) OPUS   \n",
       "1358 OPUS: Hebrew (65m) OPUS   \n",
       "1359 OPUS: Hebrew (65m) OPUS   \n",
       "1360 OPUS: Hebrew (65m) OPUS   \n",
       "1361 OPUS: Hebrew (65m) OPUS   \n",
       "1362 OPUS: Hebrew (65m) OPUS   \n",
       "1363 OPUS: Hebrew (65m) OPUS   \n",
       "1364 OPUS: Hebrew (65m) OPUS   \n",
       "1365 OPUS: Hebrew (65m) OPUS   \n",
       "1366 OPUS: Hebrew (65m) OPUS   \n",
       "1367 OPUS: Hebrew (65m) OPUS   \n",
       "1368 OPUS: Hebrew (65m) OPUS   \n",
       "1369 OPUS: Hebrew (65m) OPUS   \n",
       "1370 OPUS: Hebrew (65m) OPUS   \n",
       "1371 OPUS: Hebrew (65m) OPUS   \n",
       "1372 OPUS: Hebrew (65m) OPUS   \n",
       "1373 OPUS: Hebrew (65m) OPUS   \n",
       "1374 OPUS: Hebrew (65m) OPUS   \n",
       "1375 OPUS: Hebrew (65m) OPUS   \n",
       "1376 OPUS: Hebrew (65m) OPUS   \n",
       "1377 OPUS: Hebrew (65m) OPUS   \n",
       "1378 OPUS: Hebrew (65m) OPUS   \n",
       "1379 OPUS: Hebrew (65m) OPUS   \n",
       "1380 OPUS: Hebrew (65m) OPUS   "
      ]
     },
     "metadata": {},
     "output_type": "display_data"
    }
   ],
   "source": [
    "subset(nem_combined, language == 'Hebrew')"
   ]
  },
  {
   "cell_type": "code",
   "execution_count": 79,
   "metadata": {},
   "outputs": [],
   "source": [
    "save.image('crosslinguistic_pic3.RData')\n",
    "\n",
    "#load('crosslinguistic_pic.RData')"
   ]
  },
  {
   "cell_type": "markdown",
   "metadata": {},
   "source": [
    "# Mixed Effects Model"
   ]
  },
  {
   "cell_type": "code",
   "execution_count": null,
   "metadata": {},
   "outputs": [],
   "source": [
    "# first pull out all of the longform data\n",
    "opus_df = do.call('rbind.fill', lapply(opus_withoutEndMarker, function(x){x[['df']]}))\n",
    "opus_df$dataset = 'Opus'\n",
    "g1t_df = do.call('rbind.fill', lapply(withoutEndMarker, function(x){x[['df']]}))\n",
    "g1t_df$dataset = 'Google1T' \n",
    "gb12_df = do.call('rbind.fill', lapply(books2012_withoutEndMarker, function(x){x[['df']]}))\n",
    "gb12_df$dataset = 'GoogleBooks' \n",
    "gb12_df$language = sapply(gb12_df$language, function(x){gb12_langRemapper[[x]]})\n",
    "\n",
    "all_df = do.call('rbind.fill', list(opus_df, g1t_df, gb12_df))\n",
    "all_df = all_df[!is.infinite(all_df$unigramSurprisal),]"
   ]
  },
  {
   "cell_type": "code",
   "execution_count": null,
   "metadata": {},
   "outputs": [],
   "source": [
    "# split by language and dataset and scale ipa_ss and ipa_n within each\n",
    "#sub_df = split(all_df,list(all_df$language,all_df$dataset))\n",
    "# rescale_vars = function(df, varnames){    \n",
    "#     if (nrow(df) > 0 ){\n",
    "#         for (var in varnames){\n",
    "#             print(var)\n",
    "#              df[[paste0(var,'_rescaled')]] = scale(df[[var]],\n",
    "#                 center = T, scale = sd(df[[var]], na.rm = TRUE))            \n",
    "#         }\n",
    "#         return(df)\n",
    "#     }     \n",
    "# }\n",
    "\n",
    "# all_df = do.call('rbind', lapply(sub_df, function(df){\n",
    "#     return(rescale_vars(df, c('unigramSurprisal',\n",
    "#         'log_ipa_n',\n",
    "#         'log_character_n',\n",
    "#         'ipa_n',\n",
    "#         'ipa_ss'                              \n",
    "#     )))\n",
    "# }))"
   ]
  },
  {
   "cell_type": "code",
   "execution_count": null,
   "metadata": {},
   "outputs": [],
   "source": [
    "allWords = all_df\n",
    "allWords$language_dataset = paste0(allWords$language,': \\n',allWords$dataset)\n",
    "excluding_opus = subset(allWords, dataset != 'Opus')"
   ]
  },
  {
   "cell_type": "code",
   "execution_count": null,
   "metadata": {},
   "outputs": [],
   "source": [
    "#[ ] For presentation: find the best model by model comparison with AIC, then look at the predictors?\n",
    "#[X] confirm that this is without the end marker\n",
    "#[ ] do these refer to models of the appropriate order?\n",
    "#   10-17-17_GoogleUnigram, confirme that this is trigram models \n",
    "#[ ] this assumes a linear realtionship. Probably not correct\n",
    "#[X] +- log transformation for length? log frequency -> (duration / log duration)\n",
    "# very small overall reduction in AIC\n",
    "\n",
    "#[X] is there an improvement if we scale the predictors?\n",
    "#    [X] Nope, degenerate Hessians"
   ]
  },
  {
   "cell_type": "markdown",
   "metadata": {},
   "source": [
    "# Unigram Surprisal ~ Phoneme Length"
   ]
  },
  {
   "cell_type": "code",
   "execution_count": null,
   "metadata": {},
   "outputs": [],
   "source": [
    "lm0 = lmer(unigramSurprisal ~ dataset*ipa_n + (1+ipa_n|language), \n",
    "    data=subset(allWords, index <= 25000), REML=F)\n",
    "summary(lm0)"
   ]
  },
  {
   "cell_type": "code",
   "execution_count": null,
   "metadata": {},
   "outputs": [],
   "source": [
    "r.squaredGLMM(lm0)"
   ]
  },
  {
   "cell_type": "markdown",
   "metadata": {},
   "source": [
    "# Trigram Surprisal ~ Phoneme Length"
   ]
  },
  {
   "cell_type": "code",
   "execution_count": null,
   "metadata": {},
   "outputs": [],
   "source": [
    "lm0_s = lmer(mean_surprisal_weighted ~ dataset*ipa_n + (1+ipa_n|language), \n",
    "    data=subset(allWords, index <= 25000), REML=F)\n",
    "summary(lm0_s)"
   ]
  },
  {
   "cell_type": "markdown",
   "metadata": {},
   "source": [
    "# Unigram Surprisal ~ Log Phoneme Length"
   ]
  },
  {
   "cell_type": "code",
   "execution_count": null,
   "metadata": {},
   "outputs": [],
   "source": [
    "lm1 = lmer(unigramSurprisal ~ dataset*log_ipa_n + (1+ log_ipa_n|language), \n",
    "    data=subset(allWords, index <= 25000), REML=F)\n",
    "summary(lm1)"
   ]
  },
  {
   "cell_type": "code",
   "execution_count": null,
   "metadata": {},
   "outputs": [],
   "source": [
    "r.squaredGLMM(lm1)"
   ]
  },
  {
   "cell_type": "markdown",
   "metadata": {},
   "source": [
    "Taking the log length in phonemes is a stronger correlate of unigram probability, consistent with the treatement of log duration in Yao, Gahl and Johnson (2012)"
   ]
  },
  {
   "cell_type": "code",
   "execution_count": null,
   "metadata": {},
   "outputs": [],
   "source": [
    "mod_data = expand.grid(\n",
    "    log_ipa_n = log(seq(1,20,1)),\n",
    "    language = unique(excluding_opus$language),\n",
    "    dataset = unique(excluding_opus$dataset))\n",
    "\n",
    "mod_data$language_dataset= paste0(mod_data$language, ': \\n', mod_data$dataset)\n",
    "mod_data = subset(mod_data, language_dataset %in% excluding_opus$language_dataset & language != \"Hebrew\")\n",
    "\n",
    "mod_data$predicted = predict(lm1, newdata=mod_data,\n",
    "    allow.new.levels=TRUE,\n",
    "    re.form = ~(1 + log_ipa_n | language))\n",
    "\n",
    "# sanity check the variance accounted for by the model\n",
    "options(repr.plot.width=8, repr.plot.height=8)\n",
    "ggplot(excluding_opus) + geom_bin2d(aes(x=log_ipa_n, \n",
    "y=unigramSurprisal))+ facet_wrap(language~dataset\n",
    ") + geom_line(data=mod_data,aes(x=log_ipa_n, y=predicted), colour='red'\n",
    ") + geom_smooth(aes(x=log_ipa_n, y=unigramSurprisal), se = F, \n",
    "colour='cyan') + theme_bw() + xlab ('Log Length in Phonemes'\n",
    ") + ylab('Negative Log Unigram Probability') + theme(legend.position=\"none\")\n",
    "\n",
    "print(r.squaredGLMM(lm1))"
   ]
  },
  {
   "cell_type": "code",
   "execution_count": null,
   "metadata": {},
   "outputs": [],
   "source": [
    "#rotated version of the above (Log display)\n",
    "options(repr.plot.width=8, repr.plot.height=8)\n",
    "ggplot(excluding_opus) + geom_bin2d(aes(y=log_ipa_n, \n",
    "x=unigramSurprisal))+ facet_wrap(language~dataset\n",
    ") + geom_smooth(aes(y=log_ipa_n, x=unigramSurprisal), se = F, \n",
    "colour='cyan') + theme_bw() + ylab ('Log Length in Phonemes'\n",
    ") + xlab('Negative Log Unigram Probability') + theme(legend.position=\"none\")"
   ]
  },
  {
   "cell_type": "code",
   "execution_count": null,
   "metadata": {},
   "outputs": [],
   "source": [
    "#rotated version of the above; log transform unigram surprisal\n",
    "\n",
    "options(repr.plot.width=8, repr.plot.height=8)\n",
    "p1 = ggplot(excluding_opus) + geom_bin2d(aes(y=ipa_n, \n",
    "x=prob))+ facet_wrap(language~dataset\n",
    ") + theme_bw() + ylab ('Word Length in Phonemes'\n",
    ") + xlab('Word Probability') + theme(legend.position=\"none\") + scale_x_continuous(trans=reverselog_trans(10)) \n",
    "\n",
    "\n",
    "pdf('figures/length_by_prob.pdf', width=6, height=6)\n",
    "print(p1)\n",
    "dev.off()"
   ]
  },
  {
   "cell_type": "code",
   "execution_count": null,
   "metadata": {},
   "outputs": [],
   "source": [
    "#rotated version of the above; log transform unigram surprisal\n",
    "options(repr.plot.width=8, repr.plot.height=8)\n",
    "ggplot(excluding_opus) + geom_bin2d(aes(y=ipa_n, \n",
    "x=exp(-1 * mean_surprisal_weighted)))+ facet_wrap(language~dataset\n",
    ") + theme_bw() + ylab ('Length in Phonemes'\n",
    ") + xlab('Average in-context Probability') + theme(legend.position=\"none\") + scale_x_reverse() "
   ]
  },
  {
   "cell_type": "code",
   "execution_count": null,
   "metadata": {},
   "outputs": [],
   "source": [
    "options(repr.plot.width=8, repr.plot.height=8)\n",
    "p1 = ggplot(excluding_opus) + geom_bin2d(aes(y=-1*log(exp(-1*ipa_ss), base=2), \n",
    "x=prob))+ facet_wrap(language~dataset\n",
    ") + theme_bw() + ylab ('Phonological Information Content (bits)'\n",
    ") + xlab('Word Probability') + theme(legend.position=\"none\") + scale_x_continuous(trans=reverselog_trans(10)) \n",
    "print(p1)\n",
    "\n",
    "pdf('figures/pic_by_prob.pdf', width=6, height=6)\n",
    "print(p1)\n",
    "dev.off()"
   ]
  },
  {
   "cell_type": "code",
   "execution_count": null,
   "metadata": {},
   "outputs": [],
   "source": [
    "#rotated version of the above; log transform unigram surprisal\n",
    "options(repr.plot.width=8, repr.plot.height=8)\n",
    "ggplot(excluding_opus) + geom_bin2d(aes(y=log_ipa_n, \n",
    "x=prob))+ facet_wrap(language~dataset\n",
    ") + geom_smooth(aes(y=log_ipa_n, x=prob), se = F, \n",
    "colour='cyan') + theme_bw() + ylab ('Log Length in Phonemes'\n",
    ") + xlab('Probability') + theme(legend.position=\"none\") + scale_x_continuous(trans = 'log10') "
   ]
  },
  {
   "cell_type": "code",
   "execution_count": null,
   "metadata": {},
   "outputs": [],
   "source": [
    "excluding_opus$logUnigramSurprisal  = log(excluding_opus$unigramSurprisal)\n",
    "\n",
    "lm_len_log = lmer(log_ipa_n ~  dataset * logUnigramSurprisal  + (1+logUnigramSurprisal|language), \n",
    "    data=excluding_opus, REML=F)\n",
    "summary(lm_len_log)\n",
    "print(r.squaredGLMM(lm_len_log))"
   ]
  },
  {
   "cell_type": "code",
   "execution_count": null,
   "metadata": {},
   "outputs": [],
   "source": [
    "mod_data = expand.grid(\n",
    "    logUnigramSurprisal = seq(from=1,to=4,by=.01),\n",
    "    language = unique(excluding_opus$language),\n",
    "    dataset = unique(excluding_opus$dataset))\n",
    "\n",
    "mod_data$language_dataset= paste0(mod_data$language, ': \\n', mod_data$dataset)\n",
    "mod_data = subset(mod_data, language_dataset %in% excluding_opus$language_dataset & language != \"Hebrew\")\n",
    "\n",
    "mod_data$predicted = predict(lm_len_log, newdata=mod_data,\n",
    "    allow.new.levels=TRUE,\n",
    "    re.form = ~(1 + logUnigramSurprisal | language))\n",
    "\n",
    "\n",
    "options(repr.plot.width=8, repr.plot.height=6)\n",
    "ggplot(excluding_opus) + geom_bin2d(aes(y=log_ipa_n, \n",
    "x=log(unigramSurprisal)))+ facet_wrap(language~dataset\n",
    ") + geom_smooth(aes(y=log_ipa_n, x=log(unigramSurprisal)), se = F, \n",
    "colour='cyan') + theme_bw() + ylab ('Log Length in Phonemes'\n",
    ") + xlab('Negative Log Unigram Probability') + geom_line(\n",
    "data=mod_data,aes(x=logUnigramSurprisal, y=predicted), colour='red'\n",
    ") + theme(legend.position=\"none\")\n"
   ]
  },
  {
   "cell_type": "markdown",
   "metadata": {},
   "source": [
    "# Trigram Surprisal ~ Log Phoneme Length"
   ]
  },
  {
   "cell_type": "code",
   "execution_count": null,
   "metadata": {},
   "outputs": [],
   "source": [
    "excluding_opus = subset(allWords, index <= 25000 & dataset != 'Opus')\n",
    "lm1_s = lmer(mean_surprisal_weighted ~ dataset*log_ipa_n + (1+log_ipa_n|language), \n",
    "    data=excluding_opus, REML=F)\n",
    "summary(lm1_s)"
   ]
  },
  {
   "cell_type": "code",
   "execution_count": null,
   "metadata": {},
   "outputs": [],
   "source": [
    "mod_data = expand.grid(\n",
    "    log_ipa_n = log(seq(1,20,1)),\n",
    "    language = unique(excluding_opus$language),\n",
    "    dataset = unique(excluding_opus$dataset))\n",
    "\n",
    "mod_data$language_dataset= paste0(mod_data$language, ': \\n', mod_data$dataset)\n",
    "mod_data = subset(mod_data, language_dataset %in% excluding_opus$language_dataset\n",
    "& language != 'Hebrew')\n",
    "\n",
    "mod_data$predicted = predict(lm1_s, newdata=mod_data,\n",
    "    allow.new.levels=TRUE,\n",
    "    re.form = ~(1+ log_ipa_n|language))\n",
    "\n",
    "# sanity check the variance accounted for by the model\n",
    "ggplot(excluding_opus) + geom_bin2d(aes(x=log_ipa_n, \n",
    "y=mean_surprisal_weighted))+ facet_wrap(language~dataset\n",
    ") + geom_line(data=mod_data,aes(x=log_ipa_n, y=predicted), colour='red'\n",
    ") + geom_smooth(aes(x=log_ipa_n, y=mean_surprisal_weighted), se = F, span=2/3,\n",
    "colour='cyan'\n",
    ") + theme_bw() + xlab ('Log Length in Phonemes') + ylab('Average Trigram Surprisal')\n",
    "\n",
    "print(r.squaredGLMM(lm1_s))"
   ]
  },
  {
   "cell_type": "markdown",
   "metadata": {},
   "source": [
    "# Unigram Surprisal ~ PIC"
   ]
  },
  {
   "cell_type": "code",
   "execution_count": null,
   "metadata": {
    "scrolled": false
   },
   "outputs": [],
   "source": [
    "allWords = na.exclude(allWords)\n",
    "lm2 = lmer(unigramSurprisal ~ dataset*ipa_ss + (1+ ipa_ss|language), \n",
    "    data=subset(allWords, index <= 25000), REML=F)\n",
    "summary(lm2)"
   ]
  },
  {
   "cell_type": "code",
   "execution_count": null,
   "metadata": {},
   "outputs": [],
   "source": [
    "mod_data = expand.grid(\n",
    "    ipa_ss = seq(from=1,to=20,by=.05),\n",
    "    language = unique(excluding_opus$language),\n",
    "    dataset = unique(excluding_opus$dataset))\n",
    "\n",
    "mod_data$language_dataset = paste0(mod_data$language, ': \\n', \n",
    "    mod_data$dataset)\n",
    "mod_data = subset(mod_data, language_dataset %in% excluding_opus$language_dataset\n",
    "& language != 'Hebrew')\n",
    "\n",
    "mod_data$predicted = predict(lm2, newdata=mod_data,\n",
    "    allow.new.levels=TRUE,\n",
    "    re.form = ~(1 + ipa_ss| language))\n",
    "\n",
    "p1 = ggplot(subset(excluding_opus, language != 'Hebrew')) + geom_bin2d(aes(x=ipa_ss, \n",
    "y=unigramSurprisal))+ facet_wrap(~language_dataset\n",
    ")  + geom_smooth(aes(x=ipa_ss, y=unigramSurprisal), se = F, colour='cyan'\n",
    ") + geom_line(data=mod_data,aes(x=ipa_ss, y=predicted), colour='red'\n",
    ") +  theme_bw() + xlab(\"Word's Phonological Information Content\"\n",
    ") + ylab(\"Word's Negative Log Probability\") + theme(legend.position=\"none\")\n",
    "\n",
    "pdf('figures/pic_by_unigram_prob.pdf', width=5, height=5)\n",
    "print(p1)\n",
    "dev.off()\n",
    "\n",
    "options(repr.plot.width=6, repr.plot.height=6)\n",
    "print(p1)\n",
    "print(r.squaredGLMM(lm2))"
   ]
  },
  {
   "cell_type": "code",
   "execution_count": null,
   "metadata": {},
   "outputs": [],
   "source": [
    "options(repr.plot.width=6, repr.plot.height=6)\n",
    "p2= ggplot(subset(excluding_opus, language != 'Hebrew')) + geom_bin2d(aes(y=ipa_ss, \n",
    "x=unigramSurprisal))+ facet_wrap(~language_dataset\n",
    ")  + geom_smooth(aes(y=ipa_ss, x=unigramSurprisal), se = F, colour='cyan'\n",
    ") +  theme_bw() + ylab(\"Word's Phonological Information Content\"\n",
    ") + xlab(\"Word's Negative Log Probability\") + theme(legend.position=\"none\")\n",
    "print(p2)"
   ]
  },
  {
   "cell_type": "markdown",
   "metadata": {},
   "source": [
    "# Trigram Surprisal ~ PIC"
   ]
  },
  {
   "cell_type": "code",
   "execution_count": null,
   "metadata": {},
   "outputs": [],
   "source": [
    "lm2_s = lmer(mean_surprisal_weighted ~ dataset*ipa_ss + (1+ ipa_ss|language), \n",
    "    data=subset(allWords, index <= 25000 & dataset != 'Opus'), REML=F)\n",
    "summary(lm2_s)"
   ]
  },
  {
   "cell_type": "code",
   "execution_count": null,
   "metadata": {},
   "outputs": [],
   "source": [
    "mod_data = expand.grid(\n",
    "    ipa_ss = seq(from=1,to=20,by=.05),\n",
    "    language = unique(excluding_opus$language),\n",
    "    dataset = unique(excluding_opus$dataset))\n",
    "\n",
    "mod_data$language_dataset = paste0(mod_data$language, ': \\n', \n",
    "    mod_data$dataset)\n",
    "mod_data = subset(mod_data, language_dataset \n",
    "%in% excluding_opus$language_dataset & language != 'Hebrew')\n",
    "\n",
    "mod_data$predicted = predict(lm2_s, newdata=mod_data,\n",
    "    allow.new.levels=TRUE,\n",
    "    re.form = ~(1 + ipa_ss| language))\n",
    "\n",
    "ggplot(subset(excluding_opus, language != 'Hebrew')) + geom_bin2d(aes(x=ipa_ss, \n",
    "y=mean_surprisal_weighted))+ facet_wrap(~language_dataset\n",
    ")  + geom_smooth(aes(x=ipa_ss, y=mean_surprisal_weighted), se = F, colour='cyan'\n",
    ") + geom_line(data=mod_data,aes(x=ipa_ss, y=predicted), colour='red'\n",
    ") +  theme_bw() + xlab('Phonological Information Content'\n",
    ") + ylab('Average Trigram Surprisal') + theme(legend.position=\"none\")\n",
    "\n",
    "\n",
    "print(r.squaredGLMM(lm2_s))"
   ]
  },
  {
   "cell_type": "markdown",
   "metadata": {},
   "source": [
    "# Unigram Surprisal ~ PIC + Length"
   ]
  },
  {
   "cell_type": "code",
   "execution_count": null,
   "metadata": {},
   "outputs": [],
   "source": [
    "#ipa_ss model\n",
    "lm3 = lmer(unigramSurprisal ~ dataset*(ipa_ss + ipa_n) + (1+ ipa_n + ipa_ss|language), \n",
    "    data=subset(allWords, index <= 25000), REML=F)\n",
    "summary(lm3)\n",
    "print(r.squaredGLMM(lm3))"
   ]
  },
  {
   "cell_type": "markdown",
   "metadata": {},
   "source": [
    "# Trigram Surprisal ~ PIC + Length"
   ]
  },
  {
   "cell_type": "code",
   "execution_count": null,
   "metadata": {},
   "outputs": [],
   "source": [
    "lm3_s = lmer(mean_surprisal_weighted ~ dataset*(ipa_ss + ipa_n) + (1+ ipa_n + ipa_ss|language), \n",
    "    data=subset(allWords, index <= 25000 & dataset != 'Opus'), REML=F)\n",
    "print(r.squaredGLMM(lm3_s))"
   ]
  },
  {
   "cell_type": "markdown",
   "metadata": {},
   "source": [
    "# Unigram Surprisal ~ PIC + Length, Fixed Effects Only"
   ]
  },
  {
   "cell_type": "code",
   "execution_count": null,
   "metadata": {},
   "outputs": [],
   "source": [
    "lm4 = lm(unigramSurprisal ~ ipa_ss * ipa_n , \n",
    "    data=subset(allWords, index <= 25000))\n",
    "print(summary(lm4))\n",
    "print(r.squaredGLMM(lm4))"
   ]
  },
  {
   "cell_type": "code",
   "execution_count": null,
   "metadata": {},
   "outputs": [],
   "source": [
    "lm4_s = lm(mean_surprisal_weighted ~ ipa_ss * ipa_n , \n",
    "    data=subset(allWords, index <= 25000 & dataset != 'Opus'))\n",
    "print(summary(lm4_s))\n",
    "print(r.squaredGLMM(lm4))"
   ]
  },
  {
   "cell_type": "markdown",
   "metadata": {},
   "source": [
    "AIC is significantly higher when we don't take the effects structures into account"
   ]
  },
  {
   "cell_type": "markdown",
   "metadata": {},
   "source": [
    "# Compare All Models"
   ]
  },
  {
   "cell_type": "code",
   "execution_count": null,
   "metadata": {},
   "outputs": [],
   "source": [
    "getScoresForModel = function(modelList){\n",
    "    model_scores = data.frame(index = c(1:length(modelList)))\n",
    "    model_scores$BIC = sapply(modelList, function(x){BIC(logLik(x))})\n",
    "    model_scores$AIC = sapply(modelList, function(x){AIC(logLik(x))})\n",
    "    model_scores$logLik = sapply(modelList, function(x){logLik(x)})\n",
    "    model_scores$R2c = sapply(modelList, function(x){r.squaredGLMM(x)[['R2c']]})\n",
    "    model_scores$R2m = sapply(modelList, function(x){r.squaredGLMM(x)[['R2m']]})\n",
    "    return(model_scores)\n",
    "}"
   ]
  },
  {
   "cell_type": "code",
   "execution_count": null,
   "metadata": {},
   "outputs": [],
   "source": [
    "unigram_scores = getScoresForModel(list(lm0, lm1, lm2, lm3, lm4))\n",
    "unigram_scores$lexvar = 'unigram'\n",
    "trigram_scores = getScoresForModel(list(lm0_s, lm1_s, lm2_s, lm3_s, lm4_s))\n",
    "trigram_scores$lexvar = 'trigram'\n",
    "model_scores = rbind(unigram_scores, trigram_scores)"
   ]
  },
  {
   "cell_type": "code",
   "execution_count": null,
   "metadata": {},
   "outputs": [],
   "source": [
    "ggplot(model_scores) + geom_line(aes(x=index, y=R2c, colour =lexvar)) +theme_bw()"
   ]
  },
  {
   "cell_type": "code",
   "execution_count": null,
   "metadata": {},
   "outputs": [],
   "source": [
    "ggplot(model_scores) + geom_line(aes(x=index, y=R2m, colour =lexvar)) +theme_bw()"
   ]
  },
  {
   "cell_type": "code",
   "execution_count": null,
   "metadata": {},
   "outputs": [],
   "source": [
    "What is the story here:\n",
    "\n",
    "Uni. prob. ~ PIC + log length > Uni. prob. ~ PIC >> Uni. prob. ~ length\n",
    "Tri. prob. ~ PIC + log length > Tri prob. ~ Log Length > Tri. prob. ~ PIC\n",
    "\n",
    "1) This is for linear relationships -- there may be a better nonlinear relationship\n",
    "\n",
    "\n",
    "Linear reationship with duration (UID, bitrate constancy)\n",
    "Reciprocal relationship with phoneme distinctiveness\n",
    "\n",
    "\n",
    "\n"
   ]
  },
  {
   "cell_type": "code",
   "execution_count": null,
   "metadata": {},
   "outputs": [],
   "source": [
    "allWords = na.exclude(allWords)\n",
    "lm5 = lmer(unigramSurprisal ~ dataset*poly(ipa_ss,3) + (1+ poly(ipa_ss,3)|language), \n",
    "    data=subset(allWords, index <= 25000), REML=F)\n"
   ]
  },
  {
   "cell_type": "code",
   "execution_count": null,
   "metadata": {},
   "outputs": [],
   "source": [
    "print(summary(lm5))\n",
    "print(r.squaredGLMM(lm5))"
   ]
  },
  {
   "cell_type": "code",
   "execution_count": null,
   "metadata": {},
   "outputs": [],
   "source": [
    "# how to get a fit similar to the spearman's rank correlation coefficient\n",
    "\n",
    "# fit a higher-order polynomial? only a marginal improvement in AIC or R-squared\n",
    "# NLMER mixed effects logistic growth curve? (very complex; unclear why a growth model is appropriate)\n",
    "\n",
    "\n"
   ]
  },
  {
   "cell_type": "markdown",
   "metadata": {},
   "source": [
    "# Sanity Check: Spearman's Rho"
   ]
  },
  {
   "cell_type": "code",
   "execution_count": null,
   "metadata": {},
   "outputs": [],
   "source": [
    "sub_df = split(all_df,list(all_df$language,all_df$dataset))"
   ]
  },
  {
   "cell_type": "code",
   "execution_count": null,
   "metadata": {},
   "outputs": [],
   "source": [
    "names(sub_df[[1]])"
   ]
  },
  {
   "cell_type": "code",
   "execution_count": null,
   "metadata": {},
   "outputs": [],
   "source": [
    "corMethod = 'spearman'\n",
    "scores = do.call('rbind', lapply(sub_df, function(x){\n",
    "    if (length(x$unigramSurprisal) > 0){\n",
    "        x = subset(x, index <= 25000)\n",
    "        return(            \n",
    "            data.frame(\n",
    "            uni_ipa = cor(x$ipa_ss, x$unigramSurprisal, method=corMethod, \n",
    "        use='pairwise.complete.obs'),\n",
    "            uni_log_len = cor(x$log_ipa_n, x$unigramSurprisal, method=corMethod, \n",
    "        use='pairwise.complete.obs'),\n",
    "            tri_ipa = cor(x$ipa_ss, x$mean_surprisal_weighted, method=corMethod, \n",
    "        use='pairwise.complete.obs'),                \n",
    "            tri_log_len = cor(x$log_ipa_n, x$mean_surprisal_weighted, method=corMethod, \n",
    "        use='pairwise.complete.obs')    \n",
    "            )\n",
    "        \n",
    "        )\n",
    "    }     \n",
    "}))"
   ]
  },
  {
   "cell_type": "code",
   "execution_count": null,
   "metadata": {},
   "outputs": [],
   "source": [
    "scores$language = rownames(scores)\n",
    "melted_scores = melt(scores, id='language')\n",
    "names(melted_scores)\n",
    "ggplot(melted_scores) + geom_histogram(aes(x=value, fill=variable))+ facet_grid(variable ~ .) + theme_bw()"
   ]
  },
  {
   "cell_type": "code",
   "execution_count": null,
   "metadata": {},
   "outputs": [],
   "source": [
    "scores$ipa_improvement = scores$uni_ipa - scores$uni_log_len"
   ]
  },
  {
   "cell_type": "code",
   "execution_count": null,
   "metadata": {},
   "outputs": [],
   "source": [
    "ggplot(scores) + geom_density(aes(x=ipa_improvement))"
   ]
  },
  {
   "cell_type": "code",
   "execution_count": null,
   "metadata": {},
   "outputs": [],
   "source": [
    "# stronger Spearman's correlation of ipa with frequence than length with frequency\n",
    "# complex relationship with trigram predictability"
   ]
  },
  {
   "cell_type": "markdown",
   "metadata": {},
   "source": [
    "# Plot Correlations"
   ]
  },
  {
   "cell_type": "code",
   "execution_count": null,
   "metadata": {},
   "outputs": [],
   "source": [
    "lv_list = c(\"Frequency\")\n",
    "sv_list = c(\"PIC - Characters\",\"Number of Characters\")\n",
    "dodge <- position_dodge(width=0.9)\n",
    "\n",
    "correlations = subset(nem_combined, lv %in% lv_list & sv %in% sv_list & !residualize)\n",
    "partial_correlations = subset(nem_combined, lv %in% lv_list & sv %in% sv_list & residualize)\n",
    "p_values = subset(nem_combined, lv %in% lv_list & sv == \"Difference: PIC vs. No. Characters\")\n",
    "p_values$sig = mapply(sig_symbol, p_values$pvalue, p_values$direction)\n",
    "\n",
    "\n",
    "\n",
    "crosslinguistic_pic_characters = ggplot(correlations \n",
    ") + geom_bar(aes(x=languageLabel, y=singleCor, fill=sv),  stat='identity', position='dodge')  + theme(axis.text.x = element_text(angle = 45, hjust = 1)\n",
    ") + theme(panel.background = element_blank(\n",
    " ), axis.text.x = element_text(colour = \"black\"),axis.text.y = element_text(\n",
    " colour = \"black\"), axis.line.x = element_line(color=\"black\", size = .25),\n",
    "    axis.line.y = element_line(color=\"black\", size = .25)) + geom_hline(aes(yintercept = 0), linetype = 'dashed') + ylab(expression(paste(\"Spearman's \",rho))) + xlab(''\n",
    ") +  theme(legend.position=\"none\")  + geom_point(aes(x= languageLabel, y=-.55, size=numTokens)) + scale_size_area(\n",
    ") + geom_hline(aes(yintercept = -.5), size=.25) +  geom_linerange(aes(x=languageLabel, \n",
    "ymin=lower, ymax=upper, fill=sv), position=dodge, colour='gray') + scale_y_continuous( breaks = seq(.1,-5,-.1)) + scale_y_reverse(\n",
    "\n",
    "\n",
    ") + geom_errorbar(data = partial_correlations, aes(x=languageLabel,\n",
    "ymin=singleCor, ymax=singleCor, fill=sv), position='dodge') +  geom_linerange(data=partial_correlations, aes(\n",
    "x=languageLabel, ymin=lower, ymax=upper, fill=sv), position=dodge, colour='gray45'\n",
    ") + geom_text(data=subset(p_values, direction == 'lower' & !residualize), aes(x=languageLabel, y=-.21, label=sig)\n",
    ") + geom_text(data=subset(p_values, direction == 'lower' & residualize), aes(x=languageLabel, y=.02, label=sig)\n",
    ") + geom_text(data=subset(p_values, direction == 'higher' & !residualize), aes(x=languageLabel, y=-.27, label=sig), colour='red'\n",
    ") + geom_text(data=subset(p_values, direction == 'higher' & residualize), aes(x=languageLabel, y=.02, label=sig), colour='red')\n",
    "\n",
    "\n",
    "pdf('figures/crosslinguistic-pic-characters.pdf', width=10, height=5)\n",
    "print(crosslinguistic_pic_characters)\n",
    "dev.off()\n",
    "\n",
    "options(repr.plot.width=10, repr.plot.height=6, jupyter.plot_mimetypes = 'image/png')\n",
    "print(crosslinguistic_pic_characters)"
   ]
  },
  {
   "cell_type": "code",
   "execution_count": 90,
   "metadata": {},
   "outputs": [
    {
     "name": "stdout",
     "output_type": "stream",
     "text": [
      "[1] 58\n",
      "[1] 58\n"
     ]
    },
    {
     "name": "stderr",
     "output_type": "stream",
     "text": [
      "Warning message:\n",
      "“Ignoring unknown aesthetics: fill”Scale for 'y' is already present. Adding another scale for 'y', which will\n",
      "replace the existing scale.\n",
      "Warning message:\n",
      "“Ignoring unknown aesthetics: fill”Warning message:\n",
      "“Ignoring unknown aesthetics: fill”"
     ]
    },
    {
     "data": {
      "text/html": [
       "<strong>png:</strong> 2"
      ],
      "text/latex": [
       "\\textbf{png:} 2"
      ],
      "text/markdown": [
       "**png:** 2"
      ],
      "text/plain": [
       "png \n",
       "  2 "
      ]
     },
     "metadata": {},
     "output_type": "display_data"
    },
    {
     "data": {
      "image/png": "[encoded data removed]"
     },
     "metadata": {},
     "output_type": "display_data"
    }
   ],
   "source": [
    "xv_list = c(\"Frequency\")\n",
    "yv_list = c(\"PIC - Phonemes\",\"Number of Phonemes\")\n",
    "dodge <- position_dodge(width=0.9)\n",
    "\n",
    "correlations = subset(nem_combined, xv %in% xv_list & yv %in% yv_list & !residualize)\n",
    "partial_correlations = subset(nem_combined, xv %in% xv_list & yv %in% yv_list & residualize)\n",
    "p_values = subset(nem_combined, xv %in% xv_list & yv == \"Difference: PIC vs. No. Characters\"\n",
    "                 & language != \"Hebrew\")\n",
    "p_values$sig = mapply(sig_symbol, p_values$pvalue, p_values$direction)\n",
    "\n",
    "print(nrow(correlations))\n",
    "print(nrow(partial_correlations))\n",
    "\n",
    "crosslinguistic_pic_phonemes = ggplot(correlations \n",
    ") + geom_bar(aes(x=languageLabel, y=singleCor, fill=yv),  stat='identity', position='dodge')  + theme(axis.text.x = element_text(angle = 45, hjust = 1)\n",
    ") + theme(panel.background = element_blank(\n",
    " ), axis.text.x = element_text(colour = \"black\"),axis.text.y = element_text(\n",
    " colour = \"black\"), axis.line.x = element_line(color=\"black\", size = .25),\n",
    "    axis.line.y = element_line(color=\"black\", size = .25)) + geom_hline(aes(yintercept = 0), linetype = 'dashed') + ylab(expression(paste(\"Spearman's \",rho))) + xlab(''\n",
    ") +  theme(legend.position=\"none\")  + geom_point(aes(x= languageLabel, y=-.55, size=numTokens)) + scale_size_area(\n",
    ") + geom_hline(aes(yintercept = -.5), size=.25) +  geom_linerange(aes(x=languageLabel, \n",
    "ymin=lower, ymax=upper, fill=yv), position=dodge, colour='gray') + scale_y_continuous( breaks = seq(.1,-5,-.1)) + scale_y_reverse(\n",
    "\n",
    "\n",
    ") + geom_errorbar(data = partial_correlations, aes(x=languageLabel,\n",
    "ymin=singleCor, ymax=singleCor, fill=yv), position='dodge') +  geom_linerange(data=partial_correlations, aes(\n",
    "x=languageLabel, ymin=lower, ymax=upper, fill=yv), position=dodge, colour='gray45'\n",
    ") + geom_text(data=subset(p_values, direction == 'lower' & !residualize), \n",
    "    aes(x=languageLabel, y=-.45, label=sig)\n",
    ") + geom_text(data=subset(p_values, direction == 'lower' & residualize),\n",
    "    aes(x=languageLabel, y=.02, label=sig)\n",
    ") + geom_text(data=subset(p_values, direction == 'higher' & !residualize),\n",
    "    aes(x=languageLabel, y=-.45, label=sig), colour='red'\n",
    ") + geom_text(data=subset(p_values, direction == 'higher' & residualize),\n",
    "    aes(x=languageLabel, y=.02, label=sig), colour='red')\n",
    "\n",
    "\n",
    "pdf('figures/crosslinguistic-pic-phonemes', width=10, height=5)\n",
    "print(crosslinguistic_pic_phonemes)\n",
    "dev.off()\n",
    "\n",
    "options(repr.plot.width=10, repr.plot.height=6, jupyter.plot_mimetypes = 'image/png')\n",
    "print(crosslinguistic_pic_phonemes)"
   ]
  },
  {
   "cell_type": "code",
   "execution_count": 87,
   "metadata": {},
   "outputs": [
    {
     "name": "stdout",
     "output_type": "stream",
     "text": [
      "[1] 62\n",
      "[1] 62\n"
     ]
    },
    {
     "name": "stderr",
     "output_type": "stream",
     "text": [
      "Warning message:\n",
      "“Ignoring unknown aesthetics: fill”Scale for 'y' is already present. Adding another scale for 'y', which will\n",
      "replace the existing scale.\n",
      "Warning message:\n",
      "“Ignoring unknown aesthetics: fill”Warning message:\n",
      "“Ignoring unknown aesthetics: fill”"
     ]
    },
    {
     "data": {
      "text/html": [
       "<strong>png:</strong> 2"
      ],
      "text/latex": [
       "\\textbf{png:} 2"
      ],
      "text/markdown": [
       "**png:** 2"
      ],
      "text/plain": [
       "png \n",
       "  2 "
      ]
     },
     "metadata": {},
     "output_type": "display_data"
    },
    {
     "data": {
      "image/png": "[encoded data removed]"
     },
     "metadata": {},
     "output_type": "display_data"
    }
   ],
   "source": [
    "xv_list = c(\"Frequency\")\n",
    "yv_list = c(\"PIC - Characters\",\"Number of Characters\")\n",
    "dodge <- position_dodge(width=0.9)\n",
    "\n",
    "correlations = subset(nem_combined, xv %in% xv_list & yv %in% yv_list & !residualize)\n",
    "partial_correlations = subset(nem_combined, xv %in% xv_list & yv %in% yv_list & residualize)\n",
    "p_values = subset(nem_combined, xv %in% xv_list & yv == \"Difference: PIC vs. No. Characters\")\n",
    "p_values$sig = mapply(sig_symbol, p_values$pvalue, p_values$direction)\n",
    "\n",
    "print(nrow(correlations))\n",
    "print(nrow(partial_correlations))\n",
    "\n",
    "crosslinguistic_pic_characters = ggplot(correlations \n",
    ") + geom_bar(aes(x=languageLabel, y=singleCor, fill=yv),  stat='identity', position='dodge')  + theme(axis.text.x = element_text(angle = 45, hjust = 1)\n",
    ") + theme(panel.background = element_blank(\n",
    " ), axis.text.x = element_text(colour = \"black\"),axis.text.y = element_text(\n",
    " colour = \"black\"), axis.line.x = element_line(color=\"black\", size = .25),\n",
    "    axis.line.y = element_line(color=\"black\", size = .25)) + geom_hline(aes(yintercept = 0), linetype = 'dashed') + ylab(expression(paste(\"Spearman's \",rho))) + xlab(''\n",
    ") +  theme(legend.position=\"none\")  + geom_point(aes(x= languageLabel, y=-.55, size=numTokens)) + scale_size_area(\n",
    ") + geom_hline(aes(yintercept = -.5), size=.25) +  geom_linerange(aes(x=languageLabel, \n",
    "ymin=lower, ymax=upper, fill=yv), position=dodge, colour='gray') + scale_y_continuous( breaks = seq(.1,-5,-.1)) + scale_y_reverse(\n",
    "\n",
    "\n",
    ") + geom_errorbar(data = partial_correlations, aes(x=languageLabel,\n",
    "ymin=singleCor, ymax=singleCor, fill=yv), position='dodge') +  geom_linerange(data=partial_correlations, aes(\n",
    "x=languageLabel, ymin=lower, ymax=upper, fill=yv), position=dodge, colour='gray45'\n",
    ") + geom_text(data=subset(p_values, direction == 'lower' & !residualize), \n",
    "    aes(x=languageLabel, y=-.45, label=sig)\n",
    ") + geom_text(data=subset(p_values, direction == 'lower' & residualize),\n",
    "    aes(x=languageLabel, y=.02, label=sig)\n",
    ") + geom_text(data=subset(p_values, direction == 'higher' & !residualize),\n",
    "    aes(x=languageLabel, y=-.45, label=sig), colour='red'\n",
    ") + geom_text(data=subset(p_values, direction == 'higher' & residualize),\n",
    "    aes(x=languageLabel, y=.02, label=sig), colour='red')\n",
    "\n",
    "\n",
    "pdf('figures/crosslinguistic-pic-characters.pdf', width=10, height=5)\n",
    "print(crosslinguistic_pic_characters)\n",
    "dev.off()\n",
    "\n",
    "options(repr.plot.width=10, repr.plot.height=6, jupyter.plot_mimetypes = 'image/png')\n",
    "print(crosslinguistic_pic_characters)"
   ]
  },
  {
   "cell_type": "markdown",
   "metadata": {},
   "source": [
    "# Comparison with Piantadosi et al. (2011), with bootstrapping"
   ]
  },
  {
   "cell_type": "code",
   "execution_count": 80,
   "metadata": {},
   "outputs": [
    {
     "name": "stderr",
     "output_type": "stream",
     "text": [
      "Warning message:\n",
      "“Ignoring unknown aesthetics: fill”Warning message:\n",
      "“Ignoring unknown aesthetics: fill”Warning message:\n",
      "“Ignoring unknown aesthetics: fill”"
     ]
    },
    {
     "data": {
      "text/html": [
       "<strong>png:</strong> 2"
      ],
      "text/latex": [
       "\\textbf{png:} 2"
      ],
      "text/markdown": [
       "**png:** 2"
      ],
      "text/plain": [
       "png \n",
       "  2 "
      ]
     },
     "metadata": {},
     "output_type": "display_data"
    },
    {
     "data": {
      "image/png": "[encoded data removed]"
     },
     "metadata": {},
     "output_type": "display_data"
    }
   ],
   "source": [
    "source('ss_analysis.R')\n",
    "xv_list = c(\"Number of Characters\")\n",
    "yv_list = c(\"Unigram Surprisal\",'Trigram Surprisal')\n",
    "\n",
    "dodge <- position_dodge(width=0.9)\n",
    "correlations = subset(nem_combined, xv %in% xv_list & yv %in% yv_list & !residualize & dataset\n",
    "!= \"OPUS\")\n",
    "partial_correlations = subset(nem_combined, xv %in% xv_list & yv %in% yv_list & \n",
    "residualize & dataset != \"OPUS\")\n",
    "p_values = subset(nem_combined, xv %in% xv_list & yv == \"Difference: Unigram Surprisal - Trigram Surprisal\")\n",
    "p_values$sig = mapply(sig_symbol, p_values$pvalue, p_values$direction)\n",
    "p_values$direction[p_values$sig =='ns'] = 'higher' # makes ns red, b/c inconsistent with P11\n",
    "\n",
    "crosslinguistic_predict_len = ggplot(correlations \n",
    ") + geom_bar(aes(x=languageLabel, y=singleCor, fill=yv),  stat='identity', position='dodge'\n",
    ")  + theme(axis.text.x = element_text(angle = 45, hjust = 1)\n",
    ") + theme(panel.background = element_blank(\n",
    "), axis.text.x = element_text(colour = \"black\"),axis.text.y = element_text(\n",
    " colour = \"black\"), axis.line.x = element_line(color=\"black\", size = .25),\n",
    "    axis.line.y = element_line(color=\"black\", size = .25)) + geom_hline(aes(yintercept = 0), \n",
    "linetype = 'dashed') + ylab(expression(paste(\"Spearman's \",rho))) + xlab(''\n",
    ") +  theme(legend.position=\"none\")  + geom_point(aes(x= languageLabel, y=-.1, size=numTokens)\n",
    ") + scale_size_area(\n",
    ") + geom_hline(aes(yintercept = -.05), size=.25) +  geom_linerange(aes(x=languageLabel, \n",
    "ymin=lower, ymax=upper, fill=yv), position=dodge, colour='gray'\n",
    ") + geom_errorbar(data = subset(partial_correlations, dataset != 'OPUS'), aes(x=languageLabel,\n",
    " ymin=singleCor, ymax=singleCor, fill=yv), position='dodge') +  geom_linerange(data=subset(\n",
    "partial_correlations, dataset != 'OPUS'), aes(\n",
    " x=languageLabel, ymin=lower, ymax=upper, fill=yv), position=dodge, colour='grey45'\n",
    ") + geom_text(data=subset(p_values, direction == 'lower' & !residualize & dataset\n",
    "    != \"OPUS\"), aes(x=languageLabel, y=.35, label=sig)                                                                                            \n",
    ") + geom_text(data=subset(p_values, direction == 'higher' & !residualize & dataset \n",
    "    !=\"OPUS\"), aes(x=languageLabel, y=.35, label=sig, colour='red')\n",
    ") + geom_text(data=subset(p_values, direction == 'lower' & residualize & dataset \n",
    "    != \"OPUS\"), aes(x=languageLabel, y=-.02, label=sig)\n",
    ") + geom_text(data=subset(p_values, direction == 'higher' & residualize & dataset\n",
    "    != \"OPUS\"), aes(x=languageLabel, y=-.02, label=sig), colour='red')\n",
    "\n",
    "\n",
    "\n",
    "pdf('figures/crosslinguistic-unigramTrigramLength.pdf', width=10, height=5)\n",
    "print(crosslinguistic_predict_len)\n",
    "dev.off()\n",
    "\n",
    "# options(repr.plot.width=10, repr.plot.height=6, jupyter.plot_mimetypes = 'image/png')\n",
    "print(crosslinguistic_predict_len)"
   ]
  },
  {
   "cell_type": "markdown",
   "metadata": {},
   "source": [
    "[X]  it's set up for comparing two **sublexical** variables -- need to generalize: problem with `percentile_bootstrap_cor_diff`  invocation in `ss_analysis.R#getCorrelations()`  \n",
    "[X] Not clear what hi and low do  \n",
    "[X] NS should be red  \n",
    "[X] GB12 sizes are missing  \n",
    "[X]  pvals are missing when subsetting  \n",
    "[X]  missing frequency in xvs (just unigram surprisal)  \n",
    "[X] bootstrapped estimates are whack Use the existing PIC/length comparison to diagnose  \n",
    "    -- Estimates are correct; bootstrapped values are wrong -- was looking at a small number of points accidentally   "
   ]
  },
  {
   "cell_type": "markdown",
   "metadata": {},
   "source": [
    "# Comparison with Piantadosi et al. (2011)"
   ]
  },
  {
   "cell_type": "code",
   "execution_count": null,
   "metadata": {},
   "outputs": [],
   "source": [
    "nem_combined_google = subset(nem_combined, dataset != 'OPUS')\n",
    "col_red = \"#f37671\" #unigram ~ ss\n",
    "col_green = '#32bfc3' #  unigram ~ nchar\n",
    "col_yellow = \"#E69F00\" # trigram ~ nchar\n",
    "col_gray = \"#8a8a8a\" # trigram ~ ss"
   ]
  },
  {
   "cell_type": "code",
   "execution_count": null,
   "metadata": {},
   "outputs": [],
   "source": [
    "#(unigram ~ ss; RED) > (unigram ~ nchar; GREEN) -- Same as crosslinguistic plot\n",
    "options(repr.plot.width=10, repr.plot.height=2, jupyter.plot_mimetypes = 'image/png')\n",
    "\n",
    "p1 = ggplot(subset(nem_combined_google, ((lv == 'Unigram Surprisal' & sv == 'Number of Characters') |(lv =='Unigram Surprisal' & sv =='PIC - Characters'))\n",
    " & !residualize )) + geom_bar(aes(x=languageLabel, y=singleCor, fill=sv_lv),  stat='identity', position='dodge')   + theme(axis.text.x = element_text(angle = 45, hjust = 1)\n",
    ") + theme( axis.line = element_line(colour = \"black\"),panel.background = element_blank(\n",
    " ), axis.text.x = element_text(colour = \"black\"),axis.text.y = element_text(\n",
    " colour = \"black\"), legend.position=\"None\") + geom_hline(aes(yintercept = 0)) + ylab(expression(paste(\"Spearman's \",rho)\n",
    ")) + xlab('') + scale_x_discrete(breaks=NULL) + geom_linerange(\n",
    "    aes(x=languageLabel, ymin=lower, ymax=upper, fill=sv_lv), position=dodge, colour='gray') + scale_fill_manual(values=c(col_green, col_red))\n",
    "\n",
    "print(p1)\n",
    "#"
   ]
  },
  {
   "cell_type": "code",
   "execution_count": null,
   "metadata": {},
   "outputs": [],
   "source": [
    "#(unigram ~ ss; RED) > (trigram ~ ss; gray) #SS is more strongly linked to unigram probability\n",
    "nem_combined$sv_lv = paste(nem_combined$sv, nem_combined$lv)\n",
    "options(repr.plot.width=10, repr.plot.height=2, jupyter.plot_mimetypes = 'image/png')\n",
    "p2 = ggplot(subset(nem_combined_google, sv =='PIC - Characters' & lv %in% c('Trigram Surprisal',\n",
    "'Unigram Surprisal') & !residualize)) + geom_bar(aes(x=languageLabel, \n",
    "y=singleCor, fill=sv_lv),  stat='identity', position='dodge'\n",
    ")   + theme(axis.text.x = element_text(angle = 45, hjust = 1)\n",
    ") + theme( axis.line = element_line(colour = \"black\"),panel.background = element_blank(\n",
    "), axis.text.x = element_text(colour = \"black\"),axis.text.y = element_text(\n",
    "colour = \"black\"), legend.position=\"None\") + geom_hline(aes(yintercept = 0)) + ylab(expression(paste(\"Spearman's \",\n",
    "rho))) + xlab('') + scale_x_discrete(breaks=NULL\n",
    ") + geom_linerange(aes(x=languageLabel, ymin=lower, ymax=upper, fill=sv_lv), position=dodge, colour='gray'\n",
    ")  + scale_fill_manual( values=c(col_gray, col_red)) \n",
    "p2\n",
    "\n",
    "                       \n"
   ]
  },
  {
   "cell_type": "code",
   "execution_count": null,
   "metadata": {},
   "outputs": [],
   "source": [
    "#(unigram ~ ss; RED) > (trigram ~ nchar; YELLOW) #better than nchar ~ trigram relation\n",
    "nem_combined_google$sv_lv = paste(nem_combined_google$sv, nem_combined_google$lv)\n",
    "options(repr.plot.width=10, repr.plot.height=2, jupyter.plot_mimetypes = 'image/png')\n",
    "p3 = ggplot(subset(nem_combined_google, ((lv == 'Trigram Surprisal' & sv == 'Number of Characters') |(lv =='Unigram Surprisal' & sv =='PIC - Characters'\n",
    "))& !residualize)) + geom_bar(aes(x=languageLabel, y=singleCor, fill=sv_lv),  stat='identity', position='dodge')  + theme(axis.text.x = element_text(angle = 45, hjust = 1\n",
    ")) + scale_fill_manual( values=c(col_yellow, col_red)\n",
    ") + theme( axis.line = element_line(colour = \"black\"),panel.background = element_blank(\n",
    " ), axis.text.x = element_text(colour = \"black\"),axis.text.y = element_text(\n",
    " colour = \"black\"), legend.position=\"None\") + geom_hline(aes(yintercept = 0)) + ylab(expression(paste(\"Spearman's \",rho)\n",
    ")) + xlab('') + scale_x_discrete(breaks=NULL)  + geom_linerange(\n",
    "    aes(x=languageLabel, ymin=lower, ymax=upper, fill=sv_lv), position=dodge, colour='gray')\n",
    "p3"
   ]
  },
  {
   "cell_type": "code",
   "execution_count": null,
   "metadata": {},
   "outputs": [],
   "source": [
    "#(nchar ~ unigram; GREEN) > (nchar ~ trigram; YELLOW): P11 results don't hold except for large datasets\n",
    "options(repr.plot.width=10, repr.plot.height=4, jupyter.plot_mimetypes = 'image/png')\n",
    "p4 = ggplot(subset(nem_combined_google, ((lv == 'Unigram Surprisal' & sv == 'Number of Characters') |(lv =='Trigram Surprisal' & sv =='Number of Characters'))\n",
    "& !residualize)) + geom_bar(aes(x=languageLabel, y=singleCor, fill=sv_lv),  stat='identity', position='dodge')  + geom_linerange(\n",
    "    aes(x=languageLabel, ymin=lower, ymax=upper, fill=sv_lv), position=dodge, colour='gray'\n",
    ") + scale_fill_manual(values=c(col_yellow, col_green)) + theme(axis.text.x = element_text(angle = 45, hjust = 1)\n",
    ") + theme( axis.line = element_line(colour = \"black\"),panel.background = element_blank(\n",
    " ), axis.text.x = element_text(colour = \"black\"),axis.text.y = element_text(\n",
    " colour = \"black\"), legend.position=\"None\") + geom_hline(aes(yintercept = 0)) + ylab(expression(paste(\"Spearman's \",rho))) + xlab(''\n",
    ")  + scale_x_discrete(breaks=NULL)\n",
    "p4\n",
    "\n",
    "#pdf('figures/p11_reproduction.pdf', width=8, height=3.5)\n",
    "#print(p4)\n",
    "#dev.off()"
   ]
  },
  {
   "cell_type": "code",
   "execution_count": null,
   "metadata": {},
   "outputs": [],
   "source": [
    "#Dummy plot for labels\n",
    "options(repr.plot.width=10, repr.plot.height=3, jupyter.plot_mimetypes = 'image/png')\n",
    "p5 = ggplot(subset(nem_combined_google, ((lv == 'Unigram Surprisal' & sv == 'Number of Characters') |(lv =='Trigram Surprisal' & sv =='Number of Characters'))\n",
    "& !residualize)) + geom_bar(aes(x=languageLabel, y=singleCor, fill=sv_lv),  stat='identity', position='dodge')  + scale_fill_manual(\n",
    "values=c(col_yellow, col_green)) + theme(axis.text.x = element_text(angle = 45, hjust = 1)\n",
    ") + theme( axis.line = element_line(colour = \"black\"),panel.background = element_blank(\n",
    " ), axis.text.x = element_text(colour = \"black\"),axis.text.y = element_text(\n",
    " colour = \"black\"), legend.position=\"None\") + geom_hline(aes(yintercept = 0)) + ylab('Correlation') + xlab('') + ylab(''\n",
    ")+ geom_linerange(aes(x=languageLabel, ymin=lower, ymax=upper, fill=sv_lv), position=dodge, colour='gray')\n",
    "p5"
   ]
  },
  {
   "cell_type": "code",
   "execution_count": null,
   "metadata": {},
   "outputs": [],
   "source": [
    "#tile p1 - p4 vertically\n",
    "options(repr.plot.width=6, repr.plot.height=5, jupyter.plot_mimetypes = 'image/png')\n",
    "mp = multiplot(p2, p3, p4, p5, cols=1) # p2, p3, p4,p5,\n",
    "\n",
    "pdf('figures/comparison_with_p11_results.pdf', width=6, height=8)\n",
    "multiplot(p1, p2, p3, p4, p5, cols=1)\n",
    "dev.off() "
   ]
  },
  {
   "cell_type": "markdown",
   "metadata": {},
   "source": [
    "# Plotting PIC, holding Length Constant  "
   ]
  },
  {
   "cell_type": "code",
   "execution_count": null,
   "metadata": {},
   "outputs": [],
   "source": [
    "target_length = 8\n",
    "eng = subset(books2012_withoutEndMarker[[which(books2012_languages == 'eng-all')]][['df']], !is.infinite(unigramSurprisal))\n",
    "eng$logFrequency = log(eng$frequency)\n",
    "#sample based on the frequency quantile\n",
    "eng$freq_group =  ceiling(ecdf(eng$ipa_ss)(eng$ipa_ss)*50)\n",
    "eng$ipa_ss_bits = -1 *log(10**(-1*eng$ipa_ss), base=2)\n",
    "\n",
    "df = subset(eng, ipa_n == target_length+1 & ortho_n == target_length) #ipa lengths are off by one because of the end marker\n",
    "df$length = target_length\n",
    "dataset = do.call('rbind', lapply(split(df, df$freq_group), function(sub_df){\n",
    "    return(sub_df[sample(1:nrow(sub_df),1),])\n",
    "}))\n",
    "print(dataset$word)"
   ]
  },
  {
   "cell_type": "code",
   "execution_count": null,
   "metadata": {},
   "outputs": [],
   "source": [
    "#remo = function(d){gsub(\"(^|[^0-9])0+\", \"\\\\1\", d, perl = TRUE)}\n",
    "getCor  = function(df){\n",
    "    spearmans_at_length = cor(df$frequency, df$ipa_ss)\n",
    "    return(paste(\"rho ==\", round(spearmans_at_length, 3)))\n",
    "}\n",
    "enc_cors = ddply(subset(eng, ipa_n > 2 & ipa_n <= 14),.(ipa_n),getCor)\n",
    "enc_cors$y_position = 15\n",
    "enc_cors$y_position[which(enc_cors$ipa_n > 10)] = 4"
   ]
  },
  {
   "cell_type": "code",
   "execution_count": null,
   "metadata": {},
   "outputs": [],
   "source": [
    "options(repr.plot.width=6, repr.plot.height=3)\n",
    "p1 = ggplot(subset(eng, ipa_n > 2 & ipa_n <= 14)) + geom_bin2d(aes(x=log(frequency),y=ipa_ss)) + facet_wrap(~ipa_n, nrow=2,\n",
    ") + theme_bw() + theme(legend.position=\"none\")\n",
    "p1 = p1 + geom_text(data=enc_cors,aes(x = 15, y = y_position,label=V1), parse = TRUE, inherit.aes=FALSE, colour='red')\n",
    "\n",
    "p1 = p1 + xlab('Log Frequency') + ylab('PIC') + ggtitle('PIC vs. Log Frequency by Word Length')\n",
    "print(p1)\n",
    "\n",
    "pdf('figures/pic_log_freq_word_length.pdf', width=8, height=4)\n",
    "print(p1)\n",
    "dev.off()\n",
    "\n"
   ]
  },
  {
   "cell_type": "code",
   "execution_count": null,
   "metadata": {},
   "outputs": [],
   "source": [
    "df = subset(eng, ipa_n==target_length)\n",
    "spearmans_at_length = cor(df$ipa_ss, df$frequency, method = 'spearman')"
   ]
  },
  {
   "cell_type": "code",
   "execution_count": null,
   "metadata": {},
   "outputs": [],
   "source": [
    "label1 = paste(\"Spearmans~rho ==\", round(spearmans_at_length, 3))\n",
    "print(label1)"
   ]
  },
  {
   "cell_type": "code",
   "execution_count": null,
   "metadata": {},
   "outputs": [],
   "source": [
    "options(repr.plot.width=5, repr.plot.height=5, jupyter.plot_mimetypes = 'image/png')\n",
    "dfss_lengthConstant = ggplot(data=subset(eng, ipa_n==target_length)) + geom_point(aes(x=log(frequency),y=ipa_ss_bits),colour='gray',\n",
    "alpha=.2) + geom_point(data =dataset, aes(x=log(frequency), y=ipa_ss_bits)) +xlab(bquote('Log Frequency'))  + ylab(\n",
    "'Phonological Information Content (PIC, in bits)') + theme_bw() + theme(panel.grid.major = element_blank(), panel.grid.minor = element_blank(),\n",
    "panel.background = element_blank(), axis.line = element_line(colour = \"black\")) + geom_text(\n",
    "data=dataset, aes(x=log(frequency), y=ipa_ss_bits, label=word)) + coord_cartesian(xlim=c(10,20)\n",
    ") + annotate(\"text\", label = label1, x = 17.7, y = 40, colour = \"red\", parse=T)\n",
    "\n",
    "\n",
    "pdf('figures/dfss_lengthConstant.pdf', width=6, height=6)\n",
    "print(dfss_lengthConstant)\n",
    "dev.off() \n",
    "\n",
    "options(repr.plot.width=6, repr.plot.height=6, jupyter.plot_mimetypes = 'image/png')\n",
    "print(dfss_lengthConstant)"
   ]
  },
  {
   "cell_type": "markdown",
   "metadata": {},
   "source": [
    "# Monomorphemic Words From CELEX"
   ]
  },
  {
   "cell_type": "code",
   "execution_count": null,
   "metadata": {},
   "outputs": [],
   "source": [
    "languages = c('ENGLISH','DUTCH', 'GERMAN')\n",
    "monomorphemic_withoutEndMarker = lapply(languages, function(language){getScoresForLanguage('/shared_hd2/models/ss/10-17-17_GoogleUnigram', 'Google1T','25000',language, endMarker=T,  corMethod='spearman', opusFilter=T, morphSimple=T)})"
   ]
  },
  {
   "cell_type": "code",
   "execution_count": null,
   "metadata": {},
   "outputs": [],
   "source": [
    "options(repr.plot.width=4, repr.plot.height=4, jupyter.plot_mimetypes = 'image/png')\n",
    "nem_monomorph = do.call('rbind', lapply(monomorphemic_withoutEndMarker, function(x){x$score}))\n",
    "lv_list = c(\"frequency\")\n",
    "sv_list = c(\"ortho_n\",\"ipa_ss\")\n",
    "dodge <- position_dodge(width=0.9)\n",
    "ggplot(subset(nem_monomorph, lv %in% lv_list & sv %in% sv_list)) + geom_bar(aes(x=language, y=singleCor, fill=sv),  stat='identity', position='dodge')  + theme(axis.text.x = element_text(angle = 45, hjust = 1)\n",
    ")+ scale_y_continuous( breaks = seq(.1,-5,-.1)) + scale_y_reverse(\n",
    ") + theme_bw() + ylab(expression(paste(\"Spearman's \",rho))) + xlab(''\n",
    " ) +  theme(legend.position=\"none\") +  geom_linerange(aes(x=language,  ymin=lower, ymax=upper, fill=sv), position=dodge, colour='gray') "
   ]
  },
  {
   "cell_type": "code",
   "execution_count": null,
   "metadata": {},
   "outputs": [],
   "source": [
    "languages = c('en','nl', 'de')\n",
    "monomorph_token_withoutEndMarker = lapply(languages, function(language){getScoresForLanguage('/shared_hd2/models/ss/10-17-17_GoogleUnigram', 'OPUS','25000',language, endMarker=T,  corMethod='spearman', opusFilter=T, morphSimple=T)})"
   ]
  },
  {
   "cell_type": "code",
   "execution_count": null,
   "metadata": {},
   "outputs": [],
   "source": [
    "options(repr.plot.width=4, repr.plot.height=4, jupyter.plot_mimetypes = 'image/png')\n",
    "token_nem_monomorph = do.call('rbind', lapply(monomorph_token_withoutEndMarker, function(x){x$score}))\n",
    "lv_list = c(\"frequency\")\n",
    "sv_list = c(\"ortho_n\",\"ipa_ss\",'token_ipa_ss')\n",
    "dodge <- position_dodge(width=0.9)\n",
    "ggplot(subset(token_nem_monomorph, lv %in% lv_list & sv %in% sv_list)) + geom_bar(aes(x=language, y=singleCor, fill=sv),  stat='identity', position='dodge')  + theme(axis.text.x = element_text(angle = 45, hjust = 1)\n",
    ")+ scale_y_continuous( breaks = seq(.1,-5,-.1)) + scale_y_reverse(\n",
    ") + theme_bw() + ylab(expression(paste(\"Spearman's \",rho))) + xlab(''\n",
    " ) +  theme(legend.position=\"none\") +  geom_linerange(aes(x=language,  ymin=lower, ymax=upper, fill=sv), position=dodge, colour='gray') "
   ]
  },
  {
   "cell_type": "markdown",
   "metadata": {},
   "source": [
    "# OPUS: Token-weighted Models"
   ]
  },
  {
   "cell_type": "code",
   "execution_count": null,
   "metadata": {},
   "outputs": [],
   "source": [
    "source('ss_analysis.R')\n",
    "opus_languages = c('en','ru','he','de','fr','es','cs','pt', 'pl','ro','sv','it','nl')\n",
    "token_opus_withoutEndMarker = lapply(1:length(opus_languages), function(i){getScoresForLanguage('token_results','OPUS','25000',opus_languages[i], endMarker=F,  corMethod='spearman', opusFilter=T)})\n",
    "names(token_opus_withoutEndMarker) = opus_languages"
   ]
  },
  {
   "cell_type": "code",
   "execution_count": null,
   "metadata": {},
   "outputs": [],
   "source": [
    "unique(token_opus_withoutEndMarker[[1]]$score)"
   ]
  },
  {
   "cell_type": "code",
   "execution_count": null,
   "metadata": {},
   "outputs": [],
   "source": [
    "token_opus_corpusCounts = do.call('rbind',lapply(token_opus_withoutEndMarker, function(language){\n",
    "    numTokens = sum(as.numeric(language[['df']]$frequency), na.rm=T)\n",
    "    numTokens_pretty = format(numTokens, big.mark=\",\", scientific=F)\n",
    "    analysisCount = nrow(language[['df']])\n",
    "    language= language[['df']]$language[1]\n",
    "    return(data.frame(language, numTokens, numTokens_pretty, analysisCount, stringsAsFactors=F))\n",
    "}))\n",
    "token_opus_corpusCounts"
   ]
  },
  {
   "cell_type": "code",
   "execution_count": null,
   "metadata": {},
   "outputs": [],
   "source": [
    "token_opus.nem = do.call('rbind', lapply(token_opus_withoutEndMarker, function(x){x$score}))\n",
    "token_opus.nem = subset(token_opus.nem, sv %in% c('ipa_ss', 'ipa_n','character_ss','ortho_n','token_character_ss','token_ipa_ss','token_character_ss-ortho_n','token_ipa_ss-ipa_n'))\n",
    "#opus.nem$sv = factor(opus.nem$sv, levels=c('ipa_ss','character_ss','ipa_n','ortho_n'))\n",
    "#Better word-level metric names\n",
    "token_opus.nem$sv = factor(token_opus.nem$sv)\n",
    "levels(token_opus.nem$sv)[levels(token_opus.nem$sv)==\"ipa_ss\"] = \"PIC - Phonemes\"\n",
    "levels(token_opus.nem$sv)[levels(token_opus.nem$sv)==\"token_ipa_ss\"] = \"PIC - Phonemes (tokens)\"\n",
    "levels(token_opus.nem$sv)[levels(token_opus.nem$sv)==\"ipa_n\"] = \"Number of Phonemes\"\n",
    "levels(token_opus.nem$sv)[levels(token_opus.nem$sv)==\"token_ipa_ss-ipa_n\"] = \"Difference: PIC (tokens) vs. No. Phonemes\"\n",
    "levels(token_opus.nem$sv)[levels(token_opus.nem$sv)==\"character_ss\"] = \"PIC - Characters\"\n",
    "levels(token_opus.nem$sv)[levels(token_opus.nem$sv)==\"token_character_ss\"] = \"PIC - Characters (tokens)\"\n",
    "levels(token_opus.nem$sv)[levels(token_opus.nem$sv)==\"ortho_n\"] = \"Number of Characters\"\n",
    "levels(token_opus.nem$sv)[levels(token_opus.nem$sv)==\"token_character_ss-ortho_n\"] = \"Difference: PIC (tokens) vs. No. Characters\"\n",
    "\n",
    "\n",
    "token_opus.nem$lv = factor(token_opus.nem$lv)\n",
    "levels(token_opus.nem$lv)[levels(token_opus.nem$lv)==\"unigramSurprisal\"] = \"Unigram Surprisal\"\n",
    "levels(token_opus.nem$lv)[levels(token_opus.nem$lv)==\"trigramSurprisal\"] = \"Trigram Surprisal\"\n",
    "levels(token_opus.nem$lv)[levels(token_opus.nem$lv)==\"frequency\"] = \"Frequency\"\n",
    "\n",
    "token_opus.nem = merge(token_opus.nem,token_opus_corpusCounts, by='language')\n",
    "token_opus.nem$sv = factor(token_opus.nem$sv, levels=c('PIC - Phonemes',\"PIC - Phonemes (tokens)\",\"Difference: PIC (tokens) vs. No. Phonemes\",'Number of Phonemes',\"PIC - Characters\",\"PIC - Characters (tokens)\",\"Difference: PIC (tokens) vs. No. Characters\",\"Number of Characters\"))\n",
    "token_opus.nem$lv = factor(token_opus.nem$lv, levels=c(\"Unigram Surprisal\",\"Trigram Surprisal\",\"Frequency\"))\n",
    "token_opus.nem$language = as.factor(sapply(token_opus.nem$language, simpleCap))\n",
    "token_opus.nem$languageCount = sapply(1:length(token_opus.nem$language), function(x){paste0(token_opus.nem$language[x], ' (', round(token_opus.nem$numTokens[x] / 1000000,0),'m)' )})\n",
    "token_opus.nem$languageLabel = paste('OPUS:', token_opus.nem$languageCount)"
   ]
  },
  {
   "cell_type": "code",
   "execution_count": null,
   "metadata": {},
   "outputs": [],
   "source": [
    "token_opus.nem"
   ]
  },
  {
   "cell_type": "code",
   "execution_count": null,
   "metadata": {},
   "outputs": [],
   "source": [
    "token_opus_datasets = do.call('rbind',lapply(token_opus_withoutEndMarker, function(x){\n",
    "    rdf = x$score\n",
    "    rdf$language = x$df$language[1]    \n",
    "    return(rdf)\n",
    "}))\n",
    "token_opus_datasets$dataset = 'OPUS'       \n",
    "token_opus_datasets$dataset_language = paste0(token_opus_datasets$dataset, ': ', token_opus_datasets$language)"
   ]
  },
  {
   "cell_type": "code",
   "execution_count": null,
   "metadata": {},
   "outputs": [],
   "source": [
    "source('ss_analysis.R')"
   ]
  },
  {
   "cell_type": "code",
   "execution_count": null,
   "metadata": {},
   "outputs": [],
   "source": [
    "lv_list = c(\"Frequency\")\n",
    "sv_list = c(\"PIC - Phonemes (tokens)\",\"Number of Phonemes\")\n",
    "dodge <- position_dodge(width=0.9)\n",
    "\n",
    "correlations = subset(token_opus.nem, lv %in% lv_list & sv %in% sv_list & !residualize)\n",
    "partial_correlations = subset(token_opus.nem, lv %in% lv_list & sv %in% sv_list & residualize & resid_var %in% c('ipa_n','token_ipa_ss'))\n",
    "p_values = subset(token_opus.nem, lv %in% lv_list & sv == \"Difference: PIC (tokens) vs. No. Phonemes\")\n",
    "\n",
    "p_values$sig = mapply(sig_symbol, p_values$pvalue, p_values$direction)\n",
    "\n",
    "\n"
   ]
  },
  {
   "cell_type": "code",
   "execution_count": null,
   "metadata": {},
   "outputs": [],
   "source": [
    "crosslinguistic_pic_phonemes_tokens = ggplot(correlations \n",
    ") + geom_bar(aes(x=languageLabel, y=singleCor, fill=sv),  stat='identity', position='dodge')  + theme(axis.text.x = element_text(angle = 45, hjust = 1)\n",
    ") + theme(panel.background = element_blank(\n",
    " ), axis.text.x = element_text(colour = \"black\"),axis.text.y = element_text(\n",
    " colour = \"black\"), axis.line.x = element_line(color=\"black\", size = .25),\n",
    "    axis.line.y = element_line(color=\"black\", size = .25)) + geom_hline(aes(yintercept = 0), linetype = 'dashed') + ylab(expression(paste(\"Spearman's \",rho))) + xlab(''\n",
    ") +  theme(legend.position=\"none\") + geom_point(aes(x= languageLabel, y=-.72, size=numTokens)) + scale_size_area(\n",
    " ) + geom_hline(aes(yintercept = -.67), size=.25) +  geom_linerange(aes(x=languageLabel, \n",
    " ymin=lower, ymax=upper, fill=sv), position=dodge, colour='gray') + scale_y_continuous( breaks = seq(.1,-5,-.1)) + scale_y_reverse(\n",
    ") + geom_errorbar(data = partial_correlations, aes(x=languageLabel,\n",
    "ymin=singleCor, ymax=singleCor, fill=sv), position='dodge') +  geom_linerange(data=partial_correlations, aes(\n",
    "x=languageLabel, ymin=lower, ymax=upper, fill=sv), position=dodge, colour='grey45'\n",
    ") + geom_text(data=subset(p_values, direction == 'lower' & !residualize), aes(x=languageLabel, y=-.21, label=sig)\n",
    ") + geom_text(data=subset(p_values, direction == 'lower' & residualize), aes(x=languageLabel, y=.02, label=sig)\n",
    " )# + geom_text(data=subset(p_values, direction == 'higher' & !residualize), aes(x=languageLabel, y=-.27, label=sig), colour='red'\n",
    " #) + geom_text(data=subset(p_values, direction == 'higher' & residualize), aes(x=languageLabel, y=.02, label=sig), colour='red')\n",
    "\n",
    "\n",
    "pdf('figures/crosslinguistic-pic-phonemes-tokens.pdf', width=10, height=5)\n",
    "print(crosslinguistic_pic_phonemes_tokens)\n",
    "dev.off()\n",
    "\n",
    " options(repr.plot.width=10, repr.plot.height=6, jupyter.plot_mimetypes = 'image/png')\n",
    "print(crosslinguistic_pic_phonemes_tokens)"
   ]
  },
  {
   "cell_type": "code",
   "execution_count": null,
   "metadata": {},
   "outputs": [],
   "source": [
    "subset(partial_correlations, language == 'German')"
   ]
  },
  {
   "cell_type": "code",
   "execution_count": null,
   "metadata": {},
   "outputs": [],
   "source": [
    "#[ ] what is going on with the german residual scores? Was this present in previous token-weighted models?\n",
    "#token_opus_withoutEndMarker"
   ]
  },
  {
   "cell_type": "code",
   "execution_count": null,
   "metadata": {},
   "outputs": [],
   "source": [
    "#save.image('cross-linguistic-pic.RData')"
   ]
  }
 ],
 "metadata": {
  "kernelspec": {
   "display_name": "R",
   "language": "R",
   "name": "ir"
  },
  "language_info": {
   "codemirror_mode": "r",
   "file_extension": ".r",
   "mimetype": "text/x-r-source",
   "name": "R",
   "pygments_lexer": "r",
   "version": "3.4.4"
  }
 },
 "nbformat": 4,
 "nbformat_minor": 1
}
